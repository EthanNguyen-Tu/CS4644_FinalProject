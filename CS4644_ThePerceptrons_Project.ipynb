{
  "cells": [
    {
      "cell_type": "markdown",
      "metadata": {
        "id": "msqMETf9v8BQ"
      },
      "source": [
        "# CS 4644: The Perceptrons"
      ]
    },
    {
      "cell_type": "markdown",
      "metadata": {
        "id": "UclH4IOAiCOC"
      },
      "source": [
        "## Part 1: Setup"
      ]
    },
    {
      "cell_type": "markdown",
      "metadata": {
        "id": "Mfi8AGpbaMdv"
      },
      "source": [
        "##### STEP 1: Mount Google Drive and Set Device for Google Colab"
      ]
    },
    {
      "cell_type": "code",
      "execution_count": null,
      "metadata": {
        "colab": {
          "base_uri": "https://localhost:8080/"
        },
        "id": "98Dh2KUzaLzy",
        "outputId": "dbb54563-8e2e-4712-db80-9fd6bb9c2a9c"
      },
      "outputs": [
        {
          "output_type": "stream",
          "name": "stdout",
          "text": [
            "Mounted at /content/drive\n"
          ]
        }
      ],
      "source": [
        "from google.colab import drive\n",
        "drive.mount('/content/drive')"
      ]
    },
    {
      "cell_type": "code",
      "execution_count": null,
      "metadata": {
        "id": "iq1fFuJ2ZBPa"
      },
      "outputs": [],
      "source": [
        "drive_path = \"drive/MyDrive\" # NOTE: Separated so that colab can access the '.kaggle' folder in your Google Drive for Kaggle API authentication\n",
        "project_folder = drive_path + \"/CS4644_FinalProject\""
      ]
    },
    {
      "cell_type": "markdown",
      "metadata": {
        "id": "WchPaj4nsHV6"
      },
      "source": [
        "##### STEP 2: All Imports"
      ]
    },
    {
      "cell_type": "code",
      "execution_count": null,
      "metadata": {
        "id": "Vki7EovtFxoz"
      },
      "outputs": [],
      "source": [
        "import numpy as np\n",
        "import pandas as pd\n",
        "import os\n",
        "import zipfile\n",
        "import matplotlib.pyplot as plt\n",
        "from tqdm import tqdm\n",
        "from torchvision import datasets, transforms, models\n",
        "from PIL import Image"
      ]
    },
    {
      "cell_type": "code",
      "source": [
        "import torch\n",
        "import torch.optim as optim\n",
        "from torch.utils.data import DataLoader\n",
        "import torch.nn as nn"
      ],
      "metadata": {
        "id": "gq69Bg1hqCjI"
      },
      "execution_count": null,
      "outputs": []
    },
    {
      "cell_type": "code",
      "source": [
        "from keras import layers\n",
        "from keras import models\n",
        "from keras import backend as K\n",
        "from tensorflow.keras.utils import to_categorical"
      ],
      "metadata": {
        "id": "k_TKnuKso65N"
      },
      "execution_count": null,
      "outputs": []
    },
    {
      "cell_type": "markdown",
      "source": [
        "##### STEP 3: Seed for Reproducability"
      ],
      "metadata": {
        "id": "SjUsLD0BCRS6"
      }
    },
    {
      "cell_type": "code",
      "source": [
        "SEED = 8\n",
        "np.random.seed(SEED)\n",
        "torch.manual_seed(SEED)"
      ],
      "metadata": {
        "colab": {
          "base_uri": "https://localhost:8080/"
        },
        "id": "0zw0MhN7CewR",
        "outputId": "7323d33d-bd31-432b-9173-7e89cd1963ac"
      },
      "execution_count": null,
      "outputs": [
        {
          "output_type": "execute_result",
          "data": {
            "text/plain": [
              "<torch._C.Generator at 0x7f83925b3210>"
            ]
          },
          "metadata": {},
          "execution_count": 6
        }
      ]
    },
    {
      "cell_type": "markdown",
      "source": [
        "##### STEP 4: General Helper Functions"
      ],
      "metadata": {
        "id": "T1RCFPwOxOZT"
      }
    },
    {
      "cell_type": "code",
      "source": [
        "def loss_valid_comp(loss, accuracy, epochs, prefix='Training'):\n",
        "  fig, ax = plt.subplots()\n",
        "\n",
        "  # Plot Loss\n",
        "  ax.set_xlabel('Epoch')\n",
        "  ax.set_ylabel(' '.join([prefix,'Loss (%)']), color='tab:red')\n",
        "  ax.plot(epochs, loss * 100, color='tab:red', label=' '.join([prefix,'Loss']))\n",
        "  ax.tick_params(axis='y', labelcolor='tab:red')\n",
        "\n",
        "  # Plot Validation Accuracy\n",
        "  ax = ax.twinx()\n",
        "  ax.set_xlabel('Epoch')\n",
        "  ax.set_ylabel(' '.join([prefix,'Accuracy (%)']), color='tab:blue')\n",
        "  ax.plot(epochs, accuracy * 100, color='tab:blue', label=' '.join([prefix,'Accuracy']))\n",
        "  ax.tick_params(axis='y', labelcolor='tab:blue')\n",
        "\n",
        "  # Title and Layout\n",
        "  plt.suptitle(' '.join([prefix,'Loss and Accuracy Percentages over Epochs']))\n",
        "  fig.tight_layout()\n",
        "\n",
        "  # Show plot\n",
        "  plt.show()"
      ],
      "metadata": {
        "id": "dbvjoUURgHk5"
      },
      "execution_count": null,
      "outputs": []
    },
    {
      "cell_type": "code",
      "source": [
        "def model_comparison(model1_name, model1_loss, model1_accuracy, model2_name, model2_loss, model2_accuracy, prefix=\"Training\"):\n",
        "\n",
        "  loss_diff = abs(model1_loss - model2_loss)\n",
        "  val_diff = abs(model1_accuracy - model2_accuracy)\n",
        "  print(\"Loss Difference:\\n\", loss_diff)\n",
        "  print(\"Max Loss Difference:\", max(loss_diff))\n",
        "  print(\"Accuracy Difference:\\n\", val_diff)\n",
        "  print(\"Max Accuracy Difference:\", max(val_diff))\n",
        "\n",
        "  plt.figure(figsize=(12, 5))\n",
        "\n",
        "  plt.subplot(1, 2, 1)\n",
        "  plt.plot(model1_loss, label=' '.join([model1_name, prefix, 'Loss']))\n",
        "  plt.plot(model2_loss, label=' '.join([model2_name, prefix, 'Loss']))\n",
        "  plt.xlabel('Epochs')\n",
        "  plt.ylabel('Loss')\n",
        "  plt.legend()\n",
        "  plt.title(' '.join([model1_name, 'vs.', model2_name, 'Loss Curves']))\n",
        "\n",
        "  plt.subplot(1, 2, 2)\n",
        "  plt.plot(model1_accuracy, label=' '.join([model1_name, prefix, 'Accuracy']))\n",
        "  plt.plot(model2_accuracy, label=' '.join([model2_name, prefix, 'Accuracy']))\n",
        "  plt.xlabel('Epochs')\n",
        "  plt.ylabel('Accuracy')\n",
        "  plt.legend()\n",
        "  plt.title(' '.join([model1_name, 'vs.', model2_name, 'Accuracy Curves']))\n",
        "\n",
        "  plt.tight_layout()\n",
        "  plt.show()"
      ],
      "metadata": {
        "id": "2mep2pv-pvg1"
      },
      "execution_count": null,
      "outputs": []
    },
    {
      "cell_type": "code",
      "source": [
        "def train_torch(model, optimizer=None, criterion = nn.BCEWithLogitsLoss(), learning_rate=1e-4):\n",
        "  model.to(DEVICE)\n",
        "\n",
        "  if not optimizer:\n",
        "    optimizer = optim.Adam(model.parameters(), lr=learning_rate)\n",
        "\n",
        "  train_losses = []\n",
        "  train_accuracies = []\n",
        "\n",
        "  val_losses = []\n",
        "  val_accuracies = []\n",
        "\n",
        "  for epoch in range(EPOCHS):\n",
        "\n",
        "      model.train()\n",
        "\n",
        "      train_correct = 0\n",
        "      train_total = 0\n",
        "      train_running_loss = 0.0\n",
        "\n",
        "      for imgs, labels in train_loader:\n",
        "\n",
        "          # STEP: Send tensors to device\n",
        "          imgs = imgs.to(DEVICE)\n",
        "          labels = labels.float().unsqueeze(1).to(DEVICE)\n",
        "\n",
        "          optimizer.zero_grad()\n",
        "\n",
        "          outputs = model(imgs)\n",
        "          loss = criterion(outputs, labels)\n",
        "\n",
        "          loss.backward()\n",
        "          optimizer.step()\n",
        "\n",
        "          # STEP: Calculate training loss\n",
        "          train_running_loss += loss.item()\n",
        "\n",
        "          # STEP: Calculate training accuracy\n",
        "          predictions = torch.sigmoid(outputs).round()\n",
        "          train_correct += (predictions.squeeze() == labels.squeeze()).sum().item()\n",
        "          train_total += labels.size(0)\n",
        "\n",
        "      # STEP: Calculate average training metrics\n",
        "      avg_train_loss = train_running_loss / len(train_loader)\n",
        "      train_losses.append(avg_train_loss)\n",
        "\n",
        "      avg_train_acc = train_correct / train_total\n",
        "      train_accuracies.append(avg_train_acc)\n",
        "\n",
        "\n",
        "\n",
        "      model.eval()\n",
        "\n",
        "      val_correct = 0\n",
        "      val_total = 0\n",
        "      val_running_loss = 0.0\n",
        "\n",
        "      with torch.no_grad():\n",
        "          for imgs, labels in val_loader:\n",
        "              # STEP: Send tensors to device\n",
        "              imgs = imgs.to(DEVICE)\n",
        "              labels = labels.float().unsqueeze(1).to(DEVICE)\n",
        "\n",
        "              outputs = model(imgs)\n",
        "\n",
        "              # STEP: Calculate validation loss\n",
        "              val_loss = criterion(outputs, labels)\n",
        "              val_running_loss += val_loss.item()\n",
        "\n",
        "              # STEP: Calculate validation accuracy\n",
        "              predictions = torch.sigmoid(outputs).round()\n",
        "              val_correct += (predictions.squeeze() == labels.squeeze()).sum().item()\n",
        "              val_total += labels.size(0)\n",
        "\n",
        "      # STEP: Calculate average validation metrics\n",
        "      avg_val_loss = val_running_loss / len(val_loader)\n",
        "      val_losses.append(avg_val_loss)\n",
        "\n",
        "      avg_val_acc = val_correct / val_total\n",
        "      val_accuracies.append(avg_val_acc)\n",
        "\n",
        "\n",
        "\n",
        "      # STEP: Output Progress\n",
        "      print(f\"Epoch {epoch+1}/{EPOCHS} — accuracy: {avg_train_acc:.4f} - loss: {avg_train_loss:.4f} - val_accuracy {avg_val_acc:.4f} - val_loss: {avg_val_loss:.4f}\")\\\n",
        "\n",
        "  return train_losses, train_accuracies, val_losses, val_accuracies"
      ],
      "metadata": {
        "id": "Cb0Pjyc3cqEJ"
      },
      "execution_count": null,
      "outputs": []
    },
    {
      "cell_type": "markdown",
      "metadata": {
        "id": "lVSX2a4wFShw"
      },
      "source": [
        "## PART 2: Load the Datasets"
      ]
    },
    {
      "cell_type": "code",
      "execution_count": null,
      "metadata": {
        "id": "uue85utAU-II"
      },
      "outputs": [],
      "source": [
        "def zip_to_colab(zip_file_path, extract_dir_name):\n",
        "  extract_dir = '/content/' + extract_dir_name + \"/\"\n",
        "  os.makedirs(extract_dir, exist_ok=True)\n",
        "  before_file_count = len(os.listdir(extract_dir))\n",
        "\n",
        "  with zipfile.ZipFile(zip_file_path, 'r') as zip_ref:\n",
        "      zip_ref.extractall(extract_dir)\n",
        "\n",
        "  files_extracted = len(os.listdir(extract_dir)) - before_file_count\n",
        "  print(f\"Files from {zip_file_path} extracted to: {extract_dir}\")\n",
        "  print(\"Number of files extracted:\", files_extracted)\n",
        "  return files_extracted"
      ]
    },
    {
      "cell_type": "markdown",
      "source": [
        "##### STEP 1: Load the \"Human Faces\" Dataset\n",
        "\n",
        "Dataset Source: [\"Human Faces\" by Ashwin Gupta](https://www.kaggle.com/datasets/ashwingupta3012/human-faces/data)"
      ],
      "metadata": {
        "id": "yNIzKI3mTyaX"
      }
    },
    {
      "cell_type": "code",
      "source": [
        "# zip_to_colab(project_folder + '/HumanFacesCleaned.zip', \"HumanFacesImages\")\n",
        "# HUMANFACES_IMAGE_EXTENSIONS = {'.png', '.JPG', '.jpeg', '.jpg'}"
      ],
      "metadata": {
        "id": "8r1Y-1XJUBEv"
      },
      "execution_count": null,
      "outputs": []
    },
    {
      "cell_type": "markdown",
      "source": [
        "##### STEP 2: Load the \"Fake-Vs-Real-Faces (Hard)\" Dataset\n",
        "\n",
        "Dataset Source: [\"Fake-Vs-Real-Faces (Hard)\" by Hamza Boulahi](https://www.kaggle.com/datasets/hamzaboulahia/hardfakevsrealfaces)"
      ],
      "metadata": {
        "id": "imnIk_fNUG2d"
      }
    },
    {
      "cell_type": "code",
      "source": [
        "file_count = zip_to_colab(project_folder + '/RealImages.zip', 'FakeVsRealFacesImages')\n",
        "file_count += zip_to_colab(project_folder + '/FakeImages.zip', 'FakeVsRealFacesImages')\n",
        "assert len(os.listdir('/content/FakeVsRealFacesImages/')) == file_count # Check to make sure no files were overridden"
      ],
      "metadata": {
        "colab": {
          "base_uri": "https://localhost:8080/"
        },
        "id": "UZ86uVi5T6SV",
        "outputId": "63eb143e-e848-4fa6-bd0a-c9884a935b29"
      },
      "execution_count": null,
      "outputs": [
        {
          "output_type": "stream",
          "name": "stdout",
          "text": [
            "Files from drive/MyDrive/CS4644_FinalProject/RealImages.zip extracted to: /content/FakeVsRealFacesImages/\n",
            "Number of files extracted: 589\n",
            "Files from drive/MyDrive/CS4644_FinalProject/FakeImages.zip extracted to: /content/FakeVsRealFacesImages/\n",
            "Number of files extracted: 700\n"
          ]
        }
      ]
    },
    {
      "cell_type": "code",
      "source": [
        "FAKEVREAL_IMAGE_EXTENSIONS = {'.jpg'}\n",
        "FAKEVREAL_IMAGE_PATH = '/content/FakeVsRealFacesImages/'"
      ],
      "metadata": {
        "id": "vlE6VHVW67mS"
      },
      "execution_count": null,
      "outputs": []
    },
    {
      "cell_type": "markdown",
      "source": [
        "## PART 3: Separate Data Into Test and Train Sets"
      ],
      "metadata": {
        "id": "-msUP7QX_kQE"
      }
    },
    {
      "cell_type": "code",
      "source": [
        "def inspect_df(dataframe, rows=10):\n",
        "  count_real = dataframe[dataframe['label'] == 1].shape[0]\n",
        "  count_fake = dataframe[dataframe['label'] == 0].shape[0]\n",
        "  assert count_real + count_fake == dataframe.shape[0]\n",
        "  print(\"# of Real Images:\", count_real)\n",
        "  print(\"# of Fake Images:\", count_fake)\n",
        "  print(\"% Real:\", (100 * count_real) // dataframe.shape[0])\n",
        "  print(\"% Fake:\", (100 * count_fake) // dataframe.shape[0])\n",
        "  return dataframe.sample(frac=1, random_state=SEED).head(rows)"
      ],
      "metadata": {
        "id": "CuPVE-CEF8Wf"
      },
      "execution_count": null,
      "outputs": []
    },
    {
      "cell_type": "markdown",
      "source": [
        "Step 1: Load the dataset labels into a dataframe."
      ],
      "metadata": {
        "id": "FEPz2fM9BwGO"
      }
    },
    {
      "cell_type": "code",
      "source": [
        "df_RealVFake = pd.read_csv(project_folder + \"/RealVFakeLabels.csv\")\n",
        "df_RealVFake.head(10)"
      ],
      "metadata": {
        "colab": {
          "base_uri": "https://localhost:8080/"
        },
        "id": "dtkFbEr_BkSc",
        "outputId": "e9e8581d-b426-4de3-99dd-aec3c332054d"
      },
      "execution_count": null,
      "outputs": [
        {
          "output_type": "execute_result",
          "data": {
            "text/plain": [
              "  images_id label\n",
              "0    real_1  real\n",
              "1   real_10  real\n",
              "2  real_100  real\n",
              "3  real_101  real\n",
              "4  real_102  real\n",
              "5  real_103  real\n",
              "6  real_104  real\n",
              "7  real_105  real\n",
              "8  real_106  real\n",
              "9  real_107  real"
            ],
            "text/html": [
              "\n",
              "  <div id=\"df-66b0ff8a-3df1-40cf-874a-44623ccf375b\" class=\"colab-df-container\">\n",
              "    <div>\n",
              "<style scoped>\n",
              "    .dataframe tbody tr th:only-of-type {\n",
              "        vertical-align: middle;\n",
              "    }\n",
              "\n",
              "    .dataframe tbody tr th {\n",
              "        vertical-align: top;\n",
              "    }\n",
              "\n",
              "    .dataframe thead th {\n",
              "        text-align: right;\n",
              "    }\n",
              "</style>\n",
              "<table border=\"1\" class=\"dataframe\">\n",
              "  <thead>\n",
              "    <tr style=\"text-align: right;\">\n",
              "      <th></th>\n",
              "      <th>images_id</th>\n",
              "      <th>label</th>\n",
              "    </tr>\n",
              "  </thead>\n",
              "  <tbody>\n",
              "    <tr>\n",
              "      <th>0</th>\n",
              "      <td>real_1</td>\n",
              "      <td>real</td>\n",
              "    </tr>\n",
              "    <tr>\n",
              "      <th>1</th>\n",
              "      <td>real_10</td>\n",
              "      <td>real</td>\n",
              "    </tr>\n",
              "    <tr>\n",
              "      <th>2</th>\n",
              "      <td>real_100</td>\n",
              "      <td>real</td>\n",
              "    </tr>\n",
              "    <tr>\n",
              "      <th>3</th>\n",
              "      <td>real_101</td>\n",
              "      <td>real</td>\n",
              "    </tr>\n",
              "    <tr>\n",
              "      <th>4</th>\n",
              "      <td>real_102</td>\n",
              "      <td>real</td>\n",
              "    </tr>\n",
              "    <tr>\n",
              "      <th>5</th>\n",
              "      <td>real_103</td>\n",
              "      <td>real</td>\n",
              "    </tr>\n",
              "    <tr>\n",
              "      <th>6</th>\n",
              "      <td>real_104</td>\n",
              "      <td>real</td>\n",
              "    </tr>\n",
              "    <tr>\n",
              "      <th>7</th>\n",
              "      <td>real_105</td>\n",
              "      <td>real</td>\n",
              "    </tr>\n",
              "    <tr>\n",
              "      <th>8</th>\n",
              "      <td>real_106</td>\n",
              "      <td>real</td>\n",
              "    </tr>\n",
              "    <tr>\n",
              "      <th>9</th>\n",
              "      <td>real_107</td>\n",
              "      <td>real</td>\n",
              "    </tr>\n",
              "  </tbody>\n",
              "</table>\n",
              "</div>\n",
              "    <div class=\"colab-df-buttons\">\n",
              "\n",
              "  <div class=\"colab-df-container\">\n",
              "    <button class=\"colab-df-convert\" onclick=\"convertToInteractive('df-66b0ff8a-3df1-40cf-874a-44623ccf375b')\"\n",
              "            title=\"Convert this dataframe to an interactive table.\"\n",
              "            style=\"display:none;\">\n",
              "\n",
              "  <svg xmlns=\"http://www.w3.org/2000/svg\" height=\"24px\" viewBox=\"0 -960 960 960\">\n",
              "    <path d=\"M120-120v-720h720v720H120Zm60-500h600v-160H180v160Zm220 220h160v-160H400v160Zm0 220h160v-160H400v160ZM180-400h160v-160H180v160Zm440 0h160v-160H620v160ZM180-180h160v-160H180v160Zm440 0h160v-160H620v160Z\"/>\n",
              "  </svg>\n",
              "    </button>\n",
              "\n",
              "  <style>\n",
              "    .colab-df-container {\n",
              "      display:flex;\n",
              "      gap: 12px;\n",
              "    }\n",
              "\n",
              "    .colab-df-convert {\n",
              "      background-color: #E8F0FE;\n",
              "      border: none;\n",
              "      border-radius: 50%;\n",
              "      cursor: pointer;\n",
              "      display: none;\n",
              "      fill: #1967D2;\n",
              "      height: 32px;\n",
              "      padding: 0 0 0 0;\n",
              "      width: 32px;\n",
              "    }\n",
              "\n",
              "    .colab-df-convert:hover {\n",
              "      background-color: #E2EBFA;\n",
              "      box-shadow: 0px 1px 2px rgba(60, 64, 67, 0.3), 0px 1px 3px 1px rgba(60, 64, 67, 0.15);\n",
              "      fill: #174EA6;\n",
              "    }\n",
              "\n",
              "    .colab-df-buttons div {\n",
              "      margin-bottom: 4px;\n",
              "    }\n",
              "\n",
              "    [theme=dark] .colab-df-convert {\n",
              "      background-color: #3B4455;\n",
              "      fill: #D2E3FC;\n",
              "    }\n",
              "\n",
              "    [theme=dark] .colab-df-convert:hover {\n",
              "      background-color: #434B5C;\n",
              "      box-shadow: 0px 1px 3px 1px rgba(0, 0, 0, 0.15);\n",
              "      filter: drop-shadow(0px 1px 2px rgba(0, 0, 0, 0.3));\n",
              "      fill: #FFFFFF;\n",
              "    }\n",
              "  </style>\n",
              "\n",
              "    <script>\n",
              "      const buttonEl =\n",
              "        document.querySelector('#df-66b0ff8a-3df1-40cf-874a-44623ccf375b button.colab-df-convert');\n",
              "      buttonEl.style.display =\n",
              "        google.colab.kernel.accessAllowed ? 'block' : 'none';\n",
              "\n",
              "      async function convertToInteractive(key) {\n",
              "        const element = document.querySelector('#df-66b0ff8a-3df1-40cf-874a-44623ccf375b');\n",
              "        const dataTable =\n",
              "          await google.colab.kernel.invokeFunction('convertToInteractive',\n",
              "                                                    [key], {});\n",
              "        if (!dataTable) return;\n",
              "\n",
              "        const docLinkHtml = 'Like what you see? Visit the ' +\n",
              "          '<a target=\"_blank\" href=https://colab.research.google.com/notebooks/data_table.ipynb>data table notebook</a>'\n",
              "          + ' to learn more about interactive tables.';\n",
              "        element.innerHTML = '';\n",
              "        dataTable['output_type'] = 'display_data';\n",
              "        await google.colab.output.renderOutput(dataTable, element);\n",
              "        const docLink = document.createElement('div');\n",
              "        docLink.innerHTML = docLinkHtml;\n",
              "        element.appendChild(docLink);\n",
              "      }\n",
              "    </script>\n",
              "  </div>\n",
              "\n",
              "\n",
              "<div id=\"df-952a23cf-00a4-4f00-85eb-d8d09e9974f8\">\n",
              "  <button class=\"colab-df-quickchart\" onclick=\"quickchart('df-952a23cf-00a4-4f00-85eb-d8d09e9974f8')\"\n",
              "            title=\"Suggest charts\"\n",
              "            style=\"display:none;\">\n",
              "\n",
              "<svg xmlns=\"http://www.w3.org/2000/svg\" height=\"24px\"viewBox=\"0 0 24 24\"\n",
              "     width=\"24px\">\n",
              "    <g>\n",
              "        <path d=\"M19 3H5c-1.1 0-2 .9-2 2v14c0 1.1.9 2 2 2h14c1.1 0 2-.9 2-2V5c0-1.1-.9-2-2-2zM9 17H7v-7h2v7zm4 0h-2V7h2v10zm4 0h-2v-4h2v4z\"/>\n",
              "    </g>\n",
              "</svg>\n",
              "  </button>\n",
              "\n",
              "<style>\n",
              "  .colab-df-quickchart {\n",
              "      --bg-color: #E8F0FE;\n",
              "      --fill-color: #1967D2;\n",
              "      --hover-bg-color: #E2EBFA;\n",
              "      --hover-fill-color: #174EA6;\n",
              "      --disabled-fill-color: #AAA;\n",
              "      --disabled-bg-color: #DDD;\n",
              "  }\n",
              "\n",
              "  [theme=dark] .colab-df-quickchart {\n",
              "      --bg-color: #3B4455;\n",
              "      --fill-color: #D2E3FC;\n",
              "      --hover-bg-color: #434B5C;\n",
              "      --hover-fill-color: #FFFFFF;\n",
              "      --disabled-bg-color: #3B4455;\n",
              "      --disabled-fill-color: #666;\n",
              "  }\n",
              "\n",
              "  .colab-df-quickchart {\n",
              "    background-color: var(--bg-color);\n",
              "    border: none;\n",
              "    border-radius: 50%;\n",
              "    cursor: pointer;\n",
              "    display: none;\n",
              "    fill: var(--fill-color);\n",
              "    height: 32px;\n",
              "    padding: 0;\n",
              "    width: 32px;\n",
              "  }\n",
              "\n",
              "  .colab-df-quickchart:hover {\n",
              "    background-color: var(--hover-bg-color);\n",
              "    box-shadow: 0 1px 2px rgba(60, 64, 67, 0.3), 0 1px 3px 1px rgba(60, 64, 67, 0.15);\n",
              "    fill: var(--button-hover-fill-color);\n",
              "  }\n",
              "\n",
              "  .colab-df-quickchart-complete:disabled,\n",
              "  .colab-df-quickchart-complete:disabled:hover {\n",
              "    background-color: var(--disabled-bg-color);\n",
              "    fill: var(--disabled-fill-color);\n",
              "    box-shadow: none;\n",
              "  }\n",
              "\n",
              "  .colab-df-spinner {\n",
              "    border: 2px solid var(--fill-color);\n",
              "    border-color: transparent;\n",
              "    border-bottom-color: var(--fill-color);\n",
              "    animation:\n",
              "      spin 1s steps(1) infinite;\n",
              "  }\n",
              "\n",
              "  @keyframes spin {\n",
              "    0% {\n",
              "      border-color: transparent;\n",
              "      border-bottom-color: var(--fill-color);\n",
              "      border-left-color: var(--fill-color);\n",
              "    }\n",
              "    20% {\n",
              "      border-color: transparent;\n",
              "      border-left-color: var(--fill-color);\n",
              "      border-top-color: var(--fill-color);\n",
              "    }\n",
              "    30% {\n",
              "      border-color: transparent;\n",
              "      border-left-color: var(--fill-color);\n",
              "      border-top-color: var(--fill-color);\n",
              "      border-right-color: var(--fill-color);\n",
              "    }\n",
              "    40% {\n",
              "      border-color: transparent;\n",
              "      border-right-color: var(--fill-color);\n",
              "      border-top-color: var(--fill-color);\n",
              "    }\n",
              "    60% {\n",
              "      border-color: transparent;\n",
              "      border-right-color: var(--fill-color);\n",
              "    }\n",
              "    80% {\n",
              "      border-color: transparent;\n",
              "      border-right-color: var(--fill-color);\n",
              "      border-bottom-color: var(--fill-color);\n",
              "    }\n",
              "    90% {\n",
              "      border-color: transparent;\n",
              "      border-bottom-color: var(--fill-color);\n",
              "    }\n",
              "  }\n",
              "</style>\n",
              "\n",
              "  <script>\n",
              "    async function quickchart(key) {\n",
              "      const quickchartButtonEl =\n",
              "        document.querySelector('#' + key + ' button');\n",
              "      quickchartButtonEl.disabled = true;  // To prevent multiple clicks.\n",
              "      quickchartButtonEl.classList.add('colab-df-spinner');\n",
              "      try {\n",
              "        const charts = await google.colab.kernel.invokeFunction(\n",
              "            'suggestCharts', [key], {});\n",
              "      } catch (error) {\n",
              "        console.error('Error during call to suggestCharts:', error);\n",
              "      }\n",
              "      quickchartButtonEl.classList.remove('colab-df-spinner');\n",
              "      quickchartButtonEl.classList.add('colab-df-quickchart-complete');\n",
              "    }\n",
              "    (() => {\n",
              "      let quickchartButtonEl =\n",
              "        document.querySelector('#df-952a23cf-00a4-4f00-85eb-d8d09e9974f8 button');\n",
              "      quickchartButtonEl.style.display =\n",
              "        google.colab.kernel.accessAllowed ? 'block' : 'none';\n",
              "    })();\n",
              "  </script>\n",
              "</div>\n",
              "\n",
              "    </div>\n",
              "  </div>\n"
            ],
            "application/vnd.google.colaboratory.intrinsic+json": {
              "type": "dataframe",
              "variable_name": "df_RealVFake",
              "summary": "{\n  \"name\": \"df_RealVFake\",\n  \"rows\": 1289,\n  \"fields\": [\n    {\n      \"column\": \"images_id\",\n      \"properties\": {\n        \"dtype\": \"string\",\n        \"num_unique_values\": 1289,\n        \"samples\": [\n          \"fake_579\",\n          \"fake_637\",\n          \"real_515\"\n        ],\n        \"semantic_type\": \"\",\n        \"description\": \"\"\n      }\n    },\n    {\n      \"column\": \"label\",\n      \"properties\": {\n        \"dtype\": \"category\",\n        \"num_unique_values\": 2,\n        \"samples\": [\n          \"fake\",\n          \"real\"\n        ],\n        \"semantic_type\": \"\",\n        \"description\": \"\"\n      }\n    }\n  ]\n}"
            }
          },
          "metadata": {},
          "execution_count": 15
        }
      ]
    },
    {
      "cell_type": "markdown",
      "source": [
        "STEP 2: Replace the 'real' and 'fake' labelings with 1 and 0 respectively."
      ],
      "metadata": {
        "id": "b76BA7hTFTXC"
      }
    },
    {
      "cell_type": "code",
      "source": [
        "df_RealVFake.loc[df_RealVFake['label'] == 'real', 'label'] = 1\n",
        "df_RealVFake.loc[df_RealVFake['label'] == 'fake', 'label'] = 0\n",
        "inspect_df(df_RealVFake)"
      ],
      "metadata": {
        "colab": {
          "base_uri": "https://localhost:8080/"
        },
        "id": "XnScGS4EEmZ-",
        "outputId": "2d907414-8711-42e0-e34d-d9b5c5cb55e1"
      },
      "execution_count": null,
      "outputs": [
        {
          "output_type": "stream",
          "name": "stdout",
          "text": [
            "# of Real Images: 589\n",
            "# of Fake Images: 700\n",
            "% Real: 45\n",
            "% Fake: 54\n"
          ]
        },
        {
          "output_type": "execute_result",
          "data": {
            "text/plain": [
              "     images_id label\n",
              "1123  fake_580     0\n",
              "1265   fake_78     0\n",
              "385   real_446     1\n",
              "955   fake_429     0\n",
              "437   real_493     1\n",
              "230   real_306     1\n",
              "1107  fake_566     0\n",
              "688   fake_189     0\n",
              "111     real_2     1\n",
              "223    real_30     1"
            ],
            "text/html": [
              "\n",
              "  <div id=\"df-b50b1b9b-5cc6-436f-954c-a11861fd01da\" class=\"colab-df-container\">\n",
              "    <div>\n",
              "<style scoped>\n",
              "    .dataframe tbody tr th:only-of-type {\n",
              "        vertical-align: middle;\n",
              "    }\n",
              "\n",
              "    .dataframe tbody tr th {\n",
              "        vertical-align: top;\n",
              "    }\n",
              "\n",
              "    .dataframe thead th {\n",
              "        text-align: right;\n",
              "    }\n",
              "</style>\n",
              "<table border=\"1\" class=\"dataframe\">\n",
              "  <thead>\n",
              "    <tr style=\"text-align: right;\">\n",
              "      <th></th>\n",
              "      <th>images_id</th>\n",
              "      <th>label</th>\n",
              "    </tr>\n",
              "  </thead>\n",
              "  <tbody>\n",
              "    <tr>\n",
              "      <th>1123</th>\n",
              "      <td>fake_580</td>\n",
              "      <td>0</td>\n",
              "    </tr>\n",
              "    <tr>\n",
              "      <th>1265</th>\n",
              "      <td>fake_78</td>\n",
              "      <td>0</td>\n",
              "    </tr>\n",
              "    <tr>\n",
              "      <th>385</th>\n",
              "      <td>real_446</td>\n",
              "      <td>1</td>\n",
              "    </tr>\n",
              "    <tr>\n",
              "      <th>955</th>\n",
              "      <td>fake_429</td>\n",
              "      <td>0</td>\n",
              "    </tr>\n",
              "    <tr>\n",
              "      <th>437</th>\n",
              "      <td>real_493</td>\n",
              "      <td>1</td>\n",
              "    </tr>\n",
              "    <tr>\n",
              "      <th>230</th>\n",
              "      <td>real_306</td>\n",
              "      <td>1</td>\n",
              "    </tr>\n",
              "    <tr>\n",
              "      <th>1107</th>\n",
              "      <td>fake_566</td>\n",
              "      <td>0</td>\n",
              "    </tr>\n",
              "    <tr>\n",
              "      <th>688</th>\n",
              "      <td>fake_189</td>\n",
              "      <td>0</td>\n",
              "    </tr>\n",
              "    <tr>\n",
              "      <th>111</th>\n",
              "      <td>real_2</td>\n",
              "      <td>1</td>\n",
              "    </tr>\n",
              "    <tr>\n",
              "      <th>223</th>\n",
              "      <td>real_30</td>\n",
              "      <td>1</td>\n",
              "    </tr>\n",
              "  </tbody>\n",
              "</table>\n",
              "</div>\n",
              "    <div class=\"colab-df-buttons\">\n",
              "\n",
              "  <div class=\"colab-df-container\">\n",
              "    <button class=\"colab-df-convert\" onclick=\"convertToInteractive('df-b50b1b9b-5cc6-436f-954c-a11861fd01da')\"\n",
              "            title=\"Convert this dataframe to an interactive table.\"\n",
              "            style=\"display:none;\">\n",
              "\n",
              "  <svg xmlns=\"http://www.w3.org/2000/svg\" height=\"24px\" viewBox=\"0 -960 960 960\">\n",
              "    <path d=\"M120-120v-720h720v720H120Zm60-500h600v-160H180v160Zm220 220h160v-160H400v160Zm0 220h160v-160H400v160ZM180-400h160v-160H180v160Zm440 0h160v-160H620v160ZM180-180h160v-160H180v160Zm440 0h160v-160H620v160Z\"/>\n",
              "  </svg>\n",
              "    </button>\n",
              "\n",
              "  <style>\n",
              "    .colab-df-container {\n",
              "      display:flex;\n",
              "      gap: 12px;\n",
              "    }\n",
              "\n",
              "    .colab-df-convert {\n",
              "      background-color: #E8F0FE;\n",
              "      border: none;\n",
              "      border-radius: 50%;\n",
              "      cursor: pointer;\n",
              "      display: none;\n",
              "      fill: #1967D2;\n",
              "      height: 32px;\n",
              "      padding: 0 0 0 0;\n",
              "      width: 32px;\n",
              "    }\n",
              "\n",
              "    .colab-df-convert:hover {\n",
              "      background-color: #E2EBFA;\n",
              "      box-shadow: 0px 1px 2px rgba(60, 64, 67, 0.3), 0px 1px 3px 1px rgba(60, 64, 67, 0.15);\n",
              "      fill: #174EA6;\n",
              "    }\n",
              "\n",
              "    .colab-df-buttons div {\n",
              "      margin-bottom: 4px;\n",
              "    }\n",
              "\n",
              "    [theme=dark] .colab-df-convert {\n",
              "      background-color: #3B4455;\n",
              "      fill: #D2E3FC;\n",
              "    }\n",
              "\n",
              "    [theme=dark] .colab-df-convert:hover {\n",
              "      background-color: #434B5C;\n",
              "      box-shadow: 0px 1px 3px 1px rgba(0, 0, 0, 0.15);\n",
              "      filter: drop-shadow(0px 1px 2px rgba(0, 0, 0, 0.3));\n",
              "      fill: #FFFFFF;\n",
              "    }\n",
              "  </style>\n",
              "\n",
              "    <script>\n",
              "      const buttonEl =\n",
              "        document.querySelector('#df-b50b1b9b-5cc6-436f-954c-a11861fd01da button.colab-df-convert');\n",
              "      buttonEl.style.display =\n",
              "        google.colab.kernel.accessAllowed ? 'block' : 'none';\n",
              "\n",
              "      async function convertToInteractive(key) {\n",
              "        const element = document.querySelector('#df-b50b1b9b-5cc6-436f-954c-a11861fd01da');\n",
              "        const dataTable =\n",
              "          await google.colab.kernel.invokeFunction('convertToInteractive',\n",
              "                                                    [key], {});\n",
              "        if (!dataTable) return;\n",
              "\n",
              "        const docLinkHtml = 'Like what you see? Visit the ' +\n",
              "          '<a target=\"_blank\" href=https://colab.research.google.com/notebooks/data_table.ipynb>data table notebook</a>'\n",
              "          + ' to learn more about interactive tables.';\n",
              "        element.innerHTML = '';\n",
              "        dataTable['output_type'] = 'display_data';\n",
              "        await google.colab.output.renderOutput(dataTable, element);\n",
              "        const docLink = document.createElement('div');\n",
              "        docLink.innerHTML = docLinkHtml;\n",
              "        element.appendChild(docLink);\n",
              "      }\n",
              "    </script>\n",
              "  </div>\n",
              "\n",
              "\n",
              "<div id=\"df-f99a621a-c5f1-46e7-9a17-311e220e644a\">\n",
              "  <button class=\"colab-df-quickchart\" onclick=\"quickchart('df-f99a621a-c5f1-46e7-9a17-311e220e644a')\"\n",
              "            title=\"Suggest charts\"\n",
              "            style=\"display:none;\">\n",
              "\n",
              "<svg xmlns=\"http://www.w3.org/2000/svg\" height=\"24px\"viewBox=\"0 0 24 24\"\n",
              "     width=\"24px\">\n",
              "    <g>\n",
              "        <path d=\"M19 3H5c-1.1 0-2 .9-2 2v14c0 1.1.9 2 2 2h14c1.1 0 2-.9 2-2V5c0-1.1-.9-2-2-2zM9 17H7v-7h2v7zm4 0h-2V7h2v10zm4 0h-2v-4h2v4z\"/>\n",
              "    </g>\n",
              "</svg>\n",
              "  </button>\n",
              "\n",
              "<style>\n",
              "  .colab-df-quickchart {\n",
              "      --bg-color: #E8F0FE;\n",
              "      --fill-color: #1967D2;\n",
              "      --hover-bg-color: #E2EBFA;\n",
              "      --hover-fill-color: #174EA6;\n",
              "      --disabled-fill-color: #AAA;\n",
              "      --disabled-bg-color: #DDD;\n",
              "  }\n",
              "\n",
              "  [theme=dark] .colab-df-quickchart {\n",
              "      --bg-color: #3B4455;\n",
              "      --fill-color: #D2E3FC;\n",
              "      --hover-bg-color: #434B5C;\n",
              "      --hover-fill-color: #FFFFFF;\n",
              "      --disabled-bg-color: #3B4455;\n",
              "      --disabled-fill-color: #666;\n",
              "  }\n",
              "\n",
              "  .colab-df-quickchart {\n",
              "    background-color: var(--bg-color);\n",
              "    border: none;\n",
              "    border-radius: 50%;\n",
              "    cursor: pointer;\n",
              "    display: none;\n",
              "    fill: var(--fill-color);\n",
              "    height: 32px;\n",
              "    padding: 0;\n",
              "    width: 32px;\n",
              "  }\n",
              "\n",
              "  .colab-df-quickchart:hover {\n",
              "    background-color: var(--hover-bg-color);\n",
              "    box-shadow: 0 1px 2px rgba(60, 64, 67, 0.3), 0 1px 3px 1px rgba(60, 64, 67, 0.15);\n",
              "    fill: var(--button-hover-fill-color);\n",
              "  }\n",
              "\n",
              "  .colab-df-quickchart-complete:disabled,\n",
              "  .colab-df-quickchart-complete:disabled:hover {\n",
              "    background-color: var(--disabled-bg-color);\n",
              "    fill: var(--disabled-fill-color);\n",
              "    box-shadow: none;\n",
              "  }\n",
              "\n",
              "  .colab-df-spinner {\n",
              "    border: 2px solid var(--fill-color);\n",
              "    border-color: transparent;\n",
              "    border-bottom-color: var(--fill-color);\n",
              "    animation:\n",
              "      spin 1s steps(1) infinite;\n",
              "  }\n",
              "\n",
              "  @keyframes spin {\n",
              "    0% {\n",
              "      border-color: transparent;\n",
              "      border-bottom-color: var(--fill-color);\n",
              "      border-left-color: var(--fill-color);\n",
              "    }\n",
              "    20% {\n",
              "      border-color: transparent;\n",
              "      border-left-color: var(--fill-color);\n",
              "      border-top-color: var(--fill-color);\n",
              "    }\n",
              "    30% {\n",
              "      border-color: transparent;\n",
              "      border-left-color: var(--fill-color);\n",
              "      border-top-color: var(--fill-color);\n",
              "      border-right-color: var(--fill-color);\n",
              "    }\n",
              "    40% {\n",
              "      border-color: transparent;\n",
              "      border-right-color: var(--fill-color);\n",
              "      border-top-color: var(--fill-color);\n",
              "    }\n",
              "    60% {\n",
              "      border-color: transparent;\n",
              "      border-right-color: var(--fill-color);\n",
              "    }\n",
              "    80% {\n",
              "      border-color: transparent;\n",
              "      border-right-color: var(--fill-color);\n",
              "      border-bottom-color: var(--fill-color);\n",
              "    }\n",
              "    90% {\n",
              "      border-color: transparent;\n",
              "      border-bottom-color: var(--fill-color);\n",
              "    }\n",
              "  }\n",
              "</style>\n",
              "\n",
              "  <script>\n",
              "    async function quickchart(key) {\n",
              "      const quickchartButtonEl =\n",
              "        document.querySelector('#' + key + ' button');\n",
              "      quickchartButtonEl.disabled = true;  // To prevent multiple clicks.\n",
              "      quickchartButtonEl.classList.add('colab-df-spinner');\n",
              "      try {\n",
              "        const charts = await google.colab.kernel.invokeFunction(\n",
              "            'suggestCharts', [key], {});\n",
              "      } catch (error) {\n",
              "        console.error('Error during call to suggestCharts:', error);\n",
              "      }\n",
              "      quickchartButtonEl.classList.remove('colab-df-spinner');\n",
              "      quickchartButtonEl.classList.add('colab-df-quickchart-complete');\n",
              "    }\n",
              "    (() => {\n",
              "      let quickchartButtonEl =\n",
              "        document.querySelector('#df-f99a621a-c5f1-46e7-9a17-311e220e644a button');\n",
              "      quickchartButtonEl.style.display =\n",
              "        google.colab.kernel.accessAllowed ? 'block' : 'none';\n",
              "    })();\n",
              "  </script>\n",
              "</div>\n",
              "\n",
              "    </div>\n",
              "  </div>\n"
            ],
            "application/vnd.google.colaboratory.intrinsic+json": {
              "type": "dataframe",
              "repr_error": "0"
            }
          },
          "metadata": {},
          "execution_count": 16
        }
      ]
    },
    {
      "cell_type": "markdown",
      "source": [
        "STEP 3: Randomly separate the rows into an 80% test set and a 20% train set."
      ],
      "metadata": {
        "id": "qz461u27CGOB"
      }
    },
    {
      "cell_type": "code",
      "source": [
        "# Shuffle Dataset\n",
        "df_RealVFake_shuffled = df_RealVFake.sample(frac=1, random_state=SEED)\n",
        "\n",
        "# Calculate the split index\n",
        "separation_idx = int(0.8 * len(df_RealVFake_shuffled))\n",
        "\n",
        "# Split data into train and test sets\n",
        "df_train_RealVFake = df_RealVFake_shuffled[:separation_idx]\n",
        "df_test_RealVFake = df_RealVFake_shuffled[separation_idx:]\n",
        "\n",
        "print(\"Train set shape:\", df_train_RealVFake.shape)\n",
        "print(\"Test set shape:\", df_test_RealVFake.shape)"
      ],
      "metadata": {
        "colab": {
          "base_uri": "https://localhost:8080/"
        },
        "id": "M5HTbfLFB2QH",
        "outputId": "a21620fb-98b8-4d31-f561-fbc24540a598"
      },
      "execution_count": null,
      "outputs": [
        {
          "output_type": "stream",
          "name": "stdout",
          "text": [
            "Train set shape: (1031, 2)\n",
            "Test set shape: (258, 2)\n"
          ]
        }
      ]
    },
    {
      "cell_type": "code",
      "source": [
        "inspect_df(df_train_RealVFake)"
      ],
      "metadata": {
        "colab": {
          "base_uri": "https://localhost:8080/"
        },
        "id": "FKVWJzxFFrEG",
        "outputId": "b89950a7-25c7-45d6-89bb-928ef6f6a222"
      },
      "execution_count": null,
      "outputs": [
        {
          "output_type": "stream",
          "name": "stdout",
          "text": [
            "# of Real Images: 470\n",
            "# of Fake Images: 561\n",
            "% Real: 45\n",
            "% Fake: 54\n"
          ]
        },
        {
          "output_type": "execute_result",
          "data": {
            "text/plain": [
              "     images_id label\n",
              "1097  fake_557     0\n",
              "225   real_301     1\n",
              "1260   fake_73     0\n",
              "857   fake_340     0\n",
              "468   real_520     1\n",
              "1095  fake_555     0\n",
              "232   real_308     1\n",
              "292   real_362     1\n",
              "1104  fake_563     0\n",
              "640   fake_145     0"
            ],
            "text/html": [
              "\n",
              "  <div id=\"df-7df328de-d5b7-42b0-84f0-36dbbe8c4325\" class=\"colab-df-container\">\n",
              "    <div>\n",
              "<style scoped>\n",
              "    .dataframe tbody tr th:only-of-type {\n",
              "        vertical-align: middle;\n",
              "    }\n",
              "\n",
              "    .dataframe tbody tr th {\n",
              "        vertical-align: top;\n",
              "    }\n",
              "\n",
              "    .dataframe thead th {\n",
              "        text-align: right;\n",
              "    }\n",
              "</style>\n",
              "<table border=\"1\" class=\"dataframe\">\n",
              "  <thead>\n",
              "    <tr style=\"text-align: right;\">\n",
              "      <th></th>\n",
              "      <th>images_id</th>\n",
              "      <th>label</th>\n",
              "    </tr>\n",
              "  </thead>\n",
              "  <tbody>\n",
              "    <tr>\n",
              "      <th>1097</th>\n",
              "      <td>fake_557</td>\n",
              "      <td>0</td>\n",
              "    </tr>\n",
              "    <tr>\n",
              "      <th>225</th>\n",
              "      <td>real_301</td>\n",
              "      <td>1</td>\n",
              "    </tr>\n",
              "    <tr>\n",
              "      <th>1260</th>\n",
              "      <td>fake_73</td>\n",
              "      <td>0</td>\n",
              "    </tr>\n",
              "    <tr>\n",
              "      <th>857</th>\n",
              "      <td>fake_340</td>\n",
              "      <td>0</td>\n",
              "    </tr>\n",
              "    <tr>\n",
              "      <th>468</th>\n",
              "      <td>real_520</td>\n",
              "      <td>1</td>\n",
              "    </tr>\n",
              "    <tr>\n",
              "      <th>1095</th>\n",
              "      <td>fake_555</td>\n",
              "      <td>0</td>\n",
              "    </tr>\n",
              "    <tr>\n",
              "      <th>232</th>\n",
              "      <td>real_308</td>\n",
              "      <td>1</td>\n",
              "    </tr>\n",
              "    <tr>\n",
              "      <th>292</th>\n",
              "      <td>real_362</td>\n",
              "      <td>1</td>\n",
              "    </tr>\n",
              "    <tr>\n",
              "      <th>1104</th>\n",
              "      <td>fake_563</td>\n",
              "      <td>0</td>\n",
              "    </tr>\n",
              "    <tr>\n",
              "      <th>640</th>\n",
              "      <td>fake_145</td>\n",
              "      <td>0</td>\n",
              "    </tr>\n",
              "  </tbody>\n",
              "</table>\n",
              "</div>\n",
              "    <div class=\"colab-df-buttons\">\n",
              "\n",
              "  <div class=\"colab-df-container\">\n",
              "    <button class=\"colab-df-convert\" onclick=\"convertToInteractive('df-7df328de-d5b7-42b0-84f0-36dbbe8c4325')\"\n",
              "            title=\"Convert this dataframe to an interactive table.\"\n",
              "            style=\"display:none;\">\n",
              "\n",
              "  <svg xmlns=\"http://www.w3.org/2000/svg\" height=\"24px\" viewBox=\"0 -960 960 960\">\n",
              "    <path d=\"M120-120v-720h720v720H120Zm60-500h600v-160H180v160Zm220 220h160v-160H400v160Zm0 220h160v-160H400v160ZM180-400h160v-160H180v160Zm440 0h160v-160H620v160ZM180-180h160v-160H180v160Zm440 0h160v-160H620v160Z\"/>\n",
              "  </svg>\n",
              "    </button>\n",
              "\n",
              "  <style>\n",
              "    .colab-df-container {\n",
              "      display:flex;\n",
              "      gap: 12px;\n",
              "    }\n",
              "\n",
              "    .colab-df-convert {\n",
              "      background-color: #E8F0FE;\n",
              "      border: none;\n",
              "      border-radius: 50%;\n",
              "      cursor: pointer;\n",
              "      display: none;\n",
              "      fill: #1967D2;\n",
              "      height: 32px;\n",
              "      padding: 0 0 0 0;\n",
              "      width: 32px;\n",
              "    }\n",
              "\n",
              "    .colab-df-convert:hover {\n",
              "      background-color: #E2EBFA;\n",
              "      box-shadow: 0px 1px 2px rgba(60, 64, 67, 0.3), 0px 1px 3px 1px rgba(60, 64, 67, 0.15);\n",
              "      fill: #174EA6;\n",
              "    }\n",
              "\n",
              "    .colab-df-buttons div {\n",
              "      margin-bottom: 4px;\n",
              "    }\n",
              "\n",
              "    [theme=dark] .colab-df-convert {\n",
              "      background-color: #3B4455;\n",
              "      fill: #D2E3FC;\n",
              "    }\n",
              "\n",
              "    [theme=dark] .colab-df-convert:hover {\n",
              "      background-color: #434B5C;\n",
              "      box-shadow: 0px 1px 3px 1px rgba(0, 0, 0, 0.15);\n",
              "      filter: drop-shadow(0px 1px 2px rgba(0, 0, 0, 0.3));\n",
              "      fill: #FFFFFF;\n",
              "    }\n",
              "  </style>\n",
              "\n",
              "    <script>\n",
              "      const buttonEl =\n",
              "        document.querySelector('#df-7df328de-d5b7-42b0-84f0-36dbbe8c4325 button.colab-df-convert');\n",
              "      buttonEl.style.display =\n",
              "        google.colab.kernel.accessAllowed ? 'block' : 'none';\n",
              "\n",
              "      async function convertToInteractive(key) {\n",
              "        const element = document.querySelector('#df-7df328de-d5b7-42b0-84f0-36dbbe8c4325');\n",
              "        const dataTable =\n",
              "          await google.colab.kernel.invokeFunction('convertToInteractive',\n",
              "                                                    [key], {});\n",
              "        if (!dataTable) return;\n",
              "\n",
              "        const docLinkHtml = 'Like what you see? Visit the ' +\n",
              "          '<a target=\"_blank\" href=https://colab.research.google.com/notebooks/data_table.ipynb>data table notebook</a>'\n",
              "          + ' to learn more about interactive tables.';\n",
              "        element.innerHTML = '';\n",
              "        dataTable['output_type'] = 'display_data';\n",
              "        await google.colab.output.renderOutput(dataTable, element);\n",
              "        const docLink = document.createElement('div');\n",
              "        docLink.innerHTML = docLinkHtml;\n",
              "        element.appendChild(docLink);\n",
              "      }\n",
              "    </script>\n",
              "  </div>\n",
              "\n",
              "\n",
              "<div id=\"df-60e87482-5b61-4b8b-85ab-d402ef2b21ac\">\n",
              "  <button class=\"colab-df-quickchart\" onclick=\"quickchart('df-60e87482-5b61-4b8b-85ab-d402ef2b21ac')\"\n",
              "            title=\"Suggest charts\"\n",
              "            style=\"display:none;\">\n",
              "\n",
              "<svg xmlns=\"http://www.w3.org/2000/svg\" height=\"24px\"viewBox=\"0 0 24 24\"\n",
              "     width=\"24px\">\n",
              "    <g>\n",
              "        <path d=\"M19 3H5c-1.1 0-2 .9-2 2v14c0 1.1.9 2 2 2h14c1.1 0 2-.9 2-2V5c0-1.1-.9-2-2-2zM9 17H7v-7h2v7zm4 0h-2V7h2v10zm4 0h-2v-4h2v4z\"/>\n",
              "    </g>\n",
              "</svg>\n",
              "  </button>\n",
              "\n",
              "<style>\n",
              "  .colab-df-quickchart {\n",
              "      --bg-color: #E8F0FE;\n",
              "      --fill-color: #1967D2;\n",
              "      --hover-bg-color: #E2EBFA;\n",
              "      --hover-fill-color: #174EA6;\n",
              "      --disabled-fill-color: #AAA;\n",
              "      --disabled-bg-color: #DDD;\n",
              "  }\n",
              "\n",
              "  [theme=dark] .colab-df-quickchart {\n",
              "      --bg-color: #3B4455;\n",
              "      --fill-color: #D2E3FC;\n",
              "      --hover-bg-color: #434B5C;\n",
              "      --hover-fill-color: #FFFFFF;\n",
              "      --disabled-bg-color: #3B4455;\n",
              "      --disabled-fill-color: #666;\n",
              "  }\n",
              "\n",
              "  .colab-df-quickchart {\n",
              "    background-color: var(--bg-color);\n",
              "    border: none;\n",
              "    border-radius: 50%;\n",
              "    cursor: pointer;\n",
              "    display: none;\n",
              "    fill: var(--fill-color);\n",
              "    height: 32px;\n",
              "    padding: 0;\n",
              "    width: 32px;\n",
              "  }\n",
              "\n",
              "  .colab-df-quickchart:hover {\n",
              "    background-color: var(--hover-bg-color);\n",
              "    box-shadow: 0 1px 2px rgba(60, 64, 67, 0.3), 0 1px 3px 1px rgba(60, 64, 67, 0.15);\n",
              "    fill: var(--button-hover-fill-color);\n",
              "  }\n",
              "\n",
              "  .colab-df-quickchart-complete:disabled,\n",
              "  .colab-df-quickchart-complete:disabled:hover {\n",
              "    background-color: var(--disabled-bg-color);\n",
              "    fill: var(--disabled-fill-color);\n",
              "    box-shadow: none;\n",
              "  }\n",
              "\n",
              "  .colab-df-spinner {\n",
              "    border: 2px solid var(--fill-color);\n",
              "    border-color: transparent;\n",
              "    border-bottom-color: var(--fill-color);\n",
              "    animation:\n",
              "      spin 1s steps(1) infinite;\n",
              "  }\n",
              "\n",
              "  @keyframes spin {\n",
              "    0% {\n",
              "      border-color: transparent;\n",
              "      border-bottom-color: var(--fill-color);\n",
              "      border-left-color: var(--fill-color);\n",
              "    }\n",
              "    20% {\n",
              "      border-color: transparent;\n",
              "      border-left-color: var(--fill-color);\n",
              "      border-top-color: var(--fill-color);\n",
              "    }\n",
              "    30% {\n",
              "      border-color: transparent;\n",
              "      border-left-color: var(--fill-color);\n",
              "      border-top-color: var(--fill-color);\n",
              "      border-right-color: var(--fill-color);\n",
              "    }\n",
              "    40% {\n",
              "      border-color: transparent;\n",
              "      border-right-color: var(--fill-color);\n",
              "      border-top-color: var(--fill-color);\n",
              "    }\n",
              "    60% {\n",
              "      border-color: transparent;\n",
              "      border-right-color: var(--fill-color);\n",
              "    }\n",
              "    80% {\n",
              "      border-color: transparent;\n",
              "      border-right-color: var(--fill-color);\n",
              "      border-bottom-color: var(--fill-color);\n",
              "    }\n",
              "    90% {\n",
              "      border-color: transparent;\n",
              "      border-bottom-color: var(--fill-color);\n",
              "    }\n",
              "  }\n",
              "</style>\n",
              "\n",
              "  <script>\n",
              "    async function quickchart(key) {\n",
              "      const quickchartButtonEl =\n",
              "        document.querySelector('#' + key + ' button');\n",
              "      quickchartButtonEl.disabled = true;  // To prevent multiple clicks.\n",
              "      quickchartButtonEl.classList.add('colab-df-spinner');\n",
              "      try {\n",
              "        const charts = await google.colab.kernel.invokeFunction(\n",
              "            'suggestCharts', [key], {});\n",
              "      } catch (error) {\n",
              "        console.error('Error during call to suggestCharts:', error);\n",
              "      }\n",
              "      quickchartButtonEl.classList.remove('colab-df-spinner');\n",
              "      quickchartButtonEl.classList.add('colab-df-quickchart-complete');\n",
              "    }\n",
              "    (() => {\n",
              "      let quickchartButtonEl =\n",
              "        document.querySelector('#df-60e87482-5b61-4b8b-85ab-d402ef2b21ac button');\n",
              "      quickchartButtonEl.style.display =\n",
              "        google.colab.kernel.accessAllowed ? 'block' : 'none';\n",
              "    })();\n",
              "  </script>\n",
              "</div>\n",
              "\n",
              "    </div>\n",
              "  </div>\n"
            ],
            "application/vnd.google.colaboratory.intrinsic+json": {
              "type": "dataframe",
              "repr_error": "0"
            }
          },
          "metadata": {},
          "execution_count": 18
        }
      ]
    },
    {
      "cell_type": "code",
      "source": [
        "inspect_df(df_test_RealVFake)"
      ],
      "metadata": {
        "colab": {
          "base_uri": "https://localhost:8080/"
        },
        "id": "XDjk9MKqFyr_",
        "outputId": "eef38fcc-cf2c-46f7-e9f9-870477b45f78"
      },
      "execution_count": null,
      "outputs": [
        {
          "output_type": "stream",
          "name": "stdout",
          "text": [
            "# of Real Images: 119\n",
            "# of Fake Images: 139\n",
            "% Real: 46\n",
            "% Fake: 53\n"
          ]
        },
        {
          "output_type": "execute_result",
          "data": {
            "text/plain": [
              "     images_id label\n",
              "178    real_26     1\n",
              "528   real_575     1\n",
              "480   real_531     1\n",
              "1105  fake_564     0\n",
              "168   real_250     1\n",
              "1167   fake_62     0\n",
              "136   real_221     1\n",
              "142   real_227     1\n",
              "42    real_137     1\n",
              "1038  fake_503     0"
            ],
            "text/html": [
              "\n",
              "  <div id=\"df-4c23deea-af5a-4efd-bf4d-574ad45b1d07\" class=\"colab-df-container\">\n",
              "    <div>\n",
              "<style scoped>\n",
              "    .dataframe tbody tr th:only-of-type {\n",
              "        vertical-align: middle;\n",
              "    }\n",
              "\n",
              "    .dataframe tbody tr th {\n",
              "        vertical-align: top;\n",
              "    }\n",
              "\n",
              "    .dataframe thead th {\n",
              "        text-align: right;\n",
              "    }\n",
              "</style>\n",
              "<table border=\"1\" class=\"dataframe\">\n",
              "  <thead>\n",
              "    <tr style=\"text-align: right;\">\n",
              "      <th></th>\n",
              "      <th>images_id</th>\n",
              "      <th>label</th>\n",
              "    </tr>\n",
              "  </thead>\n",
              "  <tbody>\n",
              "    <tr>\n",
              "      <th>178</th>\n",
              "      <td>real_26</td>\n",
              "      <td>1</td>\n",
              "    </tr>\n",
              "    <tr>\n",
              "      <th>528</th>\n",
              "      <td>real_575</td>\n",
              "      <td>1</td>\n",
              "    </tr>\n",
              "    <tr>\n",
              "      <th>480</th>\n",
              "      <td>real_531</td>\n",
              "      <td>1</td>\n",
              "    </tr>\n",
              "    <tr>\n",
              "      <th>1105</th>\n",
              "      <td>fake_564</td>\n",
              "      <td>0</td>\n",
              "    </tr>\n",
              "    <tr>\n",
              "      <th>168</th>\n",
              "      <td>real_250</td>\n",
              "      <td>1</td>\n",
              "    </tr>\n",
              "    <tr>\n",
              "      <th>1167</th>\n",
              "      <td>fake_62</td>\n",
              "      <td>0</td>\n",
              "    </tr>\n",
              "    <tr>\n",
              "      <th>136</th>\n",
              "      <td>real_221</td>\n",
              "      <td>1</td>\n",
              "    </tr>\n",
              "    <tr>\n",
              "      <th>142</th>\n",
              "      <td>real_227</td>\n",
              "      <td>1</td>\n",
              "    </tr>\n",
              "    <tr>\n",
              "      <th>42</th>\n",
              "      <td>real_137</td>\n",
              "      <td>1</td>\n",
              "    </tr>\n",
              "    <tr>\n",
              "      <th>1038</th>\n",
              "      <td>fake_503</td>\n",
              "      <td>0</td>\n",
              "    </tr>\n",
              "  </tbody>\n",
              "</table>\n",
              "</div>\n",
              "    <div class=\"colab-df-buttons\">\n",
              "\n",
              "  <div class=\"colab-df-container\">\n",
              "    <button class=\"colab-df-convert\" onclick=\"convertToInteractive('df-4c23deea-af5a-4efd-bf4d-574ad45b1d07')\"\n",
              "            title=\"Convert this dataframe to an interactive table.\"\n",
              "            style=\"display:none;\">\n",
              "\n",
              "  <svg xmlns=\"http://www.w3.org/2000/svg\" height=\"24px\" viewBox=\"0 -960 960 960\">\n",
              "    <path d=\"M120-120v-720h720v720H120Zm60-500h600v-160H180v160Zm220 220h160v-160H400v160Zm0 220h160v-160H400v160ZM180-400h160v-160H180v160Zm440 0h160v-160H620v160ZM180-180h160v-160H180v160Zm440 0h160v-160H620v160Z\"/>\n",
              "  </svg>\n",
              "    </button>\n",
              "\n",
              "  <style>\n",
              "    .colab-df-container {\n",
              "      display:flex;\n",
              "      gap: 12px;\n",
              "    }\n",
              "\n",
              "    .colab-df-convert {\n",
              "      background-color: #E8F0FE;\n",
              "      border: none;\n",
              "      border-radius: 50%;\n",
              "      cursor: pointer;\n",
              "      display: none;\n",
              "      fill: #1967D2;\n",
              "      height: 32px;\n",
              "      padding: 0 0 0 0;\n",
              "      width: 32px;\n",
              "    }\n",
              "\n",
              "    .colab-df-convert:hover {\n",
              "      background-color: #E2EBFA;\n",
              "      box-shadow: 0px 1px 2px rgba(60, 64, 67, 0.3), 0px 1px 3px 1px rgba(60, 64, 67, 0.15);\n",
              "      fill: #174EA6;\n",
              "    }\n",
              "\n",
              "    .colab-df-buttons div {\n",
              "      margin-bottom: 4px;\n",
              "    }\n",
              "\n",
              "    [theme=dark] .colab-df-convert {\n",
              "      background-color: #3B4455;\n",
              "      fill: #D2E3FC;\n",
              "    }\n",
              "\n",
              "    [theme=dark] .colab-df-convert:hover {\n",
              "      background-color: #434B5C;\n",
              "      box-shadow: 0px 1px 3px 1px rgba(0, 0, 0, 0.15);\n",
              "      filter: drop-shadow(0px 1px 2px rgba(0, 0, 0, 0.3));\n",
              "      fill: #FFFFFF;\n",
              "    }\n",
              "  </style>\n",
              "\n",
              "    <script>\n",
              "      const buttonEl =\n",
              "        document.querySelector('#df-4c23deea-af5a-4efd-bf4d-574ad45b1d07 button.colab-df-convert');\n",
              "      buttonEl.style.display =\n",
              "        google.colab.kernel.accessAllowed ? 'block' : 'none';\n",
              "\n",
              "      async function convertToInteractive(key) {\n",
              "        const element = document.querySelector('#df-4c23deea-af5a-4efd-bf4d-574ad45b1d07');\n",
              "        const dataTable =\n",
              "          await google.colab.kernel.invokeFunction('convertToInteractive',\n",
              "                                                    [key], {});\n",
              "        if (!dataTable) return;\n",
              "\n",
              "        const docLinkHtml = 'Like what you see? Visit the ' +\n",
              "          '<a target=\"_blank\" href=https://colab.research.google.com/notebooks/data_table.ipynb>data table notebook</a>'\n",
              "          + ' to learn more about interactive tables.';\n",
              "        element.innerHTML = '';\n",
              "        dataTable['output_type'] = 'display_data';\n",
              "        await google.colab.output.renderOutput(dataTable, element);\n",
              "        const docLink = document.createElement('div');\n",
              "        docLink.innerHTML = docLinkHtml;\n",
              "        element.appendChild(docLink);\n",
              "      }\n",
              "    </script>\n",
              "  </div>\n",
              "\n",
              "\n",
              "<div id=\"df-0ee1fbbf-1a7d-4fcf-8f4e-b1650ce0af4d\">\n",
              "  <button class=\"colab-df-quickchart\" onclick=\"quickchart('df-0ee1fbbf-1a7d-4fcf-8f4e-b1650ce0af4d')\"\n",
              "            title=\"Suggest charts\"\n",
              "            style=\"display:none;\">\n",
              "\n",
              "<svg xmlns=\"http://www.w3.org/2000/svg\" height=\"24px\"viewBox=\"0 0 24 24\"\n",
              "     width=\"24px\">\n",
              "    <g>\n",
              "        <path d=\"M19 3H5c-1.1 0-2 .9-2 2v14c0 1.1.9 2 2 2h14c1.1 0 2-.9 2-2V5c0-1.1-.9-2-2-2zM9 17H7v-7h2v7zm4 0h-2V7h2v10zm4 0h-2v-4h2v4z\"/>\n",
              "    </g>\n",
              "</svg>\n",
              "  </button>\n",
              "\n",
              "<style>\n",
              "  .colab-df-quickchart {\n",
              "      --bg-color: #E8F0FE;\n",
              "      --fill-color: #1967D2;\n",
              "      --hover-bg-color: #E2EBFA;\n",
              "      --hover-fill-color: #174EA6;\n",
              "      --disabled-fill-color: #AAA;\n",
              "      --disabled-bg-color: #DDD;\n",
              "  }\n",
              "\n",
              "  [theme=dark] .colab-df-quickchart {\n",
              "      --bg-color: #3B4455;\n",
              "      --fill-color: #D2E3FC;\n",
              "      --hover-bg-color: #434B5C;\n",
              "      --hover-fill-color: #FFFFFF;\n",
              "      --disabled-bg-color: #3B4455;\n",
              "      --disabled-fill-color: #666;\n",
              "  }\n",
              "\n",
              "  .colab-df-quickchart {\n",
              "    background-color: var(--bg-color);\n",
              "    border: none;\n",
              "    border-radius: 50%;\n",
              "    cursor: pointer;\n",
              "    display: none;\n",
              "    fill: var(--fill-color);\n",
              "    height: 32px;\n",
              "    padding: 0;\n",
              "    width: 32px;\n",
              "  }\n",
              "\n",
              "  .colab-df-quickchart:hover {\n",
              "    background-color: var(--hover-bg-color);\n",
              "    box-shadow: 0 1px 2px rgba(60, 64, 67, 0.3), 0 1px 3px 1px rgba(60, 64, 67, 0.15);\n",
              "    fill: var(--button-hover-fill-color);\n",
              "  }\n",
              "\n",
              "  .colab-df-quickchart-complete:disabled,\n",
              "  .colab-df-quickchart-complete:disabled:hover {\n",
              "    background-color: var(--disabled-bg-color);\n",
              "    fill: var(--disabled-fill-color);\n",
              "    box-shadow: none;\n",
              "  }\n",
              "\n",
              "  .colab-df-spinner {\n",
              "    border: 2px solid var(--fill-color);\n",
              "    border-color: transparent;\n",
              "    border-bottom-color: var(--fill-color);\n",
              "    animation:\n",
              "      spin 1s steps(1) infinite;\n",
              "  }\n",
              "\n",
              "  @keyframes spin {\n",
              "    0% {\n",
              "      border-color: transparent;\n",
              "      border-bottom-color: var(--fill-color);\n",
              "      border-left-color: var(--fill-color);\n",
              "    }\n",
              "    20% {\n",
              "      border-color: transparent;\n",
              "      border-left-color: var(--fill-color);\n",
              "      border-top-color: var(--fill-color);\n",
              "    }\n",
              "    30% {\n",
              "      border-color: transparent;\n",
              "      border-left-color: var(--fill-color);\n",
              "      border-top-color: var(--fill-color);\n",
              "      border-right-color: var(--fill-color);\n",
              "    }\n",
              "    40% {\n",
              "      border-color: transparent;\n",
              "      border-right-color: var(--fill-color);\n",
              "      border-top-color: var(--fill-color);\n",
              "    }\n",
              "    60% {\n",
              "      border-color: transparent;\n",
              "      border-right-color: var(--fill-color);\n",
              "    }\n",
              "    80% {\n",
              "      border-color: transparent;\n",
              "      border-right-color: var(--fill-color);\n",
              "      border-bottom-color: var(--fill-color);\n",
              "    }\n",
              "    90% {\n",
              "      border-color: transparent;\n",
              "      border-bottom-color: var(--fill-color);\n",
              "    }\n",
              "  }\n",
              "</style>\n",
              "\n",
              "  <script>\n",
              "    async function quickchart(key) {\n",
              "      const quickchartButtonEl =\n",
              "        document.querySelector('#' + key + ' button');\n",
              "      quickchartButtonEl.disabled = true;  // To prevent multiple clicks.\n",
              "      quickchartButtonEl.classList.add('colab-df-spinner');\n",
              "      try {\n",
              "        const charts = await google.colab.kernel.invokeFunction(\n",
              "            'suggestCharts', [key], {});\n",
              "      } catch (error) {\n",
              "        console.error('Error during call to suggestCharts:', error);\n",
              "      }\n",
              "      quickchartButtonEl.classList.remove('colab-df-spinner');\n",
              "      quickchartButtonEl.classList.add('colab-df-quickchart-complete');\n",
              "    }\n",
              "    (() => {\n",
              "      let quickchartButtonEl =\n",
              "        document.querySelector('#df-0ee1fbbf-1a7d-4fcf-8f4e-b1650ce0af4d button');\n",
              "      quickchartButtonEl.style.display =\n",
              "        google.colab.kernel.accessAllowed ? 'block' : 'none';\n",
              "    })();\n",
              "  </script>\n",
              "</div>\n",
              "\n",
              "    </div>\n",
              "  </div>\n"
            ],
            "application/vnd.google.colaboratory.intrinsic+json": {
              "type": "dataframe",
              "repr_error": "0"
            }
          },
          "metadata": {},
          "execution_count": 19
        }
      ]
    },
    {
      "cell_type": "markdown",
      "metadata": {
        "id": "JwwTutWZv-Mp"
      },
      "source": [
        "## PART 4: Define the Models"
      ]
    },
    {
      "cell_type": "markdown",
      "metadata": {
        "id": "cip2eBLs6djD"
      },
      "source": [
        "##### STEP 1: Reference Paper Keras Model\n",
        "\n",
        "Original Paper Reference: https://philarchive.org/archive/SALCOR-3"
      ]
    },
    {
      "cell_type": "code",
      "execution_count": null,
      "metadata": {
        "colab": {
          "base_uri": "https://localhost:8080/"
        },
        "id": "LrRqOaEe6lH2",
        "outputId": "510fb6d3-857d-4d1c-d8c4-a0a6d38e1fa8"
      },
      "outputs": [
        {
          "output_type": "stream",
          "name": "stderr",
          "text": [
            "/usr/local/lib/python3.11/dist-packages/keras/src/layers/convolutional/base_conv.py:107: UserWarning: Do not pass an `input_shape`/`input_dim` argument to a layer. When using Sequential models, prefer using an `Input(shape)` object as the first layer in the model instead.\n",
            "  super().__init__(activity_regularizer=activity_regularizer, **kwargs)\n"
          ]
        }
      ],
      "source": [
        "model_reference = models.Sequential()\n",
        "model_reference.add(layers.Conv2D(32, (3, 3), activation='relu',\n",
        "  input_shape=(256, 256, 3)))\n",
        "model_reference.add(layers.MaxPooling2D((2, 2)))\n",
        "model_reference.add(layers.Conv2D(64, (3, 3), activation='relu'))\n",
        "model_reference.add(layers.MaxPooling2D((2, 2)))\n",
        "model_reference.add(layers.Conv2D(128, (3, 3), activation='relu'))\n",
        "model_reference.add(layers.MaxPooling2D((2, 2)))\n",
        "model_reference.add(layers.Conv2D(256, (3, 3), activation='relu'))\n",
        "model_reference.add(layers.MaxPooling2D((2, 2)))\n",
        "model_reference.add(layers.Conv2D(256, (3, 3), activation='relu'))\n",
        "model_reference.add(layers.MaxPooling2D((2, 2)))\n",
        "model_reference.add(layers.Conv2D(512, (3, 3), activation='relu'))\n",
        "model_reference.add(layers.MaxPooling2D((2, 2)))\n",
        "model_reference.add(layers.Flatten())\n",
        "model_reference.add(layers.Dense(512, activation='relu'))\n",
        "model_reference.add(layers.Dense(2, activation='softmax'))"
      ]
    },
    {
      "cell_type": "markdown",
      "source": [
        "##### STEP 2: Keras Model Optimizations"
      ],
      "metadata": {
        "id": "cEjOK31QlA7y"
      }
    },
    {
      "cell_type": "markdown",
      "source": [
        "**Model 1**\n",
        "\n",
        "Optimizations:\n",
        "\n",
        "\n",
        "*   Add transformations to the model's data\n",
        "\n"
      ],
      "metadata": {
        "id": "F3KpgLtpmIRa"
      }
    },
    {
      "cell_type": "code",
      "source": [
        "keras_moreTransforms = models.Sequential()\n",
        "keras_moreTransforms.add(layers.Conv2D(32, (3, 3), activation='relu',\n",
        "  input_shape=(256, 256, 3)))\n",
        "keras_moreTransforms.add(layers.MaxPooling2D((2, 2)))\n",
        "keras_moreTransforms.add(layers.Conv2D(64, (3, 3), activation='relu'))\n",
        "keras_moreTransforms.add(layers.MaxPooling2D((2, 2)))\n",
        "keras_moreTransforms.add(layers.Conv2D(128, (3, 3), activation='relu'))\n",
        "keras_moreTransforms.add(layers.MaxPooling2D((2, 2)))\n",
        "keras_moreTransforms.add(layers.Conv2D(256, (3, 3), activation='relu'))\n",
        "keras_moreTransforms.add(layers.MaxPooling2D((2, 2)))\n",
        "keras_moreTransforms.add(layers.Conv2D(256, (3, 3), activation='relu'))\n",
        "keras_moreTransforms.add(layers.MaxPooling2D((2, 2)))\n",
        "keras_moreTransforms.add(layers.Conv2D(512, (3, 3), activation='relu'))\n",
        "keras_moreTransforms.add(layers.MaxPooling2D((2, 2)))\n",
        "keras_moreTransforms.add(layers.Flatten())\n",
        "keras_moreTransforms.add(layers.Dense(512, activation='relu'))\n",
        "keras_moreTransforms.add(layers.Dense(2, activation='softmax'))"
      ],
      "metadata": {
        "id": "NILntG5ck_pN"
      },
      "execution_count": null,
      "outputs": []
    },
    {
      "cell_type": "markdown",
      "metadata": {
        "id": "81-Mx1pH6gOZ"
      },
      "source": [
        "##### STEP 3: PyTorch Conversion\n",
        "\n",
        "Convert the Reference Paper Keras Model to PyTorch"
      ]
    },
    {
      "cell_type": "code",
      "source": [
        "# The Reference Model Converted\n",
        "\n",
        "conv2d_ks = 3 # Conv2d Kernel Size\n",
        "conv2d_pad = 1 # Conv2d Padding\n",
        "conv2d_s = 1 # Conv2d Stride\n",
        "\n",
        "maxpool2d_ks = 2 # MaxPool2d Kernel Size\n",
        "maxpool2d_s = 2 # MaxPool2d Stride\n",
        "\n",
        "model_pytorch_conversion = nn.Sequential(\n",
        "    nn.Conv2d(3, 32, kernel_size=conv2d_ks, padding=conv2d_pad, stride=conv2d_s),\n",
        "    nn.ReLU(),\n",
        "    nn.MaxPool2d(kernel_size=maxpool2d_ks, stride=maxpool2d_s),\n",
        "    nn.Conv2d(32, 64, kernel_size=conv2d_ks, padding=conv2d_pad, stride=conv2d_s),\n",
        "    nn.ReLU(),\n",
        "    nn.MaxPool2d(kernel_size=maxpool2d_ks, stride=maxpool2d_s),\n",
        "    nn.Conv2d(64, 128, kernel_size=conv2d_ks, padding=conv2d_pad, stride=conv2d_s),\n",
        "    nn.ReLU(),\n",
        "    nn.MaxPool2d(kernel_size=maxpool2d_ks, stride=maxpool2d_s),\n",
        "    nn.Conv2d(128, 256, kernel_size=conv2d_ks, padding=conv2d_pad, stride=conv2d_s),\n",
        "    nn.ReLU(),\n",
        "    nn.MaxPool2d(kernel_size=maxpool2d_ks, stride=maxpool2d_s),\n",
        "    nn.Conv2d(256, 256, kernel_size=conv2d_ks, padding=conv2d_pad, stride=conv2d_s),\n",
        "    nn.ReLU(),\n",
        "    nn.MaxPool2d(kernel_size=maxpool2d_ks, stride=maxpool2d_s),\n",
        "    nn.Conv2d(256, 512, kernel_size=conv2d_ks, padding=conv2d_pad, stride=conv2d_s),\n",
        "    nn.ReLU(),\n",
        "    nn.MaxPool2d(kernel_size=maxpool2d_ks, stride=maxpool2d_s),\n",
        "    nn.Flatten(),\n",
        "    nn.Linear(8192, 512),\n",
        "    nn.ReLU(),\n",
        "    nn.Linear(512, 1),\n",
        ")"
      ],
      "metadata": {
        "id": "JtCmGZ1HUmiU"
      },
      "execution_count": null,
      "outputs": []
    },
    {
      "cell_type": "markdown",
      "metadata": {
        "id": "U6ke4uY5-6eP"
      },
      "source": [
        "##### STEP 4: PyTorch Model Optimizations\n",
        "\n",
        "We optimize the PyTorch Conversion model to achieve better scores and classify images as real or fake, and then classify the fake images as synthetic or deepfake."
      ]
    },
    {
      "cell_type": "markdown",
      "source": [
        "**Model 1**\n",
        "\n",
        "Optimizations:\n",
        "\n",
        "\n",
        "*   List item\n",
        "*   List item\n",
        "\n"
      ],
      "metadata": {
        "id": "1R0OQHgRzLCm"
      }
    },
    {
      "cell_type": "code",
      "execution_count": null,
      "metadata": {
        "id": "zn7UWxCS-7zJ"
      },
      "outputs": [],
      "source": []
    },
    {
      "cell_type": "markdown",
      "source": [
        "**Model 2**\n",
        "\n",
        "Optimizations:\n",
        "\n",
        "*   List item\n",
        "*   List item\n"
      ],
      "metadata": {
        "id": "aoSfcXowzaGq"
      }
    },
    {
      "cell_type": "code",
      "source": [],
      "metadata": {
        "id": "mfbHjPjUzh_f"
      },
      "execution_count": null,
      "outputs": []
    },
    {
      "cell_type": "markdown",
      "source": [
        "**Model 3**\n",
        "\n",
        "Optimizations:\n",
        "\n",
        "*   List item\n",
        "*   List item"
      ],
      "metadata": {
        "id": "AhY0hXHjziSK"
      }
    },
    {
      "cell_type": "code",
      "source": [],
      "metadata": {
        "id": "NfVMccPBznSy"
      },
      "execution_count": null,
      "outputs": []
    },
    {
      "cell_type": "markdown",
      "source": [
        "## PART 5: Establishing the Baseline\n",
        "\n",
        "Goal: Confirm that the Keras Model and PyTorch Conversion have the same accuracy on both the test and train set."
      ],
      "metadata": {
        "id": "7A6b263Fy-Lh"
      }
    },
    {
      "cell_type": "code",
      "source": [
        "IMG_SIZE = 256\n",
        "EPOCHS = 10\n",
        "DEVICE = torch.device(\"cuda\" if torch.cuda.is_available() else \"cpu\")"
      ],
      "metadata": {
        "id": "UWB6bNpGm2iG"
      },
      "execution_count": null,
      "outputs": []
    },
    {
      "cell_type": "code",
      "source": [
        "def basic_process_data(dataset, path):\n",
        "    keras_data = []\n",
        "    torch_data = []\n",
        "    labels = []\n",
        "\n",
        "    for _, row in dataset.iterrows():\n",
        "        image_path = ''.join([path, row[\"images_id\"], '.jpg'])\n",
        "\n",
        "        try:\n",
        "            img = Image.open(image_path).resize((256,256))\n",
        "            img = np.array(img) / 255.0\n",
        "            keras_data.append(img)\n",
        "            img = torch.FloatTensor(img).permute(2, 0, 1)\n",
        "            torch_data.append(img)\n",
        "            labels.append(row[\"label\"])\n",
        "\n",
        "        except Exception as e:\n",
        "            print(f\"Error loading or processing image {image_path}: {e}\")\n",
        "\n",
        "    num_classes = len(set(labels))\n",
        "    torch_labels = torch.tensor(labels, dtype=torch.float32).squeeze(0).to(DEVICE)\n",
        "    torch_data = torch.stack(torch_data).to(DEVICE)\n",
        "\n",
        "    return np.array(keras_data), to_categorical(np.array(labels), num_classes=num_classes), torch_data, torch_labels"
      ],
      "metadata": {
        "id": "yOuAEWRE_e_5"
      },
      "execution_count": null,
      "outputs": []
    },
    {
      "cell_type": "code",
      "source": [
        "fakeVReal_TrainData, fakeVReal_TrainLabels, fakeVReal_TrainData_T, fakeVReal_TrainLabels_T = basic_process_data(df_train_RealVFake, FAKEVREAL_IMAGE_PATH)\n",
        "fakeVReal_TestData, fakeVReal_TestLabels, fakeVReal_TestData_T, fakeVReal_TestLabels_T = basic_process_data(df_test_RealVFake, FAKEVREAL_IMAGE_PATH)"
      ],
      "metadata": {
        "id": "vDlX2J3yjkwV"
      },
      "execution_count": null,
      "outputs": []
    },
    {
      "cell_type": "markdown",
      "source": [
        "##### STEP 1: Train the Base Keras Model"
      ],
      "metadata": {
        "id": "txOKAww2zw_J"
      }
    },
    {
      "cell_type": "code",
      "source": [
        "model_reference.compile(\n",
        "    optimizer='adam',\n",
        "    loss='categorical_crossentropy',\n",
        "    metrics=['accuracy']\n",
        "    )\n",
        "\n",
        "model_reference_results = model_reference.fit(fakeVReal_TrainData, fakeVReal_TrainLabels, epochs=EPOCHS, validation_data=(fakeVReal_TestData, fakeVReal_TestLabels))\n",
        "model_reference_history = pd.DataFrame(model_reference_results.history)"
      ],
      "metadata": {
        "colab": {
          "base_uri": "https://localhost:8080/"
        },
        "id": "6LKtxV7z_ln7",
        "outputId": "b71b9c09-163b-47fa-9263-00faa415bbc6"
      },
      "execution_count": null,
      "outputs": [
        {
          "output_type": "stream",
          "name": "stdout",
          "text": [
            "Epoch 1/10\n",
            "\u001b[1m33/33\u001b[0m \u001b[32m━━━━━━━━━━━━━━━━━━━━\u001b[0m\u001b[37m\u001b[0m \u001b[1m22s\u001b[0m 369ms/step - accuracy: 0.5015 - loss: 0.7015 - val_accuracy: 0.5388 - val_loss: 0.6924\n",
            "Epoch 2/10\n",
            "\u001b[1m33/33\u001b[0m \u001b[32m━━━━━━━━━━━━━━━━━━━━\u001b[0m\u001b[37m\u001b[0m \u001b[1m4s\u001b[0m 81ms/step - accuracy: 0.5611 - loss: 0.6920 - val_accuracy: 0.5426 - val_loss: 0.6811\n",
            "Epoch 3/10\n",
            "\u001b[1m33/33\u001b[0m \u001b[32m━━━━━━━━━━━━━━━━━━━━\u001b[0m\u001b[37m\u001b[0m \u001b[1m5s\u001b[0m 77ms/step - accuracy: 0.6856 - loss: 0.5862 - val_accuracy: 0.8953 - val_loss: 0.2513\n",
            "Epoch 4/10\n",
            "\u001b[1m33/33\u001b[0m \u001b[32m━━━━━━━━━━━━━━━━━━━━\u001b[0m\u001b[37m\u001b[0m \u001b[1m5s\u001b[0m 78ms/step - accuracy: 0.9424 - loss: 0.1486 - val_accuracy: 0.9845 - val_loss: 0.0449\n",
            "Epoch 5/10\n",
            "\u001b[1m33/33\u001b[0m \u001b[32m━━━━━━━━━━━━━━━━━━━━\u001b[0m\u001b[37m\u001b[0m \u001b[1m5s\u001b[0m 77ms/step - accuracy: 0.9891 - loss: 0.0313 - val_accuracy: 0.9884 - val_loss: 0.0402\n",
            "Epoch 6/10\n",
            "\u001b[1m33/33\u001b[0m \u001b[32m━━━━━━━━━━━━━━━━━━━━\u001b[0m\u001b[37m\u001b[0m \u001b[1m5s\u001b[0m 78ms/step - accuracy: 0.9962 - loss: 0.0103 - val_accuracy: 0.9922 - val_loss: 0.0462\n",
            "Epoch 7/10\n",
            "\u001b[1m33/33\u001b[0m \u001b[32m━━━━━━━━━━━━━━━━━━━━\u001b[0m\u001b[37m\u001b[0m \u001b[1m3s\u001b[0m 81ms/step - accuracy: 0.9951 - loss: 0.0061 - val_accuracy: 0.9884 - val_loss: 0.0251\n",
            "Epoch 8/10\n",
            "\u001b[1m33/33\u001b[0m \u001b[32m━━━━━━━━━━━━━━━━━━━━\u001b[0m\u001b[37m\u001b[0m \u001b[1m5s\u001b[0m 81ms/step - accuracy: 0.9990 - loss: 0.0029 - val_accuracy: 0.9961 - val_loss: 0.0104\n",
            "Epoch 9/10\n",
            "\u001b[1m33/33\u001b[0m \u001b[32m━━━━━━━━━━━━━━━━━━━━\u001b[0m\u001b[37m\u001b[0m \u001b[1m5s\u001b[0m 78ms/step - accuracy: 1.0000 - loss: 3.1290e-04 - val_accuracy: 0.9884 - val_loss: 0.0253\n",
            "Epoch 10/10\n",
            "\u001b[1m33/33\u001b[0m \u001b[32m━━━━━━━━━━━━━━━━━━━━\u001b[0m\u001b[37m\u001b[0m \u001b[1m5s\u001b[0m 81ms/step - accuracy: 1.0000 - loss: 8.9395e-05 - val_accuracy: 0.9884 - val_loss: 0.0265\n"
          ]
        }
      ]
    },
    {
      "cell_type": "code",
      "source": [
        "model_reference_results.history"
      ],
      "metadata": {
        "colab": {
          "base_uri": "https://localhost:8080/"
        },
        "id": "u_xqq8PJXG6Q",
        "outputId": "5973c7a4-e8e8-4bfc-e226-037336f844de"
      },
      "execution_count": null,
      "outputs": [
        {
          "output_type": "execute_result",
          "data": {
            "text/plain": [
              "{'accuracy': [0.5286129713058472,\n",
              "  0.5460717678070068,\n",
              "  0.7487875819206238,\n",
              "  0.9602327942848206,\n",
              "  0.9922405481338501,\n",
              "  0.9941803812980652,\n",
              "  0.997090220451355,\n",
              "  0.9990300536155701,\n",
              "  1.0,\n",
              "  1.0],\n",
              " 'loss': [0.6942375898361206,\n",
              "  0.6916074156761169,\n",
              "  0.5070012211799622,\n",
              "  0.11541995406150818,\n",
              "  0.026635823771357536,\n",
              "  0.01502735260874033,\n",
              "  0.005653710570186377,\n",
              "  0.0031331495847553015,\n",
              "  0.0003144029469694942,\n",
              "  7.367113721556962e-05],\n",
              " 'val_accuracy': [0.538759708404541,\n",
              "  0.5426356792449951,\n",
              "  0.895348846912384,\n",
              "  0.9844961166381836,\n",
              "  0.9883720874786377,\n",
              "  0.9922480583190918,\n",
              "  0.9883720874786377,\n",
              "  0.9961240291595459,\n",
              "  0.9883720874786377,\n",
              "  0.9883720874786377],\n",
              " 'val_loss': [0.6923757195472717,\n",
              "  0.6810609102249146,\n",
              "  0.25125837326049805,\n",
              "  0.04485376179218292,\n",
              "  0.04022824019193649,\n",
              "  0.04617161303758621,\n",
              "  0.02512970194220543,\n",
              "  0.010362314991652966,\n",
              "  0.025299230590462685,\n",
              "  0.026459326967597008]}"
            ]
          },
          "metadata": {},
          "execution_count": 27
        }
      ]
    },
    {
      "cell_type": "code",
      "source": [
        "model_reference_history.to_csv(''.join(['/content/', project_folder, \"/model_reference_history.csv\"]))\n",
        "model_reference_history"
      ],
      "metadata": {
        "colab": {
          "base_uri": "https://localhost:8080/",
          "height": 363
        },
        "id": "usql5X94WAb5",
        "outputId": "dbd9d2da-d28f-4013-8813-9b33866f7ca2"
      },
      "execution_count": null,
      "outputs": [
        {
          "output_type": "execute_result",
          "data": {
            "text/plain": [
              "   accuracy      loss  val_accuracy  val_loss\n",
              "0  0.528613  0.694238      0.538760  0.692376\n",
              "1  0.546072  0.691607      0.542636  0.681061\n",
              "2  0.748788  0.507001      0.895349  0.251258\n",
              "3  0.960233  0.115420      0.984496  0.044854\n",
              "4  0.992241  0.026636      0.988372  0.040228\n",
              "5  0.994180  0.015027      0.992248  0.046172\n",
              "6  0.997090  0.005654      0.988372  0.025130\n",
              "7  0.999030  0.003133      0.996124  0.010362\n",
              "8  1.000000  0.000314      0.988372  0.025299\n",
              "9  1.000000  0.000074      0.988372  0.026459"
            ],
            "text/html": [
              "\n",
              "  <div id=\"df-18b3953f-25df-4c25-845b-762c5fcf1a75\" class=\"colab-df-container\">\n",
              "    <div>\n",
              "<style scoped>\n",
              "    .dataframe tbody tr th:only-of-type {\n",
              "        vertical-align: middle;\n",
              "    }\n",
              "\n",
              "    .dataframe tbody tr th {\n",
              "        vertical-align: top;\n",
              "    }\n",
              "\n",
              "    .dataframe thead th {\n",
              "        text-align: right;\n",
              "    }\n",
              "</style>\n",
              "<table border=\"1\" class=\"dataframe\">\n",
              "  <thead>\n",
              "    <tr style=\"text-align: right;\">\n",
              "      <th></th>\n",
              "      <th>accuracy</th>\n",
              "      <th>loss</th>\n",
              "      <th>val_accuracy</th>\n",
              "      <th>val_loss</th>\n",
              "    </tr>\n",
              "  </thead>\n",
              "  <tbody>\n",
              "    <tr>\n",
              "      <th>0</th>\n",
              "      <td>0.528613</td>\n",
              "      <td>0.694238</td>\n",
              "      <td>0.538760</td>\n",
              "      <td>0.692376</td>\n",
              "    </tr>\n",
              "    <tr>\n",
              "      <th>1</th>\n",
              "      <td>0.546072</td>\n",
              "      <td>0.691607</td>\n",
              "      <td>0.542636</td>\n",
              "      <td>0.681061</td>\n",
              "    </tr>\n",
              "    <tr>\n",
              "      <th>2</th>\n",
              "      <td>0.748788</td>\n",
              "      <td>0.507001</td>\n",
              "      <td>0.895349</td>\n",
              "      <td>0.251258</td>\n",
              "    </tr>\n",
              "    <tr>\n",
              "      <th>3</th>\n",
              "      <td>0.960233</td>\n",
              "      <td>0.115420</td>\n",
              "      <td>0.984496</td>\n",
              "      <td>0.044854</td>\n",
              "    </tr>\n",
              "    <tr>\n",
              "      <th>4</th>\n",
              "      <td>0.992241</td>\n",
              "      <td>0.026636</td>\n",
              "      <td>0.988372</td>\n",
              "      <td>0.040228</td>\n",
              "    </tr>\n",
              "    <tr>\n",
              "      <th>5</th>\n",
              "      <td>0.994180</td>\n",
              "      <td>0.015027</td>\n",
              "      <td>0.992248</td>\n",
              "      <td>0.046172</td>\n",
              "    </tr>\n",
              "    <tr>\n",
              "      <th>6</th>\n",
              "      <td>0.997090</td>\n",
              "      <td>0.005654</td>\n",
              "      <td>0.988372</td>\n",
              "      <td>0.025130</td>\n",
              "    </tr>\n",
              "    <tr>\n",
              "      <th>7</th>\n",
              "      <td>0.999030</td>\n",
              "      <td>0.003133</td>\n",
              "      <td>0.996124</td>\n",
              "      <td>0.010362</td>\n",
              "    </tr>\n",
              "    <tr>\n",
              "      <th>8</th>\n",
              "      <td>1.000000</td>\n",
              "      <td>0.000314</td>\n",
              "      <td>0.988372</td>\n",
              "      <td>0.025299</td>\n",
              "    </tr>\n",
              "    <tr>\n",
              "      <th>9</th>\n",
              "      <td>1.000000</td>\n",
              "      <td>0.000074</td>\n",
              "      <td>0.988372</td>\n",
              "      <td>0.026459</td>\n",
              "    </tr>\n",
              "  </tbody>\n",
              "</table>\n",
              "</div>\n",
              "    <div class=\"colab-df-buttons\">\n",
              "\n",
              "  <div class=\"colab-df-container\">\n",
              "    <button class=\"colab-df-convert\" onclick=\"convertToInteractive('df-18b3953f-25df-4c25-845b-762c5fcf1a75')\"\n",
              "            title=\"Convert this dataframe to an interactive table.\"\n",
              "            style=\"display:none;\">\n",
              "\n",
              "  <svg xmlns=\"http://www.w3.org/2000/svg\" height=\"24px\" viewBox=\"0 -960 960 960\">\n",
              "    <path d=\"M120-120v-720h720v720H120Zm60-500h600v-160H180v160Zm220 220h160v-160H400v160Zm0 220h160v-160H400v160ZM180-400h160v-160H180v160Zm440 0h160v-160H620v160ZM180-180h160v-160H180v160Zm440 0h160v-160H620v160Z\"/>\n",
              "  </svg>\n",
              "    </button>\n",
              "\n",
              "  <style>\n",
              "    .colab-df-container {\n",
              "      display:flex;\n",
              "      gap: 12px;\n",
              "    }\n",
              "\n",
              "    .colab-df-convert {\n",
              "      background-color: #E8F0FE;\n",
              "      border: none;\n",
              "      border-radius: 50%;\n",
              "      cursor: pointer;\n",
              "      display: none;\n",
              "      fill: #1967D2;\n",
              "      height: 32px;\n",
              "      padding: 0 0 0 0;\n",
              "      width: 32px;\n",
              "    }\n",
              "\n",
              "    .colab-df-convert:hover {\n",
              "      background-color: #E2EBFA;\n",
              "      box-shadow: 0px 1px 2px rgba(60, 64, 67, 0.3), 0px 1px 3px 1px rgba(60, 64, 67, 0.15);\n",
              "      fill: #174EA6;\n",
              "    }\n",
              "\n",
              "    .colab-df-buttons div {\n",
              "      margin-bottom: 4px;\n",
              "    }\n",
              "\n",
              "    [theme=dark] .colab-df-convert {\n",
              "      background-color: #3B4455;\n",
              "      fill: #D2E3FC;\n",
              "    }\n",
              "\n",
              "    [theme=dark] .colab-df-convert:hover {\n",
              "      background-color: #434B5C;\n",
              "      box-shadow: 0px 1px 3px 1px rgba(0, 0, 0, 0.15);\n",
              "      filter: drop-shadow(0px 1px 2px rgba(0, 0, 0, 0.3));\n",
              "      fill: #FFFFFF;\n",
              "    }\n",
              "  </style>\n",
              "\n",
              "    <script>\n",
              "      const buttonEl =\n",
              "        document.querySelector('#df-18b3953f-25df-4c25-845b-762c5fcf1a75 button.colab-df-convert');\n",
              "      buttonEl.style.display =\n",
              "        google.colab.kernel.accessAllowed ? 'block' : 'none';\n",
              "\n",
              "      async function convertToInteractive(key) {\n",
              "        const element = document.querySelector('#df-18b3953f-25df-4c25-845b-762c5fcf1a75');\n",
              "        const dataTable =\n",
              "          await google.colab.kernel.invokeFunction('convertToInteractive',\n",
              "                                                    [key], {});\n",
              "        if (!dataTable) return;\n",
              "\n",
              "        const docLinkHtml = 'Like what you see? Visit the ' +\n",
              "          '<a target=\"_blank\" href=https://colab.research.google.com/notebooks/data_table.ipynb>data table notebook</a>'\n",
              "          + ' to learn more about interactive tables.';\n",
              "        element.innerHTML = '';\n",
              "        dataTable['output_type'] = 'display_data';\n",
              "        await google.colab.output.renderOutput(dataTable, element);\n",
              "        const docLink = document.createElement('div');\n",
              "        docLink.innerHTML = docLinkHtml;\n",
              "        element.appendChild(docLink);\n",
              "      }\n",
              "    </script>\n",
              "  </div>\n",
              "\n",
              "\n",
              "<div id=\"df-a3ff356f-d5b4-4ed9-a24e-c92f8169497d\">\n",
              "  <button class=\"colab-df-quickchart\" onclick=\"quickchart('df-a3ff356f-d5b4-4ed9-a24e-c92f8169497d')\"\n",
              "            title=\"Suggest charts\"\n",
              "            style=\"display:none;\">\n",
              "\n",
              "<svg xmlns=\"http://www.w3.org/2000/svg\" height=\"24px\"viewBox=\"0 0 24 24\"\n",
              "     width=\"24px\">\n",
              "    <g>\n",
              "        <path d=\"M19 3H5c-1.1 0-2 .9-2 2v14c0 1.1.9 2 2 2h14c1.1 0 2-.9 2-2V5c0-1.1-.9-2-2-2zM9 17H7v-7h2v7zm4 0h-2V7h2v10zm4 0h-2v-4h2v4z\"/>\n",
              "    </g>\n",
              "</svg>\n",
              "  </button>\n",
              "\n",
              "<style>\n",
              "  .colab-df-quickchart {\n",
              "      --bg-color: #E8F0FE;\n",
              "      --fill-color: #1967D2;\n",
              "      --hover-bg-color: #E2EBFA;\n",
              "      --hover-fill-color: #174EA6;\n",
              "      --disabled-fill-color: #AAA;\n",
              "      --disabled-bg-color: #DDD;\n",
              "  }\n",
              "\n",
              "  [theme=dark] .colab-df-quickchart {\n",
              "      --bg-color: #3B4455;\n",
              "      --fill-color: #D2E3FC;\n",
              "      --hover-bg-color: #434B5C;\n",
              "      --hover-fill-color: #FFFFFF;\n",
              "      --disabled-bg-color: #3B4455;\n",
              "      --disabled-fill-color: #666;\n",
              "  }\n",
              "\n",
              "  .colab-df-quickchart {\n",
              "    background-color: var(--bg-color);\n",
              "    border: none;\n",
              "    border-radius: 50%;\n",
              "    cursor: pointer;\n",
              "    display: none;\n",
              "    fill: var(--fill-color);\n",
              "    height: 32px;\n",
              "    padding: 0;\n",
              "    width: 32px;\n",
              "  }\n",
              "\n",
              "  .colab-df-quickchart:hover {\n",
              "    background-color: var(--hover-bg-color);\n",
              "    box-shadow: 0 1px 2px rgba(60, 64, 67, 0.3), 0 1px 3px 1px rgba(60, 64, 67, 0.15);\n",
              "    fill: var(--button-hover-fill-color);\n",
              "  }\n",
              "\n",
              "  .colab-df-quickchart-complete:disabled,\n",
              "  .colab-df-quickchart-complete:disabled:hover {\n",
              "    background-color: var(--disabled-bg-color);\n",
              "    fill: var(--disabled-fill-color);\n",
              "    box-shadow: none;\n",
              "  }\n",
              "\n",
              "  .colab-df-spinner {\n",
              "    border: 2px solid var(--fill-color);\n",
              "    border-color: transparent;\n",
              "    border-bottom-color: var(--fill-color);\n",
              "    animation:\n",
              "      spin 1s steps(1) infinite;\n",
              "  }\n",
              "\n",
              "  @keyframes spin {\n",
              "    0% {\n",
              "      border-color: transparent;\n",
              "      border-bottom-color: var(--fill-color);\n",
              "      border-left-color: var(--fill-color);\n",
              "    }\n",
              "    20% {\n",
              "      border-color: transparent;\n",
              "      border-left-color: var(--fill-color);\n",
              "      border-top-color: var(--fill-color);\n",
              "    }\n",
              "    30% {\n",
              "      border-color: transparent;\n",
              "      border-left-color: var(--fill-color);\n",
              "      border-top-color: var(--fill-color);\n",
              "      border-right-color: var(--fill-color);\n",
              "    }\n",
              "    40% {\n",
              "      border-color: transparent;\n",
              "      border-right-color: var(--fill-color);\n",
              "      border-top-color: var(--fill-color);\n",
              "    }\n",
              "    60% {\n",
              "      border-color: transparent;\n",
              "      border-right-color: var(--fill-color);\n",
              "    }\n",
              "    80% {\n",
              "      border-color: transparent;\n",
              "      border-right-color: var(--fill-color);\n",
              "      border-bottom-color: var(--fill-color);\n",
              "    }\n",
              "    90% {\n",
              "      border-color: transparent;\n",
              "      border-bottom-color: var(--fill-color);\n",
              "    }\n",
              "  }\n",
              "</style>\n",
              "\n",
              "  <script>\n",
              "    async function quickchart(key) {\n",
              "      const quickchartButtonEl =\n",
              "        document.querySelector('#' + key + ' button');\n",
              "      quickchartButtonEl.disabled = true;  // To prevent multiple clicks.\n",
              "      quickchartButtonEl.classList.add('colab-df-spinner');\n",
              "      try {\n",
              "        const charts = await google.colab.kernel.invokeFunction(\n",
              "            'suggestCharts', [key], {});\n",
              "      } catch (error) {\n",
              "        console.error('Error during call to suggestCharts:', error);\n",
              "      }\n",
              "      quickchartButtonEl.classList.remove('colab-df-spinner');\n",
              "      quickchartButtonEl.classList.add('colab-df-quickchart-complete');\n",
              "    }\n",
              "    (() => {\n",
              "      let quickchartButtonEl =\n",
              "        document.querySelector('#df-a3ff356f-d5b4-4ed9-a24e-c92f8169497d button');\n",
              "      quickchartButtonEl.style.display =\n",
              "        google.colab.kernel.accessAllowed ? 'block' : 'none';\n",
              "    })();\n",
              "  </script>\n",
              "</div>\n",
              "\n",
              "  <div id=\"id_4e0cc5f7-fe79-464f-a1ad-294807e4877e\">\n",
              "    <style>\n",
              "      .colab-df-generate {\n",
              "        background-color: #E8F0FE;\n",
              "        border: none;\n",
              "        border-radius: 50%;\n",
              "        cursor: pointer;\n",
              "        display: none;\n",
              "        fill: #1967D2;\n",
              "        height: 32px;\n",
              "        padding: 0 0 0 0;\n",
              "        width: 32px;\n",
              "      }\n",
              "\n",
              "      .colab-df-generate:hover {\n",
              "        background-color: #E2EBFA;\n",
              "        box-shadow: 0px 1px 2px rgba(60, 64, 67, 0.3), 0px 1px 3px 1px rgba(60, 64, 67, 0.15);\n",
              "        fill: #174EA6;\n",
              "      }\n",
              "\n",
              "      [theme=dark] .colab-df-generate {\n",
              "        background-color: #3B4455;\n",
              "        fill: #D2E3FC;\n",
              "      }\n",
              "\n",
              "      [theme=dark] .colab-df-generate:hover {\n",
              "        background-color: #434B5C;\n",
              "        box-shadow: 0px 1px 3px 1px rgba(0, 0, 0, 0.15);\n",
              "        filter: drop-shadow(0px 1px 2px rgba(0, 0, 0, 0.3));\n",
              "        fill: #FFFFFF;\n",
              "      }\n",
              "    </style>\n",
              "    <button class=\"colab-df-generate\" onclick=\"generateWithVariable('model_reference_history')\"\n",
              "            title=\"Generate code using this dataframe.\"\n",
              "            style=\"display:none;\">\n",
              "\n",
              "  <svg xmlns=\"http://www.w3.org/2000/svg\" height=\"24px\"viewBox=\"0 0 24 24\"\n",
              "       width=\"24px\">\n",
              "    <path d=\"M7,19H8.4L18.45,9,17,7.55,7,17.6ZM5,21V16.75L18.45,3.32a2,2,0,0,1,2.83,0l1.4,1.43a1.91,1.91,0,0,1,.58,1.4,1.91,1.91,0,0,1-.58,1.4L9.25,21ZM18.45,9,17,7.55Zm-12,3A5.31,5.31,0,0,0,4.9,8.1,5.31,5.31,0,0,0,1,6.5,5.31,5.31,0,0,0,4.9,4.9,5.31,5.31,0,0,0,6.5,1,5.31,5.31,0,0,0,8.1,4.9,5.31,5.31,0,0,0,12,6.5,5.46,5.46,0,0,0,6.5,12Z\"/>\n",
              "  </svg>\n",
              "    </button>\n",
              "    <script>\n",
              "      (() => {\n",
              "      const buttonEl =\n",
              "        document.querySelector('#id_4e0cc5f7-fe79-464f-a1ad-294807e4877e button.colab-df-generate');\n",
              "      buttonEl.style.display =\n",
              "        google.colab.kernel.accessAllowed ? 'block' : 'none';\n",
              "\n",
              "      buttonEl.onclick = () => {\n",
              "        google.colab.notebook.generateWithVariable('model_reference_history');\n",
              "      }\n",
              "      })();\n",
              "    </script>\n",
              "  </div>\n",
              "\n",
              "    </div>\n",
              "  </div>\n"
            ],
            "application/vnd.google.colaboratory.intrinsic+json": {
              "type": "dataframe",
              "variable_name": "model_reference_history",
              "summary": "{\n  \"name\": \"model_reference_history\",\n  \"rows\": 10,\n  \"fields\": [\n    {\n      \"column\": \"accuracy\",\n      \"properties\": {\n        \"dtype\": \"number\",\n        \"std\": 0.1946034002602107,\n        \"min\": 0.5286129713058472,\n        \"max\": 1.0,\n        \"num_unique_values\": 9,\n        \"samples\": [\n          0.9990300536155701,\n          0.5460717678070068,\n          0.9941803812980652\n        ],\n        \"semantic_type\": \"\",\n        \"description\": \"\"\n      }\n    },\n    {\n      \"column\": \"loss\",\n      \"properties\": {\n        \"dtype\": \"number\",\n        \"std\": 0.29956353029379656,\n        \"min\": 7.367113721556962e-05,\n        \"max\": 0.6942375898361206,\n        \"num_unique_values\": 10,\n        \"samples\": [\n          0.0003144029469694942,\n          0.6916074156761169,\n          0.01502735260874033\n        ],\n        \"semantic_type\": \"\",\n        \"description\": \"\"\n      }\n    },\n    {\n      \"column\": \"val_accuracy\",\n      \"properties\": {\n        \"dtype\": \"number\",\n        \"std\": 0.18661133819380613,\n        \"min\": 0.538759708404541,\n        \"max\": 0.9961240291595459,\n        \"num_unique_values\": 7,\n        \"samples\": [\n          0.538759708404541,\n          0.5426356792449951,\n          0.9922480583190918\n        ],\n        \"semantic_type\": \"\",\n        \"description\": \"\"\n      }\n    },\n    {\n      \"column\": \"val_loss\",\n      \"properties\": {\n        \"dtype\": \"number\",\n        \"std\": 0.27375202889116185,\n        \"min\": 0.010362314991652966,\n        \"max\": 0.6923757195472717,\n        \"num_unique_values\": 10,\n        \"samples\": [\n          0.025299230590462685,\n          0.6810609102249146,\n          0.04617161303758621\n        ],\n        \"semantic_type\": \"\",\n        \"description\": \"\"\n      }\n    }\n  ]\n}"
            }
          },
          "metadata": {},
          "execution_count": 28
        }
      ]
    },
    {
      "cell_type": "code",
      "source": [
        "model_reference.save(''.join(['/content/', project_folder, \"/model_reference.keras\"]))"
      ],
      "metadata": {
        "id": "2zpdK_82AYBc"
      },
      "execution_count": null,
      "outputs": []
    },
    {
      "cell_type": "markdown",
      "source": [
        "##### STEP 2: Train the Base PyTorch Conversion Model"
      ],
      "metadata": {
        "id": "RcXa8LT9lfj3"
      }
    },
    {
      "cell_type": "code",
      "source": [
        "BATCH_SIZE = 32\n",
        "LR = 1e-4\n",
        "\n",
        "GENERATOR = torch.Generator()\n",
        "GENERATOR.manual_seed(SEED)"
      ],
      "metadata": {
        "colab": {
          "base_uri": "https://localhost:8080/"
        },
        "id": "peejFjZu6Yd3",
        "outputId": "197f4f30-04d5-4832-af36-a55fbf66b531"
      },
      "execution_count": null,
      "outputs": [
        {
          "output_type": "execute_result",
          "data": {
            "text/plain": [
              "<torch._C.Generator at 0x7f824c49fa30>"
            ]
          },
          "metadata": {},
          "execution_count": 30
        }
      ]
    },
    {
      "cell_type": "code",
      "source": [
        "train_dataset = torch.utils.data.TensorDataset(fakeVReal_TrainData_T, fakeVReal_TrainLabels_T)\n",
        "test_dataset = torch.utils.data.TensorDataset(fakeVReal_TestData_T, fakeVReal_TestLabels_T)\n",
        "\n",
        "train_loader = DataLoader(train_dataset, batch_size=BATCH_SIZE, shuffle=True, generator=GENERATOR)\n",
        "val_loader = DataLoader(test_dataset, batch_size=BATCH_SIZE, shuffle=False)"
      ],
      "metadata": {
        "id": "avAbfeVom-wz"
      },
      "execution_count": null,
      "outputs": []
    },
    {
      "cell_type": "code",
      "source": [
        "pytorch_conversion_train_losses, pytorch_conversion_train_accuracies, pytorch_conversion_val_losses, pytorch_conversion_val_accuracies = train_torch(model_pytorch_conversion, learning_rate=LR)"
      ],
      "metadata": {
        "colab": {
          "base_uri": "https://localhost:8080/"
        },
        "id": "SX0mu48lewwr",
        "outputId": "c66e9176-ed72-48be-9d7c-ba5fc799afae"
      },
      "execution_count": null,
      "outputs": [
        {
          "output_type": "stream",
          "name": "stdout",
          "text": [
            "Epoch 1/10 — accuracy: 0.5354 - loss: 0.6914 - val_accuracy 0.5388 - val_loss: 0.6928\n",
            "Epoch 2/10 — accuracy: 0.6285 - loss: 0.6428 - val_accuracy 0.8605 - val_loss: 0.4347\n",
            "Epoch 3/10 — accuracy: 0.9146 - loss: 0.2057 - val_accuracy 0.9574 - val_loss: 0.0994\n",
            "Epoch 4/10 — accuracy: 0.9767 - loss: 0.0668 - val_accuracy 0.9961 - val_loss: 0.0197\n",
            "Epoch 5/10 — accuracy: 0.9913 - loss: 0.0262 - val_accuracy 1.0000 - val_loss: 0.0062\n",
            "Epoch 6/10 — accuracy: 0.9961 - loss: 0.0105 - val_accuracy 1.0000 - val_loss: 0.0043\n",
            "Epoch 7/10 — accuracy: 0.9990 - loss: 0.0030 - val_accuracy 0.9922 - val_loss: 0.0114\n",
            "Epoch 8/10 — accuracy: 1.0000 - loss: 0.0019 - val_accuracy 1.0000 - val_loss: 0.0050\n",
            "Epoch 9/10 — accuracy: 1.0000 - loss: 0.0007 - val_accuracy 1.0000 - val_loss: 0.0038\n",
            "Epoch 10/10 — accuracy: 1.0000 - loss: 0.0005 - val_accuracy 1.0000 - val_loss: 0.0058\n"
          ]
        }
      ]
    },
    {
      "cell_type": "code",
      "source": [
        "pytorch_conversion_history = pd.DataFrame({\n",
        "    'accuracy': pytorch_conversion_train_accuracies,\n",
        "    'loss': pytorch_conversion_train_losses,\n",
        "    'val_accuracy': pytorch_conversion_val_accuracies,\n",
        "    'val_loss': pytorch_conversion_val_losses\n",
        "})\n",
        "pytorch_conversion_history.to_csv(''.join(['/content/', project_folder, \"/pytorch_conversion_history.csv\"]))\n",
        "pytorch_conversion_history"
      ],
      "metadata": {
        "colab": {
          "base_uri": "https://localhost:8080/",
          "height": 363
        },
        "id": "sa4a27m-o4HT",
        "outputId": "fb504da3-f2f0-42aa-a7b7-5f5f35e91db1"
      },
      "execution_count": null,
      "outputs": [
        {
          "output_type": "execute_result",
          "data": {
            "text/plain": [
              "   accuracy      loss  val_accuracy  val_loss\n",
              "0  0.535403  0.691394      0.538760  0.692777\n",
              "1  0.628516  0.642838      0.860465  0.434692\n",
              "2  0.914646  0.205699      0.957364  0.099390\n",
              "3  0.976722  0.066830      0.996124  0.019714\n",
              "4  0.991271  0.026186      1.000000  0.006194\n",
              "5  0.996120  0.010459      1.000000  0.004348\n",
              "6  0.999030  0.003039      0.992248  0.011440\n",
              "7  1.000000  0.001915      1.000000  0.004969\n",
              "8  1.000000  0.000711      1.000000  0.003801\n",
              "9  1.000000  0.000538      1.000000  0.005806"
            ],
            "text/html": [
              "\n",
              "  <div id=\"df-1ba046ee-e9b1-47dc-8fef-5ce6fae5a068\" class=\"colab-df-container\">\n",
              "    <div>\n",
              "<style scoped>\n",
              "    .dataframe tbody tr th:only-of-type {\n",
              "        vertical-align: middle;\n",
              "    }\n",
              "\n",
              "    .dataframe tbody tr th {\n",
              "        vertical-align: top;\n",
              "    }\n",
              "\n",
              "    .dataframe thead th {\n",
              "        text-align: right;\n",
              "    }\n",
              "</style>\n",
              "<table border=\"1\" class=\"dataframe\">\n",
              "  <thead>\n",
              "    <tr style=\"text-align: right;\">\n",
              "      <th></th>\n",
              "      <th>accuracy</th>\n",
              "      <th>loss</th>\n",
              "      <th>val_accuracy</th>\n",
              "      <th>val_loss</th>\n",
              "    </tr>\n",
              "  </thead>\n",
              "  <tbody>\n",
              "    <tr>\n",
              "      <th>0</th>\n",
              "      <td>0.535403</td>\n",
              "      <td>0.691394</td>\n",
              "      <td>0.538760</td>\n",
              "      <td>0.692777</td>\n",
              "    </tr>\n",
              "    <tr>\n",
              "      <th>1</th>\n",
              "      <td>0.628516</td>\n",
              "      <td>0.642838</td>\n",
              "      <td>0.860465</td>\n",
              "      <td>0.434692</td>\n",
              "    </tr>\n",
              "    <tr>\n",
              "      <th>2</th>\n",
              "      <td>0.914646</td>\n",
              "      <td>0.205699</td>\n",
              "      <td>0.957364</td>\n",
              "      <td>0.099390</td>\n",
              "    </tr>\n",
              "    <tr>\n",
              "      <th>3</th>\n",
              "      <td>0.976722</td>\n",
              "      <td>0.066830</td>\n",
              "      <td>0.996124</td>\n",
              "      <td>0.019714</td>\n",
              "    </tr>\n",
              "    <tr>\n",
              "      <th>4</th>\n",
              "      <td>0.991271</td>\n",
              "      <td>0.026186</td>\n",
              "      <td>1.000000</td>\n",
              "      <td>0.006194</td>\n",
              "    </tr>\n",
              "    <tr>\n",
              "      <th>5</th>\n",
              "      <td>0.996120</td>\n",
              "      <td>0.010459</td>\n",
              "      <td>1.000000</td>\n",
              "      <td>0.004348</td>\n",
              "    </tr>\n",
              "    <tr>\n",
              "      <th>6</th>\n",
              "      <td>0.999030</td>\n",
              "      <td>0.003039</td>\n",
              "      <td>0.992248</td>\n",
              "      <td>0.011440</td>\n",
              "    </tr>\n",
              "    <tr>\n",
              "      <th>7</th>\n",
              "      <td>1.000000</td>\n",
              "      <td>0.001915</td>\n",
              "      <td>1.000000</td>\n",
              "      <td>0.004969</td>\n",
              "    </tr>\n",
              "    <tr>\n",
              "      <th>8</th>\n",
              "      <td>1.000000</td>\n",
              "      <td>0.000711</td>\n",
              "      <td>1.000000</td>\n",
              "      <td>0.003801</td>\n",
              "    </tr>\n",
              "    <tr>\n",
              "      <th>9</th>\n",
              "      <td>1.000000</td>\n",
              "      <td>0.000538</td>\n",
              "      <td>1.000000</td>\n",
              "      <td>0.005806</td>\n",
              "    </tr>\n",
              "  </tbody>\n",
              "</table>\n",
              "</div>\n",
              "    <div class=\"colab-df-buttons\">\n",
              "\n",
              "  <div class=\"colab-df-container\">\n",
              "    <button class=\"colab-df-convert\" onclick=\"convertToInteractive('df-1ba046ee-e9b1-47dc-8fef-5ce6fae5a068')\"\n",
              "            title=\"Convert this dataframe to an interactive table.\"\n",
              "            style=\"display:none;\">\n",
              "\n",
              "  <svg xmlns=\"http://www.w3.org/2000/svg\" height=\"24px\" viewBox=\"0 -960 960 960\">\n",
              "    <path d=\"M120-120v-720h720v720H120Zm60-500h600v-160H180v160Zm220 220h160v-160H400v160Zm0 220h160v-160H400v160ZM180-400h160v-160H180v160Zm440 0h160v-160H620v160ZM180-180h160v-160H180v160Zm440 0h160v-160H620v160Z\"/>\n",
              "  </svg>\n",
              "    </button>\n",
              "\n",
              "  <style>\n",
              "    .colab-df-container {\n",
              "      display:flex;\n",
              "      gap: 12px;\n",
              "    }\n",
              "\n",
              "    .colab-df-convert {\n",
              "      background-color: #E8F0FE;\n",
              "      border: none;\n",
              "      border-radius: 50%;\n",
              "      cursor: pointer;\n",
              "      display: none;\n",
              "      fill: #1967D2;\n",
              "      height: 32px;\n",
              "      padding: 0 0 0 0;\n",
              "      width: 32px;\n",
              "    }\n",
              "\n",
              "    .colab-df-convert:hover {\n",
              "      background-color: #E2EBFA;\n",
              "      box-shadow: 0px 1px 2px rgba(60, 64, 67, 0.3), 0px 1px 3px 1px rgba(60, 64, 67, 0.15);\n",
              "      fill: #174EA6;\n",
              "    }\n",
              "\n",
              "    .colab-df-buttons div {\n",
              "      margin-bottom: 4px;\n",
              "    }\n",
              "\n",
              "    [theme=dark] .colab-df-convert {\n",
              "      background-color: #3B4455;\n",
              "      fill: #D2E3FC;\n",
              "    }\n",
              "\n",
              "    [theme=dark] .colab-df-convert:hover {\n",
              "      background-color: #434B5C;\n",
              "      box-shadow: 0px 1px 3px 1px rgba(0, 0, 0, 0.15);\n",
              "      filter: drop-shadow(0px 1px 2px rgba(0, 0, 0, 0.3));\n",
              "      fill: #FFFFFF;\n",
              "    }\n",
              "  </style>\n",
              "\n",
              "    <script>\n",
              "      const buttonEl =\n",
              "        document.querySelector('#df-1ba046ee-e9b1-47dc-8fef-5ce6fae5a068 button.colab-df-convert');\n",
              "      buttonEl.style.display =\n",
              "        google.colab.kernel.accessAllowed ? 'block' : 'none';\n",
              "\n",
              "      async function convertToInteractive(key) {\n",
              "        const element = document.querySelector('#df-1ba046ee-e9b1-47dc-8fef-5ce6fae5a068');\n",
              "        const dataTable =\n",
              "          await google.colab.kernel.invokeFunction('convertToInteractive',\n",
              "                                                    [key], {});\n",
              "        if (!dataTable) return;\n",
              "\n",
              "        const docLinkHtml = 'Like what you see? Visit the ' +\n",
              "          '<a target=\"_blank\" href=https://colab.research.google.com/notebooks/data_table.ipynb>data table notebook</a>'\n",
              "          + ' to learn more about interactive tables.';\n",
              "        element.innerHTML = '';\n",
              "        dataTable['output_type'] = 'display_data';\n",
              "        await google.colab.output.renderOutput(dataTable, element);\n",
              "        const docLink = document.createElement('div');\n",
              "        docLink.innerHTML = docLinkHtml;\n",
              "        element.appendChild(docLink);\n",
              "      }\n",
              "    </script>\n",
              "  </div>\n",
              "\n",
              "\n",
              "<div id=\"df-f0a308ce-26ae-4dda-90d8-839e84d41daf\">\n",
              "  <button class=\"colab-df-quickchart\" onclick=\"quickchart('df-f0a308ce-26ae-4dda-90d8-839e84d41daf')\"\n",
              "            title=\"Suggest charts\"\n",
              "            style=\"display:none;\">\n",
              "\n",
              "<svg xmlns=\"http://www.w3.org/2000/svg\" height=\"24px\"viewBox=\"0 0 24 24\"\n",
              "     width=\"24px\">\n",
              "    <g>\n",
              "        <path d=\"M19 3H5c-1.1 0-2 .9-2 2v14c0 1.1.9 2 2 2h14c1.1 0 2-.9 2-2V5c0-1.1-.9-2-2-2zM9 17H7v-7h2v7zm4 0h-2V7h2v10zm4 0h-2v-4h2v4z\"/>\n",
              "    </g>\n",
              "</svg>\n",
              "  </button>\n",
              "\n",
              "<style>\n",
              "  .colab-df-quickchart {\n",
              "      --bg-color: #E8F0FE;\n",
              "      --fill-color: #1967D2;\n",
              "      --hover-bg-color: #E2EBFA;\n",
              "      --hover-fill-color: #174EA6;\n",
              "      --disabled-fill-color: #AAA;\n",
              "      --disabled-bg-color: #DDD;\n",
              "  }\n",
              "\n",
              "  [theme=dark] .colab-df-quickchart {\n",
              "      --bg-color: #3B4455;\n",
              "      --fill-color: #D2E3FC;\n",
              "      --hover-bg-color: #434B5C;\n",
              "      --hover-fill-color: #FFFFFF;\n",
              "      --disabled-bg-color: #3B4455;\n",
              "      --disabled-fill-color: #666;\n",
              "  }\n",
              "\n",
              "  .colab-df-quickchart {\n",
              "    background-color: var(--bg-color);\n",
              "    border: none;\n",
              "    border-radius: 50%;\n",
              "    cursor: pointer;\n",
              "    display: none;\n",
              "    fill: var(--fill-color);\n",
              "    height: 32px;\n",
              "    padding: 0;\n",
              "    width: 32px;\n",
              "  }\n",
              "\n",
              "  .colab-df-quickchart:hover {\n",
              "    background-color: var(--hover-bg-color);\n",
              "    box-shadow: 0 1px 2px rgba(60, 64, 67, 0.3), 0 1px 3px 1px rgba(60, 64, 67, 0.15);\n",
              "    fill: var(--button-hover-fill-color);\n",
              "  }\n",
              "\n",
              "  .colab-df-quickchart-complete:disabled,\n",
              "  .colab-df-quickchart-complete:disabled:hover {\n",
              "    background-color: var(--disabled-bg-color);\n",
              "    fill: var(--disabled-fill-color);\n",
              "    box-shadow: none;\n",
              "  }\n",
              "\n",
              "  .colab-df-spinner {\n",
              "    border: 2px solid var(--fill-color);\n",
              "    border-color: transparent;\n",
              "    border-bottom-color: var(--fill-color);\n",
              "    animation:\n",
              "      spin 1s steps(1) infinite;\n",
              "  }\n",
              "\n",
              "  @keyframes spin {\n",
              "    0% {\n",
              "      border-color: transparent;\n",
              "      border-bottom-color: var(--fill-color);\n",
              "      border-left-color: var(--fill-color);\n",
              "    }\n",
              "    20% {\n",
              "      border-color: transparent;\n",
              "      border-left-color: var(--fill-color);\n",
              "      border-top-color: var(--fill-color);\n",
              "    }\n",
              "    30% {\n",
              "      border-color: transparent;\n",
              "      border-left-color: var(--fill-color);\n",
              "      border-top-color: var(--fill-color);\n",
              "      border-right-color: var(--fill-color);\n",
              "    }\n",
              "    40% {\n",
              "      border-color: transparent;\n",
              "      border-right-color: var(--fill-color);\n",
              "      border-top-color: var(--fill-color);\n",
              "    }\n",
              "    60% {\n",
              "      border-color: transparent;\n",
              "      border-right-color: var(--fill-color);\n",
              "    }\n",
              "    80% {\n",
              "      border-color: transparent;\n",
              "      border-right-color: var(--fill-color);\n",
              "      border-bottom-color: var(--fill-color);\n",
              "    }\n",
              "    90% {\n",
              "      border-color: transparent;\n",
              "      border-bottom-color: var(--fill-color);\n",
              "    }\n",
              "  }\n",
              "</style>\n",
              "\n",
              "  <script>\n",
              "    async function quickchart(key) {\n",
              "      const quickchartButtonEl =\n",
              "        document.querySelector('#' + key + ' button');\n",
              "      quickchartButtonEl.disabled = true;  // To prevent multiple clicks.\n",
              "      quickchartButtonEl.classList.add('colab-df-spinner');\n",
              "      try {\n",
              "        const charts = await google.colab.kernel.invokeFunction(\n",
              "            'suggestCharts', [key], {});\n",
              "      } catch (error) {\n",
              "        console.error('Error during call to suggestCharts:', error);\n",
              "      }\n",
              "      quickchartButtonEl.classList.remove('colab-df-spinner');\n",
              "      quickchartButtonEl.classList.add('colab-df-quickchart-complete');\n",
              "    }\n",
              "    (() => {\n",
              "      let quickchartButtonEl =\n",
              "        document.querySelector('#df-f0a308ce-26ae-4dda-90d8-839e84d41daf button');\n",
              "      quickchartButtonEl.style.display =\n",
              "        google.colab.kernel.accessAllowed ? 'block' : 'none';\n",
              "    })();\n",
              "  </script>\n",
              "</div>\n",
              "\n",
              "  <div id=\"id_828b5d0f-37ad-4a4a-9276-ab6bd0dc8cd4\">\n",
              "    <style>\n",
              "      .colab-df-generate {\n",
              "        background-color: #E8F0FE;\n",
              "        border: none;\n",
              "        border-radius: 50%;\n",
              "        cursor: pointer;\n",
              "        display: none;\n",
              "        fill: #1967D2;\n",
              "        height: 32px;\n",
              "        padding: 0 0 0 0;\n",
              "        width: 32px;\n",
              "      }\n",
              "\n",
              "      .colab-df-generate:hover {\n",
              "        background-color: #E2EBFA;\n",
              "        box-shadow: 0px 1px 2px rgba(60, 64, 67, 0.3), 0px 1px 3px 1px rgba(60, 64, 67, 0.15);\n",
              "        fill: #174EA6;\n",
              "      }\n",
              "\n",
              "      [theme=dark] .colab-df-generate {\n",
              "        background-color: #3B4455;\n",
              "        fill: #D2E3FC;\n",
              "      }\n",
              "\n",
              "      [theme=dark] .colab-df-generate:hover {\n",
              "        background-color: #434B5C;\n",
              "        box-shadow: 0px 1px 3px 1px rgba(0, 0, 0, 0.15);\n",
              "        filter: drop-shadow(0px 1px 2px rgba(0, 0, 0, 0.3));\n",
              "        fill: #FFFFFF;\n",
              "      }\n",
              "    </style>\n",
              "    <button class=\"colab-df-generate\" onclick=\"generateWithVariable('pytorch_conversion_history')\"\n",
              "            title=\"Generate code using this dataframe.\"\n",
              "            style=\"display:none;\">\n",
              "\n",
              "  <svg xmlns=\"http://www.w3.org/2000/svg\" height=\"24px\"viewBox=\"0 0 24 24\"\n",
              "       width=\"24px\">\n",
              "    <path d=\"M7,19H8.4L18.45,9,17,7.55,7,17.6ZM5,21V16.75L18.45,3.32a2,2,0,0,1,2.83,0l1.4,1.43a1.91,1.91,0,0,1,.58,1.4,1.91,1.91,0,0,1-.58,1.4L9.25,21ZM18.45,9,17,7.55Zm-12,3A5.31,5.31,0,0,0,4.9,8.1,5.31,5.31,0,0,0,1,6.5,5.31,5.31,0,0,0,4.9,4.9,5.31,5.31,0,0,0,6.5,1,5.31,5.31,0,0,0,8.1,4.9,5.31,5.31,0,0,0,12,6.5,5.46,5.46,0,0,0,6.5,12Z\"/>\n",
              "  </svg>\n",
              "    </button>\n",
              "    <script>\n",
              "      (() => {\n",
              "      const buttonEl =\n",
              "        document.querySelector('#id_828b5d0f-37ad-4a4a-9276-ab6bd0dc8cd4 button.colab-df-generate');\n",
              "      buttonEl.style.display =\n",
              "        google.colab.kernel.accessAllowed ? 'block' : 'none';\n",
              "\n",
              "      buttonEl.onclick = () => {\n",
              "        google.colab.notebook.generateWithVariable('pytorch_conversion_history');\n",
              "      }\n",
              "      })();\n",
              "    </script>\n",
              "  </div>\n",
              "\n",
              "    </div>\n",
              "  </div>\n"
            ],
            "application/vnd.google.colaboratory.intrinsic+json": {
              "type": "dataframe",
              "variable_name": "pytorch_conversion_history",
              "summary": "{\n  \"name\": \"pytorch_conversion_history\",\n  \"rows\": 10,\n  \"fields\": [\n    {\n      \"column\": \"accuracy\",\n      \"properties\": {\n        \"dtype\": \"number\",\n        \"std\": 0.17318520324043618,\n        \"min\": 0.5354025218234724,\n        \"max\": 1.0,\n        \"num_unique_values\": 8,\n        \"samples\": [\n          0.6285160038797284,\n          0.9961202715809894,\n          0.5354025218234724\n        ],\n        \"semantic_type\": \"\",\n        \"description\": \"\"\n      }\n    },\n    {\n      \"column\": \"loss\",\n      \"properties\": {\n        \"dtype\": \"number\",\n        \"std\": 0.2721787690277374,\n        \"min\": 0.000538432886969531,\n        \"max\": 0.6913936987067714,\n        \"num_unique_values\": 10,\n        \"samples\": [\n          0.0007108761749832686,\n          0.642837565053593,\n          0.010459416558715571\n        ],\n        \"semantic_type\": \"\",\n        \"description\": \"\"\n      }\n    },\n    {\n      \"column\": \"val_accuracy\",\n      \"properties\": {\n        \"dtype\": \"number\",\n        \"std\": 0.14575395738292285,\n        \"min\": 0.5387596899224806,\n        \"max\": 1.0,\n        \"num_unique_values\": 6,\n        \"samples\": [\n          0.5387596899224806,\n          0.8604651162790697,\n          0.9922480620155039\n        ],\n        \"semantic_type\": \"\",\n        \"description\": \"\"\n      }\n    },\n    {\n      \"column\": \"val_loss\",\n      \"properties\": {\n        \"dtype\": \"number\",\n        \"std\": 0.23916112256736446,\n        \"min\": 0.003800788620468312,\n        \"max\": 0.692776534292433,\n        \"num_unique_values\": 10,\n        \"samples\": [\n          0.003800788620468312,\n          0.43469249539905125,\n          0.004347925827258021\n        ],\n        \"semantic_type\": \"\",\n        \"description\": \"\"\n      }\n    }\n  ]\n}"
            }
          },
          "metadata": {},
          "execution_count": 39
        }
      ]
    },
    {
      "cell_type": "code",
      "source": [
        "torch.save(model_pytorch_conversion.state_dict(), ''.join(['/content/', project_folder, \"/pytorch_conversion.pth\"]))"
      ],
      "metadata": {
        "id": "o84MKRA9qz_7"
      },
      "execution_count": null,
      "outputs": []
    },
    {
      "cell_type": "markdown",
      "source": [
        "##### STEP 3: Baseline Visualizations"
      ],
      "metadata": {
        "id": "S06Qv5jt0Aff"
      }
    },
    {
      "cell_type": "markdown",
      "source": [
        "1. Keras Model Training and Validation"
      ],
      "metadata": {
        "id": "zdnJbIkhNZGX"
      }
    },
    {
      "cell_type": "code",
      "source": [
        "loss_valid_comp(model_reference_history[\"loss\"], model_reference_history[\"accuracy\"], model_reference_results.epoch)"
      ],
      "metadata": {
        "colab": {
          "base_uri": "https://localhost:8080/",
          "height": 492
        },
        "id": "7j_6N5GdYBDy",
        "outputId": "fd8687cf-4b3e-4c58-9c87-1ddc69575ff2"
      },
      "execution_count": null,
      "outputs": [
        {
          "output_type": "display_data",
          "data": {
            "text/plain": [
              "<Figure size 640x480 with 2 Axes>"
            ],
            "image/png": "[encoded data removed]"
          },
          "metadata": {}
        }
      ]
    },
    {
      "cell_type": "code",
      "source": [
        "loss_valid_comp(model_reference_history[\"val_loss\"], model_reference_history[\"val_accuracy\"], model_reference_results.epoch, prefix=\"Validation\")"
      ],
      "metadata": {
        "colab": {
          "base_uri": "https://localhost:8080/",
          "height": 492
        },
        "id": "e7y0IfBrY4Xz",
        "outputId": "47c063c9-b121-47bc-bbdf-16fdda664fb2"
      },
      "execution_count": null,
      "outputs": [
        {
          "output_type": "display_data",
          "data": {
            "text/plain": [
              "<Figure size 640x480 with 2 Axes>"
            ],
            "image/png": "[encoded data removed]"
          },
          "metadata": {}
        }
      ]
    },
    {
      "cell_type": "markdown",
      "source": [
        "2. PyTorch Conversion Model Training and Validation"
      ],
      "metadata": {
        "id": "oJLfFgp7NsyY"
      }
    },
    {
      "cell_type": "code",
      "source": [
        "loss_valid_comp(pytorch_conversion_history[\"loss\"], pytorch_conversion_history[\"accuracy\"], model_reference_results.epoch)"
      ],
      "metadata": {
        "colab": {
          "base_uri": "https://localhost:8080/",
          "height": 492
        },
        "id": "2nB7ZZTVrGWB",
        "outputId": "2f2e97e1-8d3e-4daf-901c-a1e70b6a0b68"
      },
      "execution_count": null,
      "outputs": [
        {
          "output_type": "display_data",
          "data": {
            "text/plain": [
              "<Figure size 640x480 with 2 Axes>"
            ],
            "image/png": "[encoded data removed]"
          },
          "metadata": {}
        }
      ]
    },
    {
      "cell_type": "code",
      "source": [
        "loss_valid_comp(pytorch_conversion_history[\"val_loss\"], pytorch_conversion_history[\"val_accuracy\"], model_reference_results.epoch, prefix=\"Validation\")"
      ],
      "metadata": {
        "colab": {
          "base_uri": "https://localhost:8080/",
          "height": 492
        },
        "id": "mBAdNVVjrHJs",
        "outputId": "e3e38c04-3599-44f9-e513-7f435731cbdb"
      },
      "execution_count": null,
      "outputs": [
        {
          "output_type": "display_data",
          "data": {
            "text/plain": [
              "<Figure size 640x480 with 2 Axes>"
            ],
            "image/png": "[encoded data removed]"
          },
          "metadata": {}
        }
      ]
    },
    {
      "cell_type": "markdown",
      "source": [
        "##### STEP 4: Baseline Comparisons"
      ],
      "metadata": {
        "id": "0fE-rVxxl2-R"
      }
    },
    {
      "cell_type": "code",
      "source": [
        "model_comparison(\"Keras Reference Model\", model_reference_history[\"loss\"], model_reference_history[\"accuracy\"], \"PyTorch Conversion Model\", pytorch_conversion_history[\"loss\"], pytorch_conversion_history[\"accuracy\"],)"
      ],
      "metadata": {
        "colab": {
          "base_uri": "https://localhost:8080/",
          "height": 958
        },
        "id": "LIOsODElrerd",
        "outputId": "13c09a15-2879-498b-93cd-41149e23242e"
      },
      "execution_count": null,
      "outputs": [
        {
          "output_type": "stream",
          "name": "stdout",
          "text": [
            "Loss Difference:\n",
            " 0    0.002844\n",
            "1    0.048770\n",
            "2    0.301302\n",
            "3    0.048590\n",
            "4    0.000450\n",
            "5    0.004568\n",
            "6    0.002614\n",
            "7    0.001218\n",
            "8    0.000396\n",
            "9    0.000465\n",
            "Name: loss, dtype: float64\n",
            "Max Loss Difference: 0.3013022140543343\n",
            "Accuracy Difference:\n",
            " 0    0.006790\n",
            "1    0.082444\n",
            "2    0.165858\n",
            "3    0.016489\n",
            "4    0.000970\n",
            "5    0.001940\n",
            "6    0.001940\n",
            "7    0.000970\n",
            "8    0.000000\n",
            "9    0.000000\n",
            "Name: accuracy, dtype: float64\n",
            "Max Accuracy Difference: 0.16585839286114146\n"
          ]
        },
        {
          "output_type": "display_data",
          "data": {
            "text/plain": [
              "<Figure size 1200x500 with 2 Axes>"
            ],
            "image/png": "[encoded data removed]"
          },
          "metadata": {}
        }
      ]
    },
    {
      "cell_type": "code",
      "source": [
        "model_comparison(\"Keras Reference Model\", model_reference_history[\"val_loss\"], model_reference_history[\"val_accuracy\"], \"PyTorch Conversion Model\", pytorch_conversion_history[\"val_loss\"], pytorch_conversion_history[\"val_accuracy\"], prefix=\"Validation\")"
      ],
      "metadata": {
        "colab": {
          "base_uri": "https://localhost:8080/",
          "height": 958
        },
        "id": "B8BPmnLnre-L",
        "outputId": "cd9ee5a4-cb98-4199-8da0-a5e6d97b1b26"
      },
      "execution_count": null,
      "outputs": [
        {
          "output_type": "stream",
          "name": "stdout",
          "text": [
            "Loss Difference:\n",
            " 0    0.000401\n",
            "1    0.246368\n",
            "2    0.151868\n",
            "3    0.025139\n",
            "4    0.034035\n",
            "5    0.041824\n",
            "6    0.013690\n",
            "7    0.005393\n",
            "8    0.021498\n",
            "9    0.020654\n",
            "Name: val_loss, dtype: float64\n",
            "Max Loss Difference: 0.2463684148258633\n",
            "Accuracy Difference:\n",
            " 0    1.848206e-08\n",
            "1    3.178294e-01\n",
            "2    6.201549e-02\n",
            "3    1.162791e-02\n",
            "4    1.162791e-02\n",
            "5    7.751942e-03\n",
            "6    3.875975e-03\n",
            "7    3.875971e-03\n",
            "8    1.162791e-02\n",
            "9    1.162791e-02\n",
            "Name: val_accuracy, dtype: float64\n",
            "Max Accuracy Difference: 0.3178294370340746\n"
          ]
        },
        {
          "output_type": "display_data",
          "data": {
            "text/plain": [
              "<Figure size 1200x500 with 2 Axes>"
            ],
            "image/png": "[encoded data removed]"
          },
          "metadata": {}
        }
      ]
    },
    {
      "cell_type": "markdown",
      "source": [
        "## PART 6: Original Keras vs. Optimized Models"
      ],
      "metadata": {
        "id": "L-XHyT17zDw5"
      }
    },
    {
      "cell_type": "markdown",
      "source": [
        "##### STEP 1: vs. Model 1"
      ],
      "metadata": {
        "id": "F4kN0Luc0oNd"
      }
    },
    {
      "cell_type": "code",
      "source": [
        "IMG_SIZE = 256\n",
        "EPOCHS = 10"
      ],
      "metadata": {
        "id": "jYAv9GM9pvlJ"
      },
      "execution_count": null,
      "outputs": []
    },
    {
      "cell_type": "code",
      "execution_count": null,
      "metadata": {
        "id": "qE835wS_zRu1"
      },
      "outputs": [],
      "source": [
        "transform = transforms.Compose([\n",
        "    transforms.Resize((IMG_SIZE, IMG_SIZE)),\n",
        "    transforms.RandomHorizontalFlip(),\n",
        "    transforms.RandomVerticalFlip(),\n",
        "    transforms.RandomRotation(degrees=15),\n",
        "    transforms.ColorJitter(brightness=0.1, contrast=0.1, saturation=0.1, hue=0.1),\n",
        "    transforms.ToTensor(),\n",
        "    transforms.Normalize(mean=[0.485,0.456,0.406], std=[0.229,0.224,0.225]),\n",
        "])"
      ]
    },
    {
      "cell_type": "code",
      "source": [
        "def process_data_with_transforms(dataset, path):\n",
        "    data = []\n",
        "    labels = []\n",
        "\n",
        "    for _, row in dataset.iterrows():\n",
        "        image_path = ''.join([path, row[\"images_id\"], '.jpg'])\n",
        "\n",
        "        try:\n",
        "            img = Image.open(image_path)\n",
        "            img_tensor = transform(img)\n",
        "            data.append(img_tensor.permute(1, 2, 0).numpy())\n",
        "            labels.append(row[\"label\"])\n",
        "\n",
        "        except Exception as e:\n",
        "            print(f\"Error loading or processing image {image_path}: {e}\")\n",
        "\n",
        "    num_classes = len(set(labels))\n",
        "\n",
        "    return np.array(data), to_categorical(np.array(labels), num_classes=num_classes)"
      ],
      "metadata": {
        "id": "TMASFy_fc0CI"
      },
      "execution_count": null,
      "outputs": []
    },
    {
      "cell_type": "code",
      "source": [
        "fakeVReal_TrainData, fakeVReal_TrainLabels = process_data_with_transforms(df_train_RealVFake, FAKEVREAL_IMAGE_PATH)\n",
        "fakeVReal_TestData, fakeVReal_TestLabels = process_data_with_transforms(df_test_RealVFake, FAKEVREAL_IMAGE_PATH)"
      ],
      "metadata": {
        "id": "ylrJW9QDqhqR"
      },
      "execution_count": null,
      "outputs": []
    },
    {
      "cell_type": "markdown",
      "source": [
        "1. Training of Optimized Model 1"
      ],
      "metadata": {
        "id": "X4HshreI0xeM"
      }
    },
    {
      "cell_type": "code",
      "source": [
        "keras_moreTransforms.compile(\n",
        "    optimizer='adam',\n",
        "    loss='categorical_crossentropy',\n",
        "    metrics=['accuracy']\n",
        "    )\n",
        "\n",
        "keras_moreTransforms_results = keras_moreTransforms.fit(fakeVReal_TrainData, fakeVReal_TrainLabels, epochs=EPOCHS, validation_data=(fakeVReal_TestData, fakeVReal_TestLabels))\n",
        "keras_moreTransforms_history = pd.DataFrame(keras_moreTransforms_results.history)"
      ],
      "metadata": {
        "colab": {
          "base_uri": "https://localhost:8080/"
        },
        "id": "bVUDSdTAdjYX",
        "outputId": "46b85cc6-646f-4ced-9d34-bc1ecb1e4651"
      },
      "execution_count": null,
      "outputs": [
        {
          "output_type": "stream",
          "name": "stdout",
          "text": [
            "Epoch 1/10\n",
            "\u001b[1m33/33\u001b[0m \u001b[32m━━━━━━━━━━━━━━━━━━━━\u001b[0m\u001b[37m\u001b[0m \u001b[1m11s\u001b[0m 208ms/step - accuracy: 0.5280 - loss: 0.8426 - val_accuracy: 0.5853 - val_loss: 0.6712\n",
            "Epoch 2/10\n",
            "\u001b[1m33/33\u001b[0m \u001b[32m━━━━━━━━━━━━━━━━━━━━\u001b[0m\u001b[37m\u001b[0m \u001b[1m3s\u001b[0m 79ms/step - accuracy: 0.6457 - loss: 0.6157 - val_accuracy: 0.8062 - val_loss: 0.4182\n",
            "Epoch 3/10\n",
            "\u001b[1m33/33\u001b[0m \u001b[32m━━━━━━━━━━━━━━━━━━━━\u001b[0m\u001b[37m\u001b[0m \u001b[1m3s\u001b[0m 79ms/step - accuracy: 0.8418 - loss: 0.3569 - val_accuracy: 0.9457 - val_loss: 0.1401\n",
            "Epoch 4/10\n",
            "\u001b[1m33/33\u001b[0m \u001b[32m━━━━━━━━━━━━━━━━━━━━\u001b[0m\u001b[37m\u001b[0m \u001b[1m3s\u001b[0m 82ms/step - accuracy: 0.9620 - loss: 0.1193 - val_accuracy: 0.9729 - val_loss: 0.0606\n",
            "Epoch 5/10\n",
            "\u001b[1m33/33\u001b[0m \u001b[32m━━━━━━━━━━━━━━━━━━━━\u001b[0m\u001b[37m\u001b[0m \u001b[1m3s\u001b[0m 82ms/step - accuracy: 0.9922 - loss: 0.0431 - val_accuracy: 0.9767 - val_loss: 0.0557\n",
            "Epoch 6/10\n",
            "\u001b[1m33/33\u001b[0m \u001b[32m━━━━━━━━━━━━━━━━━━━━\u001b[0m\u001b[37m\u001b[0m \u001b[1m5s\u001b[0m 83ms/step - accuracy: 0.9974 - loss: 0.0104 - val_accuracy: 0.9806 - val_loss: 0.0590\n",
            "Epoch 7/10\n",
            "\u001b[1m33/33\u001b[0m \u001b[32m━━━━━━━━━━━━━━━━━━━━\u001b[0m\u001b[37m\u001b[0m \u001b[1m5s\u001b[0m 80ms/step - accuracy: 0.9943 - loss: 0.0107 - val_accuracy: 0.9767 - val_loss: 0.0571\n",
            "Epoch 8/10\n",
            "\u001b[1m33/33\u001b[0m \u001b[32m━━━━━━━━━━━━━━━━━━━━\u001b[0m\u001b[37m\u001b[0m \u001b[1m3s\u001b[0m 82ms/step - accuracy: 0.9896 - loss: 0.0402 - val_accuracy: 0.9845 - val_loss: 0.0579\n",
            "Epoch 9/10\n",
            "\u001b[1m33/33\u001b[0m \u001b[32m━━━━━━━━━━━━━━━━━━━━\u001b[0m\u001b[37m\u001b[0m \u001b[1m5s\u001b[0m 80ms/step - accuracy: 0.9963 - loss: 0.0092 - val_accuracy: 0.9845 - val_loss: 0.0465\n",
            "Epoch 10/10\n",
            "\u001b[1m33/33\u001b[0m \u001b[32m━━━━━━━━━━━━━━━━━━━━\u001b[0m\u001b[37m\u001b[0m \u001b[1m3s\u001b[0m 81ms/step - accuracy: 0.9990 - loss: 0.0050 - val_accuracy: 0.9922 - val_loss: 0.0336\n"
          ]
        }
      ]
    },
    {
      "cell_type": "code",
      "source": [
        "keras_moreTransforms_results.history"
      ],
      "metadata": {
        "colab": {
          "base_uri": "https://localhost:8080/"
        },
        "id": "OkZSFqO9d9_q",
        "outputId": "f5fa7460-7ef9-48e3-fff0-c26e7a26a21e"
      },
      "execution_count": null,
      "outputs": [
        {
          "output_type": "execute_result",
          "data": {
            "text/plain": [
              "{'accuracy': [0.6003879904747009,\n",
              "  0.6973811984062195,\n",
              "  0.8845781087875366,\n",
              "  0.9573230147361755,\n",
              "  0.9941803812980652,\n",
              "  0.996120274066925,\n",
              "  0.996120274066925,\n",
              "  0.9903006553649902,\n",
              "  0.997090220451355,\n",
              "  0.9990300536155701],\n",
              " 'loss': [0.7192031145095825,\n",
              "  0.5623727440834045,\n",
              "  0.2824668884277344,\n",
              "  0.11977473646402359,\n",
              "  0.027686264365911484,\n",
              "  0.013096601702272892,\n",
              "  0.01789148896932602,\n",
              "  0.039556968957185745,\n",
              "  0.009225341491401196,\n",
              "  0.003678336273878813],\n",
              " 'val_accuracy': [0.5852712988853455,\n",
              "  0.8062015771865845,\n",
              "  0.9457364082336426,\n",
              "  0.9728682041168213,\n",
              "  0.9767441749572754,\n",
              "  0.9806201457977295,\n",
              "  0.9767441749572754,\n",
              "  0.9844961166381836,\n",
              "  0.9844961166381836,\n",
              "  0.9922480583190918],\n",
              " 'val_loss': [0.6711845397949219,\n",
              "  0.41819870471954346,\n",
              "  0.1400601863861084,\n",
              "  0.06055566668510437,\n",
              "  0.05569955334067345,\n",
              "  0.05900713428854942,\n",
              "  0.05712193250656128,\n",
              "  0.05790431797504425,\n",
              "  0.046493321657180786,\n",
              "  0.03360949456691742]}"
            ]
          },
          "metadata": {},
          "execution_count": 65
        }
      ]
    },
    {
      "cell_type": "code",
      "source": [
        "keras_moreTransforms_history.to_csv(''.join(['/content/', project_folder, \"/model_reference_history_moreTransforms.csv\"]))\n",
        "keras_moreTransforms_history"
      ],
      "metadata": {
        "colab": {
          "base_uri": "https://localhost:8080/",
          "height": 363
        },
        "id": "wU8R4xR0eCWh",
        "outputId": "a7ed8b6a-9f1c-4f51-eb8e-92c4dc0bc6ab"
      },
      "execution_count": null,
      "outputs": [
        {
          "output_type": "execute_result",
          "data": {
            "text/plain": [
              "   accuracy      loss  val_accuracy  val_loss\n",
              "0  0.600388  0.719203      0.585271  0.671185\n",
              "1  0.697381  0.562373      0.806202  0.418199\n",
              "2  0.884578  0.282467      0.945736  0.140060\n",
              "3  0.957323  0.119775      0.972868  0.060556\n",
              "4  0.994180  0.027686      0.976744  0.055700\n",
              "5  0.996120  0.013097      0.980620  0.059007\n",
              "6  0.996120  0.017891      0.976744  0.057122\n",
              "7  0.990301  0.039557      0.984496  0.057904\n",
              "8  0.997090  0.009225      0.984496  0.046493\n",
              "9  0.999030  0.003678      0.992248  0.033609"
            ],
            "text/html": [
              "\n",
              "  <div id=\"df-27db26e8-89c8-4ae1-888e-40b3eac49711\" class=\"colab-df-container\">\n",
              "    <div>\n",
              "<style scoped>\n",
              "    .dataframe tbody tr th:only-of-type {\n",
              "        vertical-align: middle;\n",
              "    }\n",
              "\n",
              "    .dataframe tbody tr th {\n",
              "        vertical-align: top;\n",
              "    }\n",
              "\n",
              "    .dataframe thead th {\n",
              "        text-align: right;\n",
              "    }\n",
              "</style>\n",
              "<table border=\"1\" class=\"dataframe\">\n",
              "  <thead>\n",
              "    <tr style=\"text-align: right;\">\n",
              "      <th></th>\n",
              "      <th>accuracy</th>\n",
              "      <th>loss</th>\n",
              "      <th>val_accuracy</th>\n",
              "      <th>val_loss</th>\n",
              "    </tr>\n",
              "  </thead>\n",
              "  <tbody>\n",
              "    <tr>\n",
              "      <th>0</th>\n",
              "      <td>0.600388</td>\n",
              "      <td>0.719203</td>\n",
              "      <td>0.585271</td>\n",
              "      <td>0.671185</td>\n",
              "    </tr>\n",
              "    <tr>\n",
              "      <th>1</th>\n",
              "      <td>0.697381</td>\n",
              "      <td>0.562373</td>\n",
              "      <td>0.806202</td>\n",
              "      <td>0.418199</td>\n",
              "    </tr>\n",
              "    <tr>\n",
              "      <th>2</th>\n",
              "      <td>0.884578</td>\n",
              "      <td>0.282467</td>\n",
              "      <td>0.945736</td>\n",
              "      <td>0.140060</td>\n",
              "    </tr>\n",
              "    <tr>\n",
              "      <th>3</th>\n",
              "      <td>0.957323</td>\n",
              "      <td>0.119775</td>\n",
              "      <td>0.972868</td>\n",
              "      <td>0.060556</td>\n",
              "    </tr>\n",
              "    <tr>\n",
              "      <th>4</th>\n",
              "      <td>0.994180</td>\n",
              "      <td>0.027686</td>\n",
              "      <td>0.976744</td>\n",
              "      <td>0.055700</td>\n",
              "    </tr>\n",
              "    <tr>\n",
              "      <th>5</th>\n",
              "      <td>0.996120</td>\n",
              "      <td>0.013097</td>\n",
              "      <td>0.980620</td>\n",
              "      <td>0.059007</td>\n",
              "    </tr>\n",
              "    <tr>\n",
              "      <th>6</th>\n",
              "      <td>0.996120</td>\n",
              "      <td>0.017891</td>\n",
              "      <td>0.976744</td>\n",
              "      <td>0.057122</td>\n",
              "    </tr>\n",
              "    <tr>\n",
              "      <th>7</th>\n",
              "      <td>0.990301</td>\n",
              "      <td>0.039557</td>\n",
              "      <td>0.984496</td>\n",
              "      <td>0.057904</td>\n",
              "    </tr>\n",
              "    <tr>\n",
              "      <th>8</th>\n",
              "      <td>0.997090</td>\n",
              "      <td>0.009225</td>\n",
              "      <td>0.984496</td>\n",
              "      <td>0.046493</td>\n",
              "    </tr>\n",
              "    <tr>\n",
              "      <th>9</th>\n",
              "      <td>0.999030</td>\n",
              "      <td>0.003678</td>\n",
              "      <td>0.992248</td>\n",
              "      <td>0.033609</td>\n",
              "    </tr>\n",
              "  </tbody>\n",
              "</table>\n",
              "</div>\n",
              "    <div class=\"colab-df-buttons\">\n",
              "\n",
              "  <div class=\"colab-df-container\">\n",
              "    <button class=\"colab-df-convert\" onclick=\"convertToInteractive('df-27db26e8-89c8-4ae1-888e-40b3eac49711')\"\n",
              "            title=\"Convert this dataframe to an interactive table.\"\n",
              "            style=\"display:none;\">\n",
              "\n",
              "  <svg xmlns=\"http://www.w3.org/2000/svg\" height=\"24px\" viewBox=\"0 -960 960 960\">\n",
              "    <path d=\"M120-120v-720h720v720H120Zm60-500h600v-160H180v160Zm220 220h160v-160H400v160Zm0 220h160v-160H400v160ZM180-400h160v-160H180v160Zm440 0h160v-160H620v160ZM180-180h160v-160H180v160Zm440 0h160v-160H620v160Z\"/>\n",
              "  </svg>\n",
              "    </button>\n",
              "\n",
              "  <style>\n",
              "    .colab-df-container {\n",
              "      display:flex;\n",
              "      gap: 12px;\n",
              "    }\n",
              "\n",
              "    .colab-df-convert {\n",
              "      background-color: #E8F0FE;\n",
              "      border: none;\n",
              "      border-radius: 50%;\n",
              "      cursor: pointer;\n",
              "      display: none;\n",
              "      fill: #1967D2;\n",
              "      height: 32px;\n",
              "      padding: 0 0 0 0;\n",
              "      width: 32px;\n",
              "    }\n",
              "\n",
              "    .colab-df-convert:hover {\n",
              "      background-color: #E2EBFA;\n",
              "      box-shadow: 0px 1px 2px rgba(60, 64, 67, 0.3), 0px 1px 3px 1px rgba(60, 64, 67, 0.15);\n",
              "      fill: #174EA6;\n",
              "    }\n",
              "\n",
              "    .colab-df-buttons div {\n",
              "      margin-bottom: 4px;\n",
              "    }\n",
              "\n",
              "    [theme=dark] .colab-df-convert {\n",
              "      background-color: #3B4455;\n",
              "      fill: #D2E3FC;\n",
              "    }\n",
              "\n",
              "    [theme=dark] .colab-df-convert:hover {\n",
              "      background-color: #434B5C;\n",
              "      box-shadow: 0px 1px 3px 1px rgba(0, 0, 0, 0.15);\n",
              "      filter: drop-shadow(0px 1px 2px rgba(0, 0, 0, 0.3));\n",
              "      fill: #FFFFFF;\n",
              "    }\n",
              "  </style>\n",
              "\n",
              "    <script>\n",
              "      const buttonEl =\n",
              "        document.querySelector('#df-27db26e8-89c8-4ae1-888e-40b3eac49711 button.colab-df-convert');\n",
              "      buttonEl.style.display =\n",
              "        google.colab.kernel.accessAllowed ? 'block' : 'none';\n",
              "\n",
              "      async function convertToInteractive(key) {\n",
              "        const element = document.querySelector('#df-27db26e8-89c8-4ae1-888e-40b3eac49711');\n",
              "        const dataTable =\n",
              "          await google.colab.kernel.invokeFunction('convertToInteractive',\n",
              "                                                    [key], {});\n",
              "        if (!dataTable) return;\n",
              "\n",
              "        const docLinkHtml = 'Like what you see? Visit the ' +\n",
              "          '<a target=\"_blank\" href=https://colab.research.google.com/notebooks/data_table.ipynb>data table notebook</a>'\n",
              "          + ' to learn more about interactive tables.';\n",
              "        element.innerHTML = '';\n",
              "        dataTable['output_type'] = 'display_data';\n",
              "        await google.colab.output.renderOutput(dataTable, element);\n",
              "        const docLink = document.createElement('div');\n",
              "        docLink.innerHTML = docLinkHtml;\n",
              "        element.appendChild(docLink);\n",
              "      }\n",
              "    </script>\n",
              "  </div>\n",
              "\n",
              "\n",
              "<div id=\"df-8a2937a4-4e86-44cf-8388-c14a166d20bc\">\n",
              "  <button class=\"colab-df-quickchart\" onclick=\"quickchart('df-8a2937a4-4e86-44cf-8388-c14a166d20bc')\"\n",
              "            title=\"Suggest charts\"\n",
              "            style=\"display:none;\">\n",
              "\n",
              "<svg xmlns=\"http://www.w3.org/2000/svg\" height=\"24px\"viewBox=\"0 0 24 24\"\n",
              "     width=\"24px\">\n",
              "    <g>\n",
              "        <path d=\"M19 3H5c-1.1 0-2 .9-2 2v14c0 1.1.9 2 2 2h14c1.1 0 2-.9 2-2V5c0-1.1-.9-2-2-2zM9 17H7v-7h2v7zm4 0h-2V7h2v10zm4 0h-2v-4h2v4z\"/>\n",
              "    </g>\n",
              "</svg>\n",
              "  </button>\n",
              "\n",
              "<style>\n",
              "  .colab-df-quickchart {\n",
              "      --bg-color: #E8F0FE;\n",
              "      --fill-color: #1967D2;\n",
              "      --hover-bg-color: #E2EBFA;\n",
              "      --hover-fill-color: #174EA6;\n",
              "      --disabled-fill-color: #AAA;\n",
              "      --disabled-bg-color: #DDD;\n",
              "  }\n",
              "\n",
              "  [theme=dark] .colab-df-quickchart {\n",
              "      --bg-color: #3B4455;\n",
              "      --fill-color: #D2E3FC;\n",
              "      --hover-bg-color: #434B5C;\n",
              "      --hover-fill-color: #FFFFFF;\n",
              "      --disabled-bg-color: #3B4455;\n",
              "      --disabled-fill-color: #666;\n",
              "  }\n",
              "\n",
              "  .colab-df-quickchart {\n",
              "    background-color: var(--bg-color);\n",
              "    border: none;\n",
              "    border-radius: 50%;\n",
              "    cursor: pointer;\n",
              "    display: none;\n",
              "    fill: var(--fill-color);\n",
              "    height: 32px;\n",
              "    padding: 0;\n",
              "    width: 32px;\n",
              "  }\n",
              "\n",
              "  .colab-df-quickchart:hover {\n",
              "    background-color: var(--hover-bg-color);\n",
              "    box-shadow: 0 1px 2px rgba(60, 64, 67, 0.3), 0 1px 3px 1px rgba(60, 64, 67, 0.15);\n",
              "    fill: var(--button-hover-fill-color);\n",
              "  }\n",
              "\n",
              "  .colab-df-quickchart-complete:disabled,\n",
              "  .colab-df-quickchart-complete:disabled:hover {\n",
              "    background-color: var(--disabled-bg-color);\n",
              "    fill: var(--disabled-fill-color);\n",
              "    box-shadow: none;\n",
              "  }\n",
              "\n",
              "  .colab-df-spinner {\n",
              "    border: 2px solid var(--fill-color);\n",
              "    border-color: transparent;\n",
              "    border-bottom-color: var(--fill-color);\n",
              "    animation:\n",
              "      spin 1s steps(1) infinite;\n",
              "  }\n",
              "\n",
              "  @keyframes spin {\n",
              "    0% {\n",
              "      border-color: transparent;\n",
              "      border-bottom-color: var(--fill-color);\n",
              "      border-left-color: var(--fill-color);\n",
              "    }\n",
              "    20% {\n",
              "      border-color: transparent;\n",
              "      border-left-color: var(--fill-color);\n",
              "      border-top-color: var(--fill-color);\n",
              "    }\n",
              "    30% {\n",
              "      border-color: transparent;\n",
              "      border-left-color: var(--fill-color);\n",
              "      border-top-color: var(--fill-color);\n",
              "      border-right-color: var(--fill-color);\n",
              "    }\n",
              "    40% {\n",
              "      border-color: transparent;\n",
              "      border-right-color: var(--fill-color);\n",
              "      border-top-color: var(--fill-color);\n",
              "    }\n",
              "    60% {\n",
              "      border-color: transparent;\n",
              "      border-right-color: var(--fill-color);\n",
              "    }\n",
              "    80% {\n",
              "      border-color: transparent;\n",
              "      border-right-color: var(--fill-color);\n",
              "      border-bottom-color: var(--fill-color);\n",
              "    }\n",
              "    90% {\n",
              "      border-color: transparent;\n",
              "      border-bottom-color: var(--fill-color);\n",
              "    }\n",
              "  }\n",
              "</style>\n",
              "\n",
              "  <script>\n",
              "    async function quickchart(key) {\n",
              "      const quickchartButtonEl =\n",
              "        document.querySelector('#' + key + ' button');\n",
              "      quickchartButtonEl.disabled = true;  // To prevent multiple clicks.\n",
              "      quickchartButtonEl.classList.add('colab-df-spinner');\n",
              "      try {\n",
              "        const charts = await google.colab.kernel.invokeFunction(\n",
              "            'suggestCharts', [key], {});\n",
              "      } catch (error) {\n",
              "        console.error('Error during call to suggestCharts:', error);\n",
              "      }\n",
              "      quickchartButtonEl.classList.remove('colab-df-spinner');\n",
              "      quickchartButtonEl.classList.add('colab-df-quickchart-complete');\n",
              "    }\n",
              "    (() => {\n",
              "      let quickchartButtonEl =\n",
              "        document.querySelector('#df-8a2937a4-4e86-44cf-8388-c14a166d20bc button');\n",
              "      quickchartButtonEl.style.display =\n",
              "        google.colab.kernel.accessAllowed ? 'block' : 'none';\n",
              "    })();\n",
              "  </script>\n",
              "</div>\n",
              "\n",
              "  <div id=\"id_41b7ff26-d830-460d-8a85-cf415366a018\">\n",
              "    <style>\n",
              "      .colab-df-generate {\n",
              "        background-color: #E8F0FE;\n",
              "        border: none;\n",
              "        border-radius: 50%;\n",
              "        cursor: pointer;\n",
              "        display: none;\n",
              "        fill: #1967D2;\n",
              "        height: 32px;\n",
              "        padding: 0 0 0 0;\n",
              "        width: 32px;\n",
              "      }\n",
              "\n",
              "      .colab-df-generate:hover {\n",
              "        background-color: #E2EBFA;\n",
              "        box-shadow: 0px 1px 2px rgba(60, 64, 67, 0.3), 0px 1px 3px 1px rgba(60, 64, 67, 0.15);\n",
              "        fill: #174EA6;\n",
              "      }\n",
              "\n",
              "      [theme=dark] .colab-df-generate {\n",
              "        background-color: #3B4455;\n",
              "        fill: #D2E3FC;\n",
              "      }\n",
              "\n",
              "      [theme=dark] .colab-df-generate:hover {\n",
              "        background-color: #434B5C;\n",
              "        box-shadow: 0px 1px 3px 1px rgba(0, 0, 0, 0.15);\n",
              "        filter: drop-shadow(0px 1px 2px rgba(0, 0, 0, 0.3));\n",
              "        fill: #FFFFFF;\n",
              "      }\n",
              "    </style>\n",
              "    <button class=\"colab-df-generate\" onclick=\"generateWithVariable('keras_moreTransforms_history')\"\n",
              "            title=\"Generate code using this dataframe.\"\n",
              "            style=\"display:none;\">\n",
              "\n",
              "  <svg xmlns=\"http://www.w3.org/2000/svg\" height=\"24px\"viewBox=\"0 0 24 24\"\n",
              "       width=\"24px\">\n",
              "    <path d=\"M7,19H8.4L18.45,9,17,7.55,7,17.6ZM5,21V16.75L18.45,3.32a2,2,0,0,1,2.83,0l1.4,1.43a1.91,1.91,0,0,1,.58,1.4,1.91,1.91,0,0,1-.58,1.4L9.25,21ZM18.45,9,17,7.55Zm-12,3A5.31,5.31,0,0,0,4.9,8.1,5.31,5.31,0,0,0,1,6.5,5.31,5.31,0,0,0,4.9,4.9,5.31,5.31,0,0,0,6.5,1,5.31,5.31,0,0,0,8.1,4.9,5.31,5.31,0,0,0,12,6.5,5.46,5.46,0,0,0,6.5,12Z\"/>\n",
              "  </svg>\n",
              "    </button>\n",
              "    <script>\n",
              "      (() => {\n",
              "      const buttonEl =\n",
              "        document.querySelector('#id_41b7ff26-d830-460d-8a85-cf415366a018 button.colab-df-generate');\n",
              "      buttonEl.style.display =\n",
              "        google.colab.kernel.accessAllowed ? 'block' : 'none';\n",
              "\n",
              "      buttonEl.onclick = () => {\n",
              "        google.colab.notebook.generateWithVariable('keras_moreTransforms_history');\n",
              "      }\n",
              "      })();\n",
              "    </script>\n",
              "  </div>\n",
              "\n",
              "    </div>\n",
              "  </div>\n"
            ],
            "application/vnd.google.colaboratory.intrinsic+json": {
              "type": "dataframe",
              "variable_name": "keras_moreTransforms_history",
              "summary": "{\n  \"name\": \"keras_moreTransforms_history\",\n  \"rows\": 10,\n  \"fields\": [\n    {\n      \"column\": \"accuracy\",\n      \"properties\": {\n        \"dtype\": \"number\",\n        \"std\": 0.14445892460040088,\n        \"min\": 0.6003879904747009,\n        \"max\": 0.9990300536155701,\n        \"num_unique_values\": 9,\n        \"samples\": [\n          0.997090220451355,\n          0.6973811984062195,\n          0.996120274066925\n        ],\n        \"semantic_type\": \"\",\n        \"description\": \"\"\n      }\n    },\n    {\n      \"column\": \"loss\",\n      \"properties\": {\n        \"dtype\": \"number\",\n        \"std\": 0.2599969781442592,\n        \"min\": 0.003678336273878813,\n        \"max\": 0.7192031145095825,\n        \"num_unique_values\": 10,\n        \"samples\": [\n          0.009225341491401196,\n          0.5623727440834045,\n          0.013096601702272892\n        ],\n        \"semantic_type\": \"\",\n        \"description\": \"\"\n      }\n    },\n    {\n      \"column\": \"val_accuracy\",\n      \"properties\": {\n        \"dtype\": \"number\",\n        \"std\": 0.13000074126566197,\n        \"min\": 0.5852712988853455,\n        \"max\": 0.9922480583190918,\n        \"num_unique_values\": 8,\n        \"samples\": [\n          0.8062015771865845,\n          0.9806201457977295,\n          0.5852712988853455\n        ],\n        \"semantic_type\": \"\",\n        \"description\": \"\"\n      }\n    },\n    {\n      \"column\": \"val_loss\",\n      \"properties\": {\n        \"dtype\": \"number\",\n        \"std\": 0.21323093030836307,\n        \"min\": 0.03360949456691742,\n        \"max\": 0.6711845397949219,\n        \"num_unique_values\": 10,\n        \"samples\": [\n          0.046493321657180786,\n          0.41819870471954346,\n          0.05900713428854942\n        ],\n        \"semantic_type\": \"\",\n        \"description\": \"\"\n      }\n    }\n  ]\n}"
            }
          },
          "metadata": {},
          "execution_count": 66
        }
      ]
    },
    {
      "cell_type": "code",
      "source": [
        "keras_moreTransforms.save(''.join(['/content/', project_folder, \"/keras_moreTransforms.keras\"]))"
      ],
      "metadata": {
        "id": "O8B2VsvV3JTj"
      },
      "execution_count": null,
      "outputs": []
    },
    {
      "cell_type": "markdown",
      "source": [
        "2. Model Visualization"
      ],
      "metadata": {
        "id": "Gyq9RVuv04iJ"
      }
    },
    {
      "cell_type": "code",
      "source": [
        "loss_valid_comp(keras_moreTransforms_history[\"loss\"], keras_moreTransforms_history[\"accuracy\"], keras_moreTransforms_results.epoch)"
      ],
      "metadata": {
        "colab": {
          "base_uri": "https://localhost:8080/",
          "height": 492
        },
        "id": "Nu97NhaJiHTv",
        "outputId": "45052f02-f7b9-40fa-cc37-89e91959d233"
      },
      "execution_count": null,
      "outputs": [
        {
          "output_type": "display_data",
          "data": {
            "text/plain": [
              "<Figure size 640x480 with 2 Axes>"
            ],
            "image/png": "[encoded data removed]"
          },
          "metadata": {}
        }
      ]
    },
    {
      "cell_type": "code",
      "source": [
        "loss_valid_comp(keras_moreTransforms_history[\"val_loss\"], keras_moreTransforms_history[\"val_accuracy\"], keras_moreTransforms_results.epoch, prefix=\"Validation\")"
      ],
      "metadata": {
        "id": "nY2-bCMW0-pg",
        "colab": {
          "base_uri": "https://localhost:8080/",
          "height": 492
        },
        "outputId": "160e3d78-1ca7-43e1-8b25-80c7e53441b9"
      },
      "execution_count": null,
      "outputs": [
        {
          "output_type": "display_data",
          "data": {
            "text/plain": [
              "<Figure size 640x480 with 2 Axes>"
            ],
            "image/png": "[encoded data removed]"
          },
          "metadata": {}
        }
      ]
    },
    {
      "cell_type": "markdown",
      "source": [
        "3. Model Comparison with Keras Baseline"
      ],
      "metadata": {
        "id": "0VuOuTom2PxE"
      }
    },
    {
      "cell_type": "code",
      "source": [
        "model_comparison(\"Keras Reference Model\", model_reference_history[\"loss\"], model_reference_history[\"accuracy\"], \"Keras Image Transforms\", keras_moreTransforms_history[\"loss\"], keras_moreTransforms_history[\"accuracy\"])"
      ],
      "metadata": {
        "colab": {
          "base_uri": "https://localhost:8080/",
          "height": 958
        },
        "id": "sCG6dOB52JiI",
        "outputId": "49ad15db-83cb-4331-fa05-d3268a1606a3"
      },
      "execution_count": null,
      "outputs": [
        {
          "output_type": "stream",
          "name": "stdout",
          "text": [
            "Loss Difference:\n",
            " 0    0.024966\n",
            "1    0.129235\n",
            "2    0.224534\n",
            "3    0.004355\n",
            "4    0.001050\n",
            "5    0.001931\n",
            "6    0.012238\n",
            "7    0.036424\n",
            "8    0.008911\n",
            "9    0.003605\n",
            "Name: loss, dtype: float64\n",
            "Max Loss Difference: 0.22453433275222778\n",
            "Accuracy Difference:\n",
            " 0    0.071775\n",
            "1    0.151309\n",
            "2    0.135791\n",
            "3    0.002910\n",
            "4    0.001940\n",
            "5    0.001940\n",
            "6    0.000970\n",
            "7    0.008729\n",
            "8    0.002910\n",
            "9    0.000970\n",
            "Name: accuracy, dtype: float64\n",
            "Max Accuracy Difference: 0.15130943059921265\n"
          ]
        },
        {
          "output_type": "display_data",
          "data": {
            "text/plain": [
              "<Figure size 1200x500 with 2 Axes>"
            ],
            "image/png": "[encoded data removed]"
          },
          "metadata": {}
        }
      ]
    },
    {
      "cell_type": "code",
      "source": [
        "model_comparison(\"Keras Reference Model\", model_reference_history[\"val_loss\"], model_reference_history[\"val_accuracy\"], \"Keras Image Transforms\", keras_moreTransforms_history[\"val_loss\"], keras_moreTransforms_history[\"val_accuracy\"], prefix=\"Validation\")"
      ],
      "metadata": {
        "colab": {
          "base_uri": "https://localhost:8080/",
          "height": 958
        },
        "id": "9xb55YEH2pnw",
        "outputId": "e1b755f6-c3ba-4fa6-c2d6-71b06e177457"
      },
      "execution_count": null,
      "outputs": [
        {
          "output_type": "stream",
          "name": "stdout",
          "text": [
            "Loss Difference:\n",
            " 0    0.021191\n",
            "1    0.262862\n",
            "2    0.111198\n",
            "3    0.015702\n",
            "4    0.015471\n",
            "5    0.012836\n",
            "6    0.031992\n",
            "7    0.047542\n",
            "8    0.021194\n",
            "9    0.007150\n",
            "Name: val_loss, dtype: float64\n",
            "Max Loss Difference: 0.2628622055053711\n",
            "Accuracy Difference:\n",
            " 0    0.046512\n",
            "1    0.263566\n",
            "2    0.050388\n",
            "3    0.011628\n",
            "4    0.011628\n",
            "5    0.011628\n",
            "6    0.011628\n",
            "7    0.011628\n",
            "8    0.003876\n",
            "9    0.003876\n",
            "Name: val_accuracy, dtype: float64\n",
            "Max Accuracy Difference: 0.26356589794158936\n"
          ]
        },
        {
          "output_type": "display_data",
          "data": {
            "text/plain": [
              "<Figure size 1200x500 with 2 Axes>"
            ],
            "image/png": "[encoded data removed]"
          },
          "metadata": {}
        }
      ]
    },
    {
      "cell_type": "markdown",
      "source": [
        "##### STEP 2: vs. Model 2"
      ],
      "metadata": {
        "id": "ZCQCaAT-0sbU"
      }
    },
    {
      "cell_type": "markdown",
      "source": [
        "1. Training of Optimized Model 2"
      ],
      "metadata": {
        "id": "V0IlYCwb01xA"
      }
    },
    {
      "cell_type": "code",
      "source": [],
      "metadata": {
        "id": "v8XEHXZO03mt"
      },
      "execution_count": null,
      "outputs": []
    },
    {
      "cell_type": "markdown",
      "source": [
        "2. Visualization of Original PyTorch vs. Optimized Model 2"
      ],
      "metadata": {
        "id": "hTJXrhBb0877"
      }
    },
    {
      "cell_type": "code",
      "source": [],
      "metadata": {
        "id": "8b7txdkV0-_w"
      },
      "execution_count": null,
      "outputs": []
    },
    {
      "cell_type": "markdown",
      "source": [
        "##### STEP 3: vs. Model 3"
      ],
      "metadata": {
        "id": "HDCKER3H0tuQ"
      }
    },
    {
      "cell_type": "markdown",
      "source": [
        "1. Training of Optimized Model 3"
      ],
      "metadata": {
        "id": "zkRYnBDw02n6"
      }
    },
    {
      "cell_type": "code",
      "source": [],
      "metadata": {
        "id": "RtHd-9mb036O"
      },
      "execution_count": null,
      "outputs": []
    },
    {
      "cell_type": "markdown",
      "source": [
        "2. Visualization of Original PyTorch vs. Optimized Model 3"
      ],
      "metadata": {
        "id": "3dw7T6fq3wxK"
      }
    },
    {
      "cell_type": "code",
      "source": [],
      "metadata": {
        "id": "03qsdfQQ3xxz"
      },
      "execution_count": null,
      "outputs": []
    },
    {
      "cell_type": "markdown",
      "source": [],
      "metadata": {
        "id": "6DpovVM9m3_z"
      }
    },
    {
      "cell_type": "markdown",
      "source": [
        "## PART 7: Original PyTorch vs. Optimized Models"
      ],
      "metadata": {
        "id": "OQn1RmKOm4l5"
      }
    },
    {
      "cell_type": "markdown",
      "source": [
        "##### STEP 1: vs. Model 1"
      ],
      "metadata": {
        "id": "fxgwDmDjm4l5"
      }
    },
    {
      "cell_type": "code",
      "execution_count": null,
      "metadata": {
        "id": "P5NaKlw6m4l5"
      },
      "outputs": [],
      "source": [
        "transform = transforms.Compose([\n",
        "    transforms.Resize((IMG_SIZE, IMG_SIZE)),\n",
        "    transforms.RandomHorizontalFlip(),\n",
        "    transforms.RandomVerticalFlip(),\n",
        "    transforms.RandomRotation(degrees=15),\n",
        "    transforms.ColorJitter(brightness=0.1, contrast=0.1, saturation=0.1, hue=0.1),\n",
        "    transforms.ToTensor(),\n",
        "    transforms.Normalize(mean=[0.485,0.456,0.406], std=[0.229,0.224,0.225]),\n",
        "])"
      ]
    },
    {
      "cell_type": "code",
      "source": [
        "from tensorflow.keras.utils import to_categorical\n",
        "\n",
        "def process_data(dataset, path):\n",
        "    data = []\n",
        "    labels = []\n",
        "\n",
        "    for _, row in dataset.iterrows():\n",
        "        image_path = ''.join([path, row[\"images_id\"], '.jpg'])\n",
        "\n",
        "        try:\n",
        "            img = Image.open(image_path)\n",
        "            img_tensor = transform(img)\n",
        "            data.append(img_tensor.permute(1, 2, 0).numpy())\n",
        "            labels.append(row[\"label\"])\n",
        "\n",
        "        except Exception as e:\n",
        "            print(f\"Error loading or processing image {image_path}: {e}\")\n",
        "\n",
        "    num_classes = len(set(labels))\n",
        "\n",
        "    return np.array(data), to_categorical(np.array(labels), num_classes=num_classes)"
      ],
      "metadata": {
        "id": "t3aIt05Wm4l5"
      },
      "execution_count": null,
      "outputs": []
    },
    {
      "cell_type": "code",
      "source": [
        "train_loader = DataLoader(list(df_train_RealVFake.itertuples(index=False)), batch_size=BATCH_SIZE, shuffle=True, generator=GENERATOR)\n",
        "val_loader = DataLoader(list(df_test_RealVFake.itertuples(index=False)), batch_size=BATCH_SIZE, shuffle=False)"
      ],
      "metadata": {
        "id": "-t33TyZBqpVq"
      },
      "execution_count": null,
      "outputs": []
    },
    {
      "cell_type": "markdown",
      "source": [
        "1. Training of Optimized Model 1"
      ],
      "metadata": {
        "id": "Uh4JF76nm4l5"
      }
    },
    {
      "cell_type": "code",
      "source": [
        "model_reference.compile(\n",
        "    optimizer='adam',\n",
        "    loss='categorical_crossentropy',\n",
        "    metrics=['accuracy']\n",
        "    )\n",
        "\n",
        "model_reference_results = model_reference.fit(fakeVReal_TrainData, fakeVReal_TrainLabels, epochs=EPOCHS, validation_data=(fakeVReal_TestData, fakeVReal_TestLabels))\n",
        "model_reference_history = pd.DataFrame(model_reference_results.history)"
      ],
      "metadata": {
        "colab": {
          "base_uri": "https://localhost:8080/"
        },
        "outputId": "0b0e329d-8d77-4797-8e2e-0cdcbd138444",
        "id": "6c5D4Q5Jm4l5"
      },
      "execution_count": null,
      "outputs": [
        {
          "output_type": "stream",
          "name": "stdout",
          "text": [
            "Epoch 1/10\n",
            "\u001b[1m33/33\u001b[0m \u001b[32m━━━━━━━━━━━━━━━━━━━━\u001b[0m\u001b[37m\u001b[0m \u001b[1m20s\u001b[0m 273ms/step - accuracy: 0.5813 - loss: 0.8025 - val_accuracy: 0.6705 - val_loss: 0.5248\n",
            "Epoch 2/10\n",
            "\u001b[1m33/33\u001b[0m \u001b[32m━━━━━━━━━━━━━━━━━━━━\u001b[0m\u001b[37m\u001b[0m \u001b[1m6s\u001b[0m 81ms/step - accuracy: 0.7515 - loss: 0.4435 - val_accuracy: 0.9651 - val_loss: 0.1117\n",
            "Epoch 3/10\n",
            "\u001b[1m33/33\u001b[0m \u001b[32m━━━━━━━━━━━━━━━━━━━━\u001b[0m\u001b[37m\u001b[0m \u001b[1m5s\u001b[0m 78ms/step - accuracy: 0.9685 - loss: 0.0913 - val_accuracy: 0.9767 - val_loss: 0.0810\n",
            "Epoch 4/10\n",
            "\u001b[1m33/33\u001b[0m \u001b[32m━━━━━━━━━━━━━━━━━━━━\u001b[0m\u001b[37m\u001b[0m \u001b[1m3s\u001b[0m 81ms/step - accuracy: 0.9889 - loss: 0.0287 - val_accuracy: 0.9651 - val_loss: 0.0850\n",
            "Epoch 5/10\n",
            "\u001b[1m33/33\u001b[0m \u001b[32m━━━━━━━━━━━━━━━━━━━━\u001b[0m\u001b[37m\u001b[0m \u001b[1m3s\u001b[0m 79ms/step - accuracy: 0.9935 - loss: 0.0312 - val_accuracy: 0.9806 - val_loss: 0.0670\n",
            "Epoch 6/10\n",
            "\u001b[1m33/33\u001b[0m \u001b[32m━━━━━━━━━━━━━━━━━━━━\u001b[0m\u001b[37m\u001b[0m \u001b[1m5s\u001b[0m 78ms/step - accuracy: 0.9971 - loss: 0.0211 - val_accuracy: 0.9767 - val_loss: 0.1322\n",
            "Epoch 7/10\n",
            "\u001b[1m33/33\u001b[0m \u001b[32m━━━━━━━━━━━━━━━━━━━━\u001b[0m\u001b[37m\u001b[0m \u001b[1m5s\u001b[0m 80ms/step - accuracy: 0.9727 - loss: 0.0687 - val_accuracy: 0.9767 - val_loss: 0.1942\n",
            "Epoch 8/10\n",
            "\u001b[1m33/33\u001b[0m \u001b[32m━━━━━━━━━━━━━━━━━━━━\u001b[0m\u001b[37m\u001b[0m \u001b[1m3s\u001b[0m 79ms/step - accuracy: 0.9932 - loss: 0.0178 - val_accuracy: 0.9651 - val_loss: 0.2081\n",
            "Epoch 9/10\n",
            "\u001b[1m33/33\u001b[0m \u001b[32m━━━━━━━━━━━━━━━━━━━━\u001b[0m\u001b[37m\u001b[0m \u001b[1m5s\u001b[0m 81ms/step - accuracy: 0.9836 - loss: 0.0905 - val_accuracy: 0.9767 - val_loss: 0.0749\n",
            "Epoch 10/10\n",
            "\u001b[1m33/33\u001b[0m \u001b[32m━━━━━━━━━━━━━━━━━━━━\u001b[0m\u001b[37m\u001b[0m \u001b[1m5s\u001b[0m 80ms/step - accuracy: 0.9969 - loss: 0.0139 - val_accuracy: 0.9884 - val_loss: 0.0523\n"
          ]
        }
      ]
    },
    {
      "cell_type": "code",
      "source": [
        "model_reference_results.history"
      ],
      "metadata": {
        "colab": {
          "base_uri": "https://localhost:8080/"
        },
        "outputId": "2ba0da77-d38c-4479-ed05-1d7582eedd05",
        "id": "TDPV7kCdm4l5"
      },
      "execution_count": null,
      "outputs": [
        {
          "output_type": "execute_result",
          "data": {
            "text/plain": [
              "{'accuracy': [0.6343355774879456,\n",
              "  0.8205625414848328,\n",
              "  0.9602327942848206,\n",
              "  0.9893307685852051,\n",
              "  0.9912706017494202,\n",
              "  0.9980601072311401,\n",
              "  0.9854510426521301,\n",
              "  0.9864209294319153,\n",
              "  0.9883608222007751,\n",
              "  0.9951503276824951],\n",
              " 'loss': [0.6839169859886169,\n",
              "  0.3619377613067627,\n",
              "  0.10733123868703842,\n",
              "  0.04231804236769676,\n",
              "  0.03362250328063965,\n",
              "  0.011782253161072731,\n",
              "  0.039623185992240906,\n",
              "  0.04709678143262863,\n",
              "  0.04903051629662514,\n",
              "  0.014351658523082733],\n",
              " 'val_accuracy': [0.6705426573753357,\n",
              "  0.9651162624359131,\n",
              "  0.9767441749572754,\n",
              "  0.9651162624359131,\n",
              "  0.9806201457977295,\n",
              "  0.9767441749572754,\n",
              "  0.9767441749572754,\n",
              "  0.9651162624359131,\n",
              "  0.9767441749572754,\n",
              "  0.9883720874786377],\n",
              " 'val_loss': [0.5247946977615356,\n",
              "  0.11165475100278854,\n",
              "  0.08098664879798889,\n",
              "  0.08503235131502151,\n",
              "  0.067027747631073,\n",
              "  0.13218361139297485,\n",
              "  0.19421136379241943,\n",
              "  0.20809786021709442,\n",
              "  0.0748814269900322,\n",
              "  0.0523395761847496]}"
            ]
          },
          "metadata": {},
          "execution_count": 21
        }
      ]
    },
    {
      "cell_type": "code",
      "source": [
        "model_reference_history.to_csv(''.join(['/content/', project_folder, \"/model_reference_history_moreTransforms.csv\"]))\n",
        "model_reference_history"
      ],
      "metadata": {
        "colab": {
          "base_uri": "https://localhost:8080/",
          "height": 363
        },
        "outputId": "e44fd430-3d66-4376-f941-a532e5984f05",
        "id": "jvh4lz4Km4l5"
      },
      "execution_count": null,
      "outputs": [
        {
          "output_type": "execute_result",
          "data": {
            "text/plain": [
              "   accuracy      loss  val_accuracy  val_loss\n",
              "0  0.634336  0.683917      0.670543  0.524795\n",
              "1  0.820563  0.361938      0.965116  0.111655\n",
              "2  0.960233  0.107331      0.976744  0.080987\n",
              "3  0.989331  0.042318      0.965116  0.085032\n",
              "4  0.991271  0.033623      0.980620  0.067028\n",
              "5  0.998060  0.011782      0.976744  0.132184\n",
              "6  0.985451  0.039623      0.976744  0.194211\n",
              "7  0.986421  0.047097      0.965116  0.208098\n",
              "8  0.988361  0.049031      0.976744  0.074881\n",
              "9  0.995150  0.014352      0.988372  0.052340"
            ],
            "text/html": [
              "\n",
              "  <div id=\"df-89ce442f-17fe-40a0-b81c-0632e2f9d92e\" class=\"colab-df-container\">\n",
              "    <div>\n",
              "<style scoped>\n",
              "    .dataframe tbody tr th:only-of-type {\n",
              "        vertical-align: middle;\n",
              "    }\n",
              "\n",
              "    .dataframe tbody tr th {\n",
              "        vertical-align: top;\n",
              "    }\n",
              "\n",
              "    .dataframe thead th {\n",
              "        text-align: right;\n",
              "    }\n",
              "</style>\n",
              "<table border=\"1\" class=\"dataframe\">\n",
              "  <thead>\n",
              "    <tr style=\"text-align: right;\">\n",
              "      <th></th>\n",
              "      <th>accuracy</th>\n",
              "      <th>loss</th>\n",
              "      <th>val_accuracy</th>\n",
              "      <th>val_loss</th>\n",
              "    </tr>\n",
              "  </thead>\n",
              "  <tbody>\n",
              "    <tr>\n",
              "      <th>0</th>\n",
              "      <td>0.634336</td>\n",
              "      <td>0.683917</td>\n",
              "      <td>0.670543</td>\n",
              "      <td>0.524795</td>\n",
              "    </tr>\n",
              "    <tr>\n",
              "      <th>1</th>\n",
              "      <td>0.820563</td>\n",
              "      <td>0.361938</td>\n",
              "      <td>0.965116</td>\n",
              "      <td>0.111655</td>\n",
              "    </tr>\n",
              "    <tr>\n",
              "      <th>2</th>\n",
              "      <td>0.960233</td>\n",
              "      <td>0.107331</td>\n",
              "      <td>0.976744</td>\n",
              "      <td>0.080987</td>\n",
              "    </tr>\n",
              "    <tr>\n",
              "      <th>3</th>\n",
              "      <td>0.989331</td>\n",
              "      <td>0.042318</td>\n",
              "      <td>0.965116</td>\n",
              "      <td>0.085032</td>\n",
              "    </tr>\n",
              "    <tr>\n",
              "      <th>4</th>\n",
              "      <td>0.991271</td>\n",
              "      <td>0.033623</td>\n",
              "      <td>0.980620</td>\n",
              "      <td>0.067028</td>\n",
              "    </tr>\n",
              "    <tr>\n",
              "      <th>5</th>\n",
              "      <td>0.998060</td>\n",
              "      <td>0.011782</td>\n",
              "      <td>0.976744</td>\n",
              "      <td>0.132184</td>\n",
              "    </tr>\n",
              "    <tr>\n",
              "      <th>6</th>\n",
              "      <td>0.985451</td>\n",
              "      <td>0.039623</td>\n",
              "      <td>0.976744</td>\n",
              "      <td>0.194211</td>\n",
              "    </tr>\n",
              "    <tr>\n",
              "      <th>7</th>\n",
              "      <td>0.986421</td>\n",
              "      <td>0.047097</td>\n",
              "      <td>0.965116</td>\n",
              "      <td>0.208098</td>\n",
              "    </tr>\n",
              "    <tr>\n",
              "      <th>8</th>\n",
              "      <td>0.988361</td>\n",
              "      <td>0.049031</td>\n",
              "      <td>0.976744</td>\n",
              "      <td>0.074881</td>\n",
              "    </tr>\n",
              "    <tr>\n",
              "      <th>9</th>\n",
              "      <td>0.995150</td>\n",
              "      <td>0.014352</td>\n",
              "      <td>0.988372</td>\n",
              "      <td>0.052340</td>\n",
              "    </tr>\n",
              "  </tbody>\n",
              "</table>\n",
              "</div>\n",
              "    <div class=\"colab-df-buttons\">\n",
              "\n",
              "  <div class=\"colab-df-container\">\n",
              "    <button class=\"colab-df-convert\" onclick=\"convertToInteractive('df-89ce442f-17fe-40a0-b81c-0632e2f9d92e')\"\n",
              "            title=\"Convert this dataframe to an interactive table.\"\n",
              "            style=\"display:none;\">\n",
              "\n",
              "  <svg xmlns=\"http://www.w3.org/2000/svg\" height=\"24px\" viewBox=\"0 -960 960 960\">\n",
              "    <path d=\"M120-120v-720h720v720H120Zm60-500h600v-160H180v160Zm220 220h160v-160H400v160Zm0 220h160v-160H400v160ZM180-400h160v-160H180v160Zm440 0h160v-160H620v160ZM180-180h160v-160H180v160Zm440 0h160v-160H620v160Z\"/>\n",
              "  </svg>\n",
              "    </button>\n",
              "\n",
              "  <style>\n",
              "    .colab-df-container {\n",
              "      display:flex;\n",
              "      gap: 12px;\n",
              "    }\n",
              "\n",
              "    .colab-df-convert {\n",
              "      background-color: #E8F0FE;\n",
              "      border: none;\n",
              "      border-radius: 50%;\n",
              "      cursor: pointer;\n",
              "      display: none;\n",
              "      fill: #1967D2;\n",
              "      height: 32px;\n",
              "      padding: 0 0 0 0;\n",
              "      width: 32px;\n",
              "    }\n",
              "\n",
              "    .colab-df-convert:hover {\n",
              "      background-color: #E2EBFA;\n",
              "      box-shadow: 0px 1px 2px rgba(60, 64, 67, 0.3), 0px 1px 3px 1px rgba(60, 64, 67, 0.15);\n",
              "      fill: #174EA6;\n",
              "    }\n",
              "\n",
              "    .colab-df-buttons div {\n",
              "      margin-bottom: 4px;\n",
              "    }\n",
              "\n",
              "    [theme=dark] .colab-df-convert {\n",
              "      background-color: #3B4455;\n",
              "      fill: #D2E3FC;\n",
              "    }\n",
              "\n",
              "    [theme=dark] .colab-df-convert:hover {\n",
              "      background-color: #434B5C;\n",
              "      box-shadow: 0px 1px 3px 1px rgba(0, 0, 0, 0.15);\n",
              "      filter: drop-shadow(0px 1px 2px rgba(0, 0, 0, 0.3));\n",
              "      fill: #FFFFFF;\n",
              "    }\n",
              "  </style>\n",
              "\n",
              "    <script>\n",
              "      const buttonEl =\n",
              "        document.querySelector('#df-89ce442f-17fe-40a0-b81c-0632e2f9d92e button.colab-df-convert');\n",
              "      buttonEl.style.display =\n",
              "        google.colab.kernel.accessAllowed ? 'block' : 'none';\n",
              "\n",
              "      async function convertToInteractive(key) {\n",
              "        const element = document.querySelector('#df-89ce442f-17fe-40a0-b81c-0632e2f9d92e');\n",
              "        const dataTable =\n",
              "          await google.colab.kernel.invokeFunction('convertToInteractive',\n",
              "                                                    [key], {});\n",
              "        if (!dataTable) return;\n",
              "\n",
              "        const docLinkHtml = 'Like what you see? Visit the ' +\n",
              "          '<a target=\"_blank\" href=https://colab.research.google.com/notebooks/data_table.ipynb>data table notebook</a>'\n",
              "          + ' to learn more about interactive tables.';\n",
              "        element.innerHTML = '';\n",
              "        dataTable['output_type'] = 'display_data';\n",
              "        await google.colab.output.renderOutput(dataTable, element);\n",
              "        const docLink = document.createElement('div');\n",
              "        docLink.innerHTML = docLinkHtml;\n",
              "        element.appendChild(docLink);\n",
              "      }\n",
              "    </script>\n",
              "  </div>\n",
              "\n",
              "\n",
              "<div id=\"df-ca979a02-3b1a-456b-8969-eba57b88bb41\">\n",
              "  <button class=\"colab-df-quickchart\" onclick=\"quickchart('df-ca979a02-3b1a-456b-8969-eba57b88bb41')\"\n",
              "            title=\"Suggest charts\"\n",
              "            style=\"display:none;\">\n",
              "\n",
              "<svg xmlns=\"http://www.w3.org/2000/svg\" height=\"24px\"viewBox=\"0 0 24 24\"\n",
              "     width=\"24px\">\n",
              "    <g>\n",
              "        <path d=\"M19 3H5c-1.1 0-2 .9-2 2v14c0 1.1.9 2 2 2h14c1.1 0 2-.9 2-2V5c0-1.1-.9-2-2-2zM9 17H7v-7h2v7zm4 0h-2V7h2v10zm4 0h-2v-4h2v4z\"/>\n",
              "    </g>\n",
              "</svg>\n",
              "  </button>\n",
              "\n",
              "<style>\n",
              "  .colab-df-quickchart {\n",
              "      --bg-color: #E8F0FE;\n",
              "      --fill-color: #1967D2;\n",
              "      --hover-bg-color: #E2EBFA;\n",
              "      --hover-fill-color: #174EA6;\n",
              "      --disabled-fill-color: #AAA;\n",
              "      --disabled-bg-color: #DDD;\n",
              "  }\n",
              "\n",
              "  [theme=dark] .colab-df-quickchart {\n",
              "      --bg-color: #3B4455;\n",
              "      --fill-color: #D2E3FC;\n",
              "      --hover-bg-color: #434B5C;\n",
              "      --hover-fill-color: #FFFFFF;\n",
              "      --disabled-bg-color: #3B4455;\n",
              "      --disabled-fill-color: #666;\n",
              "  }\n",
              "\n",
              "  .colab-df-quickchart {\n",
              "    background-color: var(--bg-color);\n",
              "    border: none;\n",
              "    border-radius: 50%;\n",
              "    cursor: pointer;\n",
              "    display: none;\n",
              "    fill: var(--fill-color);\n",
              "    height: 32px;\n",
              "    padding: 0;\n",
              "    width: 32px;\n",
              "  }\n",
              "\n",
              "  .colab-df-quickchart:hover {\n",
              "    background-color: var(--hover-bg-color);\n",
              "    box-shadow: 0 1px 2px rgba(60, 64, 67, 0.3), 0 1px 3px 1px rgba(60, 64, 67, 0.15);\n",
              "    fill: var(--button-hover-fill-color);\n",
              "  }\n",
              "\n",
              "  .colab-df-quickchart-complete:disabled,\n",
              "  .colab-df-quickchart-complete:disabled:hover {\n",
              "    background-color: var(--disabled-bg-color);\n",
              "    fill: var(--disabled-fill-color);\n",
              "    box-shadow: none;\n",
              "  }\n",
              "\n",
              "  .colab-df-spinner {\n",
              "    border: 2px solid var(--fill-color);\n",
              "    border-color: transparent;\n",
              "    border-bottom-color: var(--fill-color);\n",
              "    animation:\n",
              "      spin 1s steps(1) infinite;\n",
              "  }\n",
              "\n",
              "  @keyframes spin {\n",
              "    0% {\n",
              "      border-color: transparent;\n",
              "      border-bottom-color: var(--fill-color);\n",
              "      border-left-color: var(--fill-color);\n",
              "    }\n",
              "    20% {\n",
              "      border-color: transparent;\n",
              "      border-left-color: var(--fill-color);\n",
              "      border-top-color: var(--fill-color);\n",
              "    }\n",
              "    30% {\n",
              "      border-color: transparent;\n",
              "      border-left-color: var(--fill-color);\n",
              "      border-top-color: var(--fill-color);\n",
              "      border-right-color: var(--fill-color);\n",
              "    }\n",
              "    40% {\n",
              "      border-color: transparent;\n",
              "      border-right-color: var(--fill-color);\n",
              "      border-top-color: var(--fill-color);\n",
              "    }\n",
              "    60% {\n",
              "      border-color: transparent;\n",
              "      border-right-color: var(--fill-color);\n",
              "    }\n",
              "    80% {\n",
              "      border-color: transparent;\n",
              "      border-right-color: var(--fill-color);\n",
              "      border-bottom-color: var(--fill-color);\n",
              "    }\n",
              "    90% {\n",
              "      border-color: transparent;\n",
              "      border-bottom-color: var(--fill-color);\n",
              "    }\n",
              "  }\n",
              "</style>\n",
              "\n",
              "  <script>\n",
              "    async function quickchart(key) {\n",
              "      const quickchartButtonEl =\n",
              "        document.querySelector('#' + key + ' button');\n",
              "      quickchartButtonEl.disabled = true;  // To prevent multiple clicks.\n",
              "      quickchartButtonEl.classList.add('colab-df-spinner');\n",
              "      try {\n",
              "        const charts = await google.colab.kernel.invokeFunction(\n",
              "            'suggestCharts', [key], {});\n",
              "      } catch (error) {\n",
              "        console.error('Error during call to suggestCharts:', error);\n",
              "      }\n",
              "      quickchartButtonEl.classList.remove('colab-df-spinner');\n",
              "      quickchartButtonEl.classList.add('colab-df-quickchart-complete');\n",
              "    }\n",
              "    (() => {\n",
              "      let quickchartButtonEl =\n",
              "        document.querySelector('#df-ca979a02-3b1a-456b-8969-eba57b88bb41 button');\n",
              "      quickchartButtonEl.style.display =\n",
              "        google.colab.kernel.accessAllowed ? 'block' : 'none';\n",
              "    })();\n",
              "  </script>\n",
              "</div>\n",
              "\n",
              "  <div id=\"id_cb314463-c101-42a0-8ef0-22356b9cadad\">\n",
              "    <style>\n",
              "      .colab-df-generate {\n",
              "        background-color: #E8F0FE;\n",
              "        border: none;\n",
              "        border-radius: 50%;\n",
              "        cursor: pointer;\n",
              "        display: none;\n",
              "        fill: #1967D2;\n",
              "        height: 32px;\n",
              "        padding: 0 0 0 0;\n",
              "        width: 32px;\n",
              "      }\n",
              "\n",
              "      .colab-df-generate:hover {\n",
              "        background-color: #E2EBFA;\n",
              "        box-shadow: 0px 1px 2px rgba(60, 64, 67, 0.3), 0px 1px 3px 1px rgba(60, 64, 67, 0.15);\n",
              "        fill: #174EA6;\n",
              "      }\n",
              "\n",
              "      [theme=dark] .colab-df-generate {\n",
              "        background-color: #3B4455;\n",
              "        fill: #D2E3FC;\n",
              "      }\n",
              "\n",
              "      [theme=dark] .colab-df-generate:hover {\n",
              "        background-color: #434B5C;\n",
              "        box-shadow: 0px 1px 3px 1px rgba(0, 0, 0, 0.15);\n",
              "        filter: drop-shadow(0px 1px 2px rgba(0, 0, 0, 0.3));\n",
              "        fill: #FFFFFF;\n",
              "      }\n",
              "    </style>\n",
              "    <button class=\"colab-df-generate\" onclick=\"generateWithVariable('model_reference_history')\"\n",
              "            title=\"Generate code using this dataframe.\"\n",
              "            style=\"display:none;\">\n",
              "\n",
              "  <svg xmlns=\"http://www.w3.org/2000/svg\" height=\"24px\"viewBox=\"0 0 24 24\"\n",
              "       width=\"24px\">\n",
              "    <path d=\"M7,19H8.4L18.45,9,17,7.55,7,17.6ZM5,21V16.75L18.45,3.32a2,2,0,0,1,2.83,0l1.4,1.43a1.91,1.91,0,0,1,.58,1.4,1.91,1.91,0,0,1-.58,1.4L9.25,21ZM18.45,9,17,7.55Zm-12,3A5.31,5.31,0,0,0,4.9,8.1,5.31,5.31,0,0,0,1,6.5,5.31,5.31,0,0,0,4.9,4.9,5.31,5.31,0,0,0,6.5,1,5.31,5.31,0,0,0,8.1,4.9,5.31,5.31,0,0,0,12,6.5,5.46,5.46,0,0,0,6.5,12Z\"/>\n",
              "  </svg>\n",
              "    </button>\n",
              "    <script>\n",
              "      (() => {\n",
              "      const buttonEl =\n",
              "        document.querySelector('#id_cb314463-c101-42a0-8ef0-22356b9cadad button.colab-df-generate');\n",
              "      buttonEl.style.display =\n",
              "        google.colab.kernel.accessAllowed ? 'block' : 'none';\n",
              "\n",
              "      buttonEl.onclick = () => {\n",
              "        google.colab.notebook.generateWithVariable('model_reference_history');\n",
              "      }\n",
              "      })();\n",
              "    </script>\n",
              "  </div>\n",
              "\n",
              "    </div>\n",
              "  </div>\n"
            ],
            "application/vnd.google.colaboratory.intrinsic+json": {
              "type": "dataframe",
              "variable_name": "model_reference_history",
              "summary": "{\n  \"name\": \"model_reference_history\",\n  \"rows\": 10,\n  \"fields\": [\n    {\n      \"column\": \"accuracy\",\n      \"properties\": {\n        \"dtype\": \"number\",\n        \"std\": 0.11826585020401624,\n        \"min\": 0.6343355774879456,\n        \"max\": 0.9980601072311401,\n        \"num_unique_values\": 10,\n        \"samples\": [\n          0.9883608222007751,\n          0.8205625414848328,\n          0.9980601072311401\n        ],\n        \"semantic_type\": \"\",\n        \"description\": \"\"\n      }\n    },\n    {\n      \"column\": \"loss\",\n      \"properties\": {\n        \"dtype\": \"number\",\n        \"std\": 0.21762057141183933,\n        \"min\": 0.011782253161072731,\n        \"max\": 0.6839169859886169,\n        \"num_unique_values\": 10,\n        \"samples\": [\n          0.04903051629662514,\n          0.3619377613067627,\n          0.011782253161072731\n        ],\n        \"semantic_type\": \"\",\n        \"description\": \"\"\n      }\n    },\n    {\n      \"column\": \"val_accuracy\",\n      \"properties\": {\n        \"dtype\": \"number\",\n        \"std\": 0.09644509258442684,\n        \"min\": 0.6705426573753357,\n        \"max\": 0.9883720874786377,\n        \"num_unique_values\": 5,\n        \"samples\": [\n          0.9651162624359131,\n          0.9883720874786377,\n          0.9767441749572754\n        ],\n        \"semantic_type\": \"\",\n        \"description\": \"\"\n      }\n    },\n    {\n      \"column\": \"val_loss\",\n      \"properties\": {\n        \"dtype\": \"number\",\n        \"std\": 0.14084658233095299,\n        \"min\": 0.0523395761847496,\n        \"max\": 0.5247946977615356,\n        \"num_unique_values\": 10,\n        \"samples\": [\n          0.0748814269900322,\n          0.11165475100278854,\n          0.13218361139297485\n        ],\n        \"semantic_type\": \"\",\n        \"description\": \"\"\n      }\n    }\n  ]\n}"
            }
          },
          "metadata": {},
          "execution_count": 24
        }
      ]
    },
    {
      "cell_type": "markdown",
      "source": [
        "2. Visualization of Original PyTorch vs. Optimized Model 1"
      ],
      "metadata": {
        "id": "6axgfI6-m4l5"
      }
    },
    {
      "cell_type": "code",
      "source": [
        "loss_valid_comp(model_reference_history[\"loss\"], model_reference_history[\"accuracy\"], model_reference_results.epoch)"
      ],
      "metadata": {
        "colab": {
          "base_uri": "https://localhost:8080/",
          "height": 492
        },
        "outputId": "89c21364-066e-465c-cb84-00edcdfcfacb",
        "id": "txM6koypm4l6"
      },
      "execution_count": null,
      "outputs": [
        {
          "output_type": "display_data",
          "data": {
            "text/plain": [
              "<Figure size 640x480 with 2 Axes>"
            ],
            "image/png": "[encoded data removed]"
          },
          "metadata": {}
        }
      ]
    },
    {
      "cell_type": "code",
      "source": [
        "loss_valid_comp(model_reference_history[\"val_loss\"], model_reference_history[\"val_accuracy\"], model_reference_results.epoch, prefix=\"Validation\")"
      ],
      "metadata": {
        "colab": {
          "base_uri": "https://localhost:8080/",
          "height": 492
        },
        "outputId": "8c6ec80b-4a81-4959-f355-fc2263238257",
        "id": "OdyCmm8Rm4l6"
      },
      "execution_count": null,
      "outputs": [
        {
          "output_type": "display_data",
          "data": {
            "text/plain": [
              "<Figure size 640x480 with 2 Axes>"
            ],
            "image/png": "[encoded data removed]"
          },
          "metadata": {}
        }
      ]
    },
    {
      "cell_type": "markdown",
      "source": [
        "##### STEP 2: vs. Model 2"
      ],
      "metadata": {
        "id": "h4YrH_Jum4l6"
      }
    },
    {
      "cell_type": "markdown",
      "source": [
        "1. Training of Optimized Model 2"
      ],
      "metadata": {
        "id": "QuQH7C_am4l6"
      }
    },
    {
      "cell_type": "code",
      "source": [],
      "metadata": {
        "id": "qksNyui2m4l6"
      },
      "execution_count": null,
      "outputs": []
    },
    {
      "cell_type": "markdown",
      "source": [
        "2. Visualization of Original PyTorch vs. Optimized Model 2"
      ],
      "metadata": {
        "id": "EkhjJRIhm4l6"
      }
    },
    {
      "cell_type": "code",
      "source": [],
      "metadata": {
        "id": "11pZY0yAm4l6"
      },
      "execution_count": null,
      "outputs": []
    },
    {
      "cell_type": "markdown",
      "source": [
        "##### STEP 3: vs. Model 3"
      ],
      "metadata": {
        "id": "OKRZk6Whm4l6"
      }
    },
    {
      "cell_type": "markdown",
      "source": [
        "1. Training of Optimized Model 3"
      ],
      "metadata": {
        "id": "nw6U4TP0m4l6"
      }
    },
    {
      "cell_type": "code",
      "source": [],
      "metadata": {
        "id": "8b7BMrZmm4l6"
      },
      "execution_count": null,
      "outputs": []
    },
    {
      "cell_type": "markdown",
      "source": [
        "2. Visualization of Original PyTorch vs. Optimized Model 3"
      ],
      "metadata": {
        "id": "dHCuJslbm4l6"
      }
    },
    {
      "cell_type": "code",
      "source": [],
      "metadata": {
        "id": "vQqQmNJmm4l6"
      },
      "execution_count": null,
      "outputs": []
    },
    {
      "cell_type": "markdown",
      "source": [],
      "metadata": {
        "id": "qIYspngOnJTK"
      }
    },
    {
      "cell_type": "markdown",
      "source": [
        "## PART 8: Keras vs. PyTorch"
      ],
      "metadata": {
        "id": "QyFezI13nJnp"
      }
    },
    {
      "cell_type": "markdown",
      "source": [
        "##### STEP 1: Model 1 Comparison"
      ],
      "metadata": {
        "id": "5qL5OYRfnJnp"
      }
    },
    {
      "cell_type": "code",
      "source": [],
      "metadata": {
        "id": "ijzmqHTEracz"
      },
      "execution_count": null,
      "outputs": []
    },
    {
      "cell_type": "markdown",
      "source": [
        "##### STEP 2: Model 2 Comparison"
      ],
      "metadata": {
        "id": "jKCR2RcdnJnq"
      }
    },
    {
      "cell_type": "code",
      "source": [],
      "metadata": {
        "id": "rIESQsiqraqi"
      },
      "execution_count": null,
      "outputs": []
    },
    {
      "cell_type": "markdown",
      "source": [
        "##### STEP 3: Model 4 Comparison"
      ],
      "metadata": {
        "id": "-1JUhIelnJnq"
      }
    },
    {
      "cell_type": "code",
      "source": [],
      "metadata": {
        "id": "k3UvHCy7rbEn"
      },
      "execution_count": null,
      "outputs": []
    },
    {
      "cell_type": "markdown",
      "source": [
        "## References\n",
        "\n",
        "1. https://towardsdatascience.com/efficiently-iterating-over-rows-in-a-pandas-dataframe-7dd5f9992c01/"
      ],
      "metadata": {
        "id": "qP1DxQebcMpZ"
      }
    }
  ],
  "metadata": {
    "colab": {
      "provenance": [],
      "gpuType": "T4",
      "collapsed_sections": [
        "yNIzKI3mTyaX",
        "imnIk_fNUG2d",
        "-msUP7QX_kQE",
        "OQn1RmKOm4l5"
      ]
    },
    "kernelspec": {
      "display_name": "Python 3",
      "name": "python3"
    },
    "language_info": {
      "name": "python"
    },
    "accelerator": "GPU"
  },
  "nbformat": 4,
  "nbformat_minor": 0
}